{
 "cells": [
  {
   "cell_type": "code",
   "execution_count": 1,
   "id": "7259ae21",
   "metadata": {},
   "outputs": [],
   "source": [
    "import numpy as np\n",
    "import matplotlib.pyplot as plt\n",
    "\n",
    "\n",
    "\n"
   ]
  },
  {
   "cell_type": "code",
   "execution_count": 2,
   "id": "369b4982",
   "metadata": {},
   "outputs": [],
   "source": [
    "from IPython.core.interactiveshell import InteractiveShell\n",
    "InteractiveShell.ast_node_interactivity=\"all\"\n"
   ]
  },
  {
   "cell_type": "markdown",
   "id": "7aacb75a",
   "metadata": {},
   "source": [
    "### array\n",
    "- 많은 숫자 데이터를 하나의 변수에 넣고 관리 할 때 리스트는 속도가 느리고 메모리를 많이 차지하는 단점이 있다. \n",
    "- 배열(array)을 사용하면 적은 메모리로 많은 데이터를 빠르게 처리할 수 있다. \n",
    "- 배열은 리스트와 비슷하지만 다음과 같은 점에서 다르다.\n",
    "\n",
    "    - 모든 원소가 같은 자료형이어야 한다.\n",
    "\n",
    "    - 원소의 갯수를 바꿀 수 없다.\n",
    "\n",
    "- 넘파이의 array 함수에 리스트를 넣으면 ndarray 클래스 객체 즉, 배열로 변환해 준다. \n",
    "- np.array([값1, 값2, ...])\n",
    "\n",
    "\n"
   ]
  },
  {
   "cell_type": "code",
   "execution_count": 3,
   "id": "7dbab1ac",
   "metadata": {},
   "outputs": [
    {
     "name": "stdout",
     "output_type": "stream",
     "text": [
      "[1 2 3] <class 'numpy.ndarray'>\n",
      "[4 5 6] <class 'numpy.ndarray'>\n"
     ]
    }
   ],
   "source": [
    "x=np.array([1,2,3])\n",
    "y=np.array([4,5,6])\n",
    "\n",
    "\n",
    "\n",
    "print(x,type(x))\n",
    "print(y,type(y))"
   ]
  },
  {
   "cell_type": "code",
   "execution_count": 4,
   "id": "defd71ba",
   "metadata": {},
   "outputs": [
    {
     "data": {
      "text/plain": [
       "[<matplotlib.lines.Line2D at 0x86f4430>]"
      ]
     },
     "execution_count": 4,
     "metadata": {},
     "output_type": "execute_result"
    },
    {
     "data": {
      "image/png": "[encoded data removed]",
      "text/plain": [
       "<Figure size 432x288 with 1 Axes>"
      ]
     },
     "metadata": {
      "needs_background": "light"
     },
     "output_type": "display_data"
    }
   ],
   "source": [
    "plt.plot(x,y)"
   ]
  },
  {
   "cell_type": "markdown",
   "id": "ef4eddc9",
   "metadata": {},
   "source": [
    "### 다양한 방법으로 ndarray 생성하기"
   ]
  },
  {
   "cell_type": "markdown",
   "id": "1e4a6706",
   "metadata": {},
   "source": [
    "1.np.array()로 생성하기"
   ]
  },
  {
   "cell_type": "code",
   "execution_count": 7,
   "id": "016b1c57",
   "metadata": {},
   "outputs": [
    {
     "name": "stdout",
     "output_type": "stream",
     "text": [
      "[1 2 3 4]\n"
     ]
    }
   ],
   "source": [
    "x=np.array([1,2,3,4])\n",
    "print(x)\n"
   ]
  },
  {
   "cell_type": "code",
   "execution_count": 9,
   "id": "04060214",
   "metadata": {},
   "outputs": [
    {
     "name": "stdout",
     "output_type": "stream",
     "text": [
      "[[1 2 3 4]\n",
      " [5 6 7 8]]\n"
     ]
    }
   ],
   "source": [
    "y=np.array([[1,2,3,4],[5,6,7,8]])\n",
    "print(y)"
   ]
  },
  {
   "cell_type": "markdown",
   "id": "a0557b42",
   "metadata": {},
   "source": [
    "2. np.arange(10) 함수로 생성하기"
   ]
  },
  {
   "cell_type": "code",
   "execution_count": 10,
   "id": "2a9daa58",
   "metadata": {},
   "outputs": [
    {
     "data": {
      "text/plain": [
       "array([0, 1, 2, 3, 4, 5, 6, 7, 8, 9])"
      ]
     },
     "execution_count": 10,
     "metadata": {},
     "output_type": "execute_result"
    }
   ],
   "source": [
    "np.arange(10)"
   ]
  },
  {
   "cell_type": "code",
   "execution_count": 11,
   "id": "afb4a51b",
   "metadata": {},
   "outputs": [
    {
     "data": {
      "text/plain": [
       "array([1, 2, 3, 4, 5, 6, 7, 8, 9])"
      ]
     },
     "execution_count": 11,
     "metadata": {},
     "output_type": "execute_result"
    }
   ],
   "source": [
    "np.arange(1,10)"
   ]
  },
  {
   "cell_type": "code",
   "execution_count": 12,
   "id": "da48e74d",
   "metadata": {},
   "outputs": [
    {
     "data": {
      "text/plain": [
       "array([1, 3, 5, 7, 9])"
      ]
     },
     "execution_count": 12,
     "metadata": {},
     "output_type": "execute_result"
    }
   ],
   "source": [
    "np.arange(1,10,2)"
   ]
  },
  {
   "cell_type": "code",
   "execution_count": 13,
   "id": "44ee48ba",
   "metadata": {},
   "outputs": [
    {
     "data": {
      "text/plain": [
       "array([  5,  10,  15,  20,  25,  30,  35,  40,  45,  50,  55,  60,  65,\n",
       "        70,  75,  80,  85,  90,  95, 100])"
      ]
     },
     "execution_count": 13,
     "metadata": {},
     "output_type": "execute_result"
    }
   ],
   "source": [
    "np.arange(5,101,5)"
   ]
  },
  {
   "cell_type": "markdown",
   "id": "522c0168",
   "metadata": {},
   "source": [
    "3. np.ones(),  np.zeros() 생성하기"
   ]
  },
  {
   "cell_type": "code",
   "execution_count": 17,
   "id": "acccfea4",
   "metadata": {},
   "outputs": [
    {
     "data": {
      "text/plain": [
       "array([1., 1., 1., 1.])"
      ]
     },
     "execution_count": 17,
     "metadata": {},
     "output_type": "execute_result"
    }
   ],
   "source": [
    "np.ones(4)  #array의 원소값을 1로 초기화\n",
    "\n",
    "\n"
   ]
  },
  {
   "cell_type": "code",
   "execution_count": 18,
   "id": "23f2fa8c",
   "metadata": {},
   "outputs": [
    {
     "data": {
      "text/plain": [
       "array([0., 0., 0., 0.])"
      ]
     },
     "execution_count": 18,
     "metadata": {},
     "output_type": "execute_result"
    }
   ],
   "source": [
    "np.zeros(4)  #array의 원소값을 0로 초기화"
   ]
  },
  {
   "cell_type": "code",
   "execution_count": 21,
   "id": "e544d473",
   "metadata": {},
   "outputs": [
    {
     "data": {
      "text/plain": [
       "array([[1., 1., 1., 1.],\n",
       "       [1., 1., 1., 1.],\n",
       "       [1., 1., 1., 1.]])"
      ]
     },
     "execution_count": 21,
     "metadata": {},
     "output_type": "execute_result"
    },
    {
     "data": {
      "text/plain": [
       "array([[0., 0., 0.],\n",
       "       [0., 0., 0.]])"
      ]
     },
     "execution_count": 21,
     "metadata": {},
     "output_type": "execute_result"
    }
   ],
   "source": [
    "np.ones((3,4))\n",
    "np.zeros((2,3)) \n"
   ]
  },
  {
   "cell_type": "markdown",
   "id": "d2d6fce0",
   "metadata": {},
   "source": [
    "4. np.empty([행,렬],dtype=배열타입),np.full() 로 생성하기\n",
    "- numpy.empty 함수는 (값의 초기화를 수행하지 않고) 주어진 형태와 타입을 갖는 새로운 array를 반환\n",
    "- 초기화되지 않으므로 수행 속도는 빠름-값을 반드시 재정의 해 줘야함(출력되는 값의 의미 없는 값)\n",
    "- np.full((행,렬),초기화 값)\n",
    "  - 정해진 수치로 초기화 됨\n",
    "  "
   ]
  },
  {
   "cell_type": "code",
   "execution_count": 5,
   "id": "0d4ae2e6",
   "metadata": {},
   "outputs": [
    {
     "data": {
      "text/plain": [
       "array([[ 54.  ,  36.  ],\n",
       "       [388.8 , 253.44]])"
      ]
     },
     "execution_count": 5,
     "metadata": {},
     "output_type": "execute_result"
    },
    {
     "data": {
      "text/plain": [
       "array([[         0, 2146435072],\n",
       "       [         0, 2146435072]])"
      ]
     },
     "execution_count": 5,
     "metadata": {},
     "output_type": "execute_result"
    }
   ],
   "source": [
    "a=np.empty([2,2])\n",
    "b=np.empty([2,2], dtype=int)\n",
    "a\n",
    "b"
   ]
  },
  {
   "cell_type": "code",
   "execution_count": 6,
   "id": "6361846b",
   "metadata": {},
   "outputs": [
    {
     "data": {
      "text/plain": [
       "array([[7, 7, 7, 7],\n",
       "       [7, 7, 7, 7],\n",
       "       [7, 7, 7, 7]])"
      ]
     },
     "execution_count": 6,
     "metadata": {},
     "output_type": "execute_result"
    }
   ],
   "source": [
    "np.full((3,4),7)"
   ]
  },
  {
   "cell_type": "markdown",
   "id": "01d3aae2",
   "metadata": {},
   "source": [
    "5.np.eye(n, k=m)로 생성하기\n",
    "    -단위 행렬 생성: 대각선이 1, 나머지는 0으로 채워지는 행렬\n",
    "    - n: 행,열  / k= 1 or 0 or -1 \n",
    "        \n",
    "        "
   ]
  },
  {
   "cell_type": "code",
   "execution_count": 23,
   "id": "c0cdc97b",
   "metadata": {},
   "outputs": [
    {
     "data": {
      "text/plain": [
       "array([[1., 0., 0.],\n",
       "       [0., 1., 0.],\n",
       "       [0., 0., 1.]])"
      ]
     },
     "execution_count": 23,
     "metadata": {},
     "output_type": "execute_result"
    }
   ],
   "source": [
    "np.eye(3)   #k=0"
   ]
  },
  {
   "cell_type": "code",
   "execution_count": 24,
   "id": "006108cc",
   "metadata": {},
   "outputs": [
    {
     "data": {
      "text/plain": [
       "array([[0., 1., 0.],\n",
       "       [0., 0., 1.],\n",
       "       [0., 0., 0.]])"
      ]
     },
     "execution_count": 24,
     "metadata": {},
     "output_type": "execute_result"
    },
    {
     "data": {
      "text/plain": [
       "array([[0., 0., 0.],\n",
       "       [1., 0., 0.],\n",
       "       [0., 1., 0.]])"
      ]
     },
     "execution_count": 24,
     "metadata": {},
     "output_type": "execute_result"
    }
   ],
   "source": [
    "np.eye(3, k=1)\n",
    "np.eye(3, k=-1)"
   ]
  },
  {
   "cell_type": "markdown",
   "id": "50617112",
   "metadata": {},
   "source": [
    "6. np.linspace 로 생성하기\n",
    "- numpy.linspace(start, stop, num=50)\n",
    "- 지정된 간격 동안 균일 한 간격의 숫자를 반환합니다.\n",
    "\n",
    "반환 num 구간 [위에 계산 균등 샘플 start , stop ].\n"
   ]
  },
  {
   "cell_type": "code",
   "execution_count": 26,
   "id": "57cfcaad",
   "metadata": {},
   "outputs": [
    {
     "data": {
      "text/plain": [
       "array([ 1. ,  5.5, 10. ])"
      ]
     },
     "execution_count": 26,
     "metadata": {},
     "output_type": "execute_result"
    },
    {
     "data": {
      "text/plain": [
       "array([ 1.,  4.,  7., 10.])"
      ]
     },
     "execution_count": 26,
     "metadata": {},
     "output_type": "execute_result"
    },
    {
     "data": {
      "text/plain": [
       "array([ 1.  ,  3.25,  5.5 ,  7.75, 10.  ])"
      ]
     },
     "execution_count": 26,
     "metadata": {},
     "output_type": "execute_result"
    }
   ],
   "source": [
    "np.linspace(1,10,3)\n",
    "np.linspace(1,10,4)\n",
    "np.linspace(1,10,5)"
   ]
  },
  {
   "cell_type": "markdown",
   "id": "b2a7493c",
   "metadata": {},
   "source": [
    "#### reshape 함수 활용\n",
    " - ndarray의 형태, 차원을 바꾸기 위해 사용\n"
   ]
  },
  {
   "cell_type": "code",
   "execution_count": 28,
   "id": "b9fae04d",
   "metadata": {},
   "outputs": [
    {
     "data": {
      "text/plain": [
       "array([ 1,  2,  3,  4,  5,  6,  7,  8,  9, 10, 11, 12, 13, 14, 15])"
      ]
     },
     "execution_count": 28,
     "metadata": {},
     "output_type": "execute_result"
    },
    {
     "data": {
      "text/plain": [
       "(15,)"
      ]
     },
     "execution_count": 28,
     "metadata": {},
     "output_type": "execute_result"
    },
    {
     "data": {
      "text/plain": [
       "array([[ 1,  2,  3,  4,  5],\n",
       "       [ 6,  7,  8,  9, 10],\n",
       "       [11, 12, 13, 14, 15]])"
      ]
     },
     "execution_count": 28,
     "metadata": {},
     "output_type": "execute_result"
    }
   ],
   "source": [
    "x=np.arange(1,16)\n",
    "x\n",
    "x.shape\n",
    "x.reshape(3,5)"
   ]
  },
  {
   "cell_type": "markdown",
   "id": "371132af",
   "metadata": {},
   "source": [
    "### random 서브 모듈의 함수를 통해 ndarray 생성하기"
   ]
  },
  {
   "cell_type": "markdown",
   "id": "8ba2d539",
   "metadata": {},
   "source": [
    "#### random 서브 모듈\n",
    "    -rand 함수\n",
    "        -0,1 사이의 분포로 random한 ndarray 생성"
   ]
  },
  {
   "cell_type": "code",
   "execution_count": 10,
   "id": "148204d8",
   "metadata": {},
   "outputs": [
    {
     "data": {
      "text/plain": [
       "array([0.90078342, 0.40179033, 0.99365724, 0.98950469])"
      ]
     },
     "execution_count": 10,
     "metadata": {},
     "output_type": "execute_result"
    },
    {
     "data": {
      "text/plain": [
       "array([[0.75747662, 0.86387647, 0.13131088, 0.3848623 , 0.3689562 ],\n",
       "       [0.80958125, 0.54843367, 0.98629843, 0.27266068, 0.68547428],\n",
       "       [0.82849834, 0.8352302 , 0.70216478, 0.47802608, 0.80586098],\n",
       "       [0.61640482, 0.60797251, 0.95275245, 0.82788522, 0.53777074]])"
      ]
     },
     "execution_count": 10,
     "metadata": {},
     "output_type": "execute_result"
    }
   ],
   "source": [
    "np.random.rand(4)\n",
    "np.random.rand(4,5) # 4*5행렬\n"
   ]
  },
  {
   "cell_type": "code",
   "execution_count": 11,
   "id": "f946e9f7",
   "metadata": {},
   "outputs": [
    {
     "data": {
      "text/plain": [
       "array([[[0.65836941, 0.74504536, 0.26199416],\n",
       "        [0.40613382, 0.70258953, 0.39299891],\n",
       "        [0.59210272, 0.03425346, 0.35512897],\n",
       "        [0.76635886, 0.33589146, 0.96333621],\n",
       "        [0.23195909, 0.17453096, 0.32764599]],\n",
       "\n",
       "       [[0.32588564, 0.6536002 , 0.61449897],\n",
       "        [0.04336996, 0.61708882, 0.23624697],\n",
       "        [0.23785263, 0.72044698, 0.68241328],\n",
       "        [0.90010932, 0.53218216, 0.14952431],\n",
       "        [0.30619225, 0.15215969, 0.10547625]],\n",
       "\n",
       "       [[0.88372524, 0.71148082, 0.56234628],\n",
       "        [0.90755164, 0.46166009, 0.74750678],\n",
       "        [0.10363167, 0.0989603 , 0.86999017],\n",
       "        [0.8467504 , 0.06195497, 0.4462326 ],\n",
       "        [0.67937502, 0.57817484, 0.69156759]],\n",
       "\n",
       "       [[0.5566293 , 0.80717871, 0.82479921],\n",
       "        [0.58242953, 0.94038677, 0.65841243],\n",
       "        [0.39118871, 0.82940839, 0.76824014],\n",
       "        [0.66076769, 0.02851791, 0.52787895],\n",
       "        [0.53051522, 0.53731215, 0.98923094]]])"
      ]
     },
     "execution_count": 11,
     "metadata": {},
     "output_type": "execute_result"
    },
    {
     "data": {
      "text/plain": [
       "array([[0.65836941, 0.74504536, 0.26199416],\n",
       "       [0.40613382, 0.70258953, 0.39299891],\n",
       "       [0.59210272, 0.03425346, 0.35512897],\n",
       "       [0.76635886, 0.33589146, 0.96333621],\n",
       "       [0.23195909, 0.17453096, 0.32764599]])"
      ]
     },
     "execution_count": 11,
     "metadata": {},
     "output_type": "execute_result"
    },
    {
     "data": {
      "text/plain": [
       "array([[0.32588564, 0.6536002 , 0.61449897],\n",
       "       [0.04336996, 0.61708882, 0.23624697],\n",
       "       [0.23785263, 0.72044698, 0.68241328],\n",
       "       [0.90010932, 0.53218216, 0.14952431],\n",
       "       [0.30619225, 0.15215969, 0.10547625]])"
      ]
     },
     "execution_count": 11,
     "metadata": {},
     "output_type": "execute_result"
    }
   ],
   "source": [
    "a=np.random.rand(4,5,3)\n",
    "a\n",
    "a[0]\n",
    "a[1]\n"
   ]
  },
  {
   "cell_type": "code",
   "execution_count": null,
   "id": "86242d57",
   "metadata": {},
   "outputs": [],
   "source": []
  },
  {
   "cell_type": "markdown",
   "id": "d71c9b8d",
   "metadata": {},
   "source": [
    "#### randn함수\n",
    " - n: normal distribution(정규분포)\n",
    " - 정규분포로 샘플링된 랜덤 ndarray 생성\n"
   ]
  },
  {
   "cell_type": "code",
   "execution_count": 32,
   "id": "f03ef689",
   "metadata": {},
   "outputs": [
    {
     "data": {
      "text/plain": [
       "array([-0.86480338, -0.06040009,  0.55921115,  0.12586313,  1.32297076])"
      ]
     },
     "execution_count": 32,
     "metadata": {},
     "output_type": "execute_result"
    }
   ],
   "source": [
    "np.random.randn(5)"
   ]
  },
  {
   "cell_type": "code",
   "execution_count": 33,
   "id": "7399656a",
   "metadata": {},
   "outputs": [
    {
     "data": {
      "text/plain": [
       "array([[ 0.07835074, -0.82163376, -0.25356013, -1.10444436],\n",
       "       [ 0.67254194,  1.8266891 , -0.80310399,  1.77283824],\n",
       "       [-0.97487658,  0.56602939,  1.57484448,  0.02411936]])"
      ]
     },
     "execution_count": 33,
     "metadata": {},
     "output_type": "execute_result"
    }
   ],
   "source": [
    "np.random.randn(3,4)"
   ]
  },
  {
   "cell_type": "code",
   "execution_count": 34,
   "id": "b96db58f",
   "metadata": {},
   "outputs": [
    {
     "data": {
      "text/plain": [
       "array([[[-2.00092765,  0.11550684, -0.09456101,  1.62451303],\n",
       "        [-0.26848781,  0.17868243, -0.87163702, -1.22052876],\n",
       "        [-0.15358642,  0.74226288,  0.25187377,  0.20232888]],\n",
       "\n",
       "       [[ 0.44001354, -0.94250933, -0.51061121, -0.57741871],\n",
       "        [ 1.07754467,  0.71101059,  0.18644371, -0.39094232],\n",
       "        [-0.82596953,  0.02243115, -0.50010521,  1.57407433]]])"
      ]
     },
     "execution_count": 34,
     "metadata": {},
     "output_type": "execute_result"
    }
   ],
   "source": [
    "np.random.randn(2,3,4)"
   ]
  },
  {
   "cell_type": "code",
   "execution_count": null,
   "id": "15f55a9f",
   "metadata": {},
   "outputs": [],
   "source": []
  },
  {
   "cell_type": "markdown",
   "id": "1b33017b",
   "metadata": {},
   "source": [
    "randint()\n",
    "    - 특정 정수 사이에서 랜덤하게 샘플링"
   ]
  },
  {
   "cell_type": "code",
   "execution_count": 36,
   "id": "75817f65",
   "metadata": {},
   "outputs": [
    {
     "data": {
      "text/plain": [
       "array([22, 11,  2, 25, 17])"
      ]
     },
     "execution_count": 36,
     "metadata": {},
     "output_type": "execute_result"
    }
   ],
   "source": [
    "np.random.randint(1,100,size=(5,))\n"
   ]
  },
  {
   "cell_type": "code",
   "execution_count": 37,
   "id": "f6067838",
   "metadata": {},
   "outputs": [
    {
     "data": {
      "text/plain": [
       "array([[46, 84, 27],\n",
       "       [12,  4, 11],\n",
       "       [50, 72, 56],\n",
       "       [75,  9, 23],\n",
       "       [24, 79, 38]])"
      ]
     },
     "execution_count": 37,
     "metadata": {},
     "output_type": "execute_result"
    }
   ],
   "source": [
    "np.random.randint(1,100,size=(5,3))"
   ]
  },
  {
   "cell_type": "markdown",
   "id": "397eb4a8",
   "metadata": {},
   "source": [
    "##### seed 함수\n",
    "    - 랜덤한 값을 동일하게 다시 생성하고자 할때 사용"
   ]
  },
  {
   "cell_type": "code",
   "execution_count": 38,
   "id": "14144c17",
   "metadata": {},
   "outputs": [
    {
     "data": {
      "text/plain": [
       "array([[ 0.66698806,  0.02581308, -0.77761941,  0.94863382],\n",
       "       [ 0.70167179, -1.05108156, -0.36754812, -1.13745969],\n",
       "       [-1.32214752,  1.77225828, -0.34745899,  0.67014016]])"
      ]
     },
     "execution_count": 38,
     "metadata": {},
     "output_type": "execute_result"
    }
   ],
   "source": [
    "np.random.seed(23)\n",
    "np.random.randn(3, 4)\n",
    "# 정규분포에 따른 난수 발생"
   ]
  },
  {
   "cell_type": "code",
   "execution_count": 39,
   "id": "fce03361",
   "metadata": {},
   "outputs": [
    {
     "data": {
      "text/plain": [
       "array([[ 0.32227152,  0.06034293, -1.04345   , -1.00994188],\n",
       "       [ 0.44173637,  1.12887685, -1.83806777, -0.93876863],\n",
       "       [-0.20184052,  1.04537128,  0.53816197,  0.81211867]])"
      ]
     },
     "execution_count": 39,
     "metadata": {},
     "output_type": "execute_result"
    }
   ],
   "source": [
    "np.random.randn(3, 4)\n",
    "# 시드값에 따라서 난수는 다르게 발생. 만약 동일한 시드를 계속넣어준다면 난수는 동일\n",
    "# 단 줄이 바뀌거나 한다면 시드발생도 같이 해줄것그러면 난수값 고정"
   ]
  },
  {
   "cell_type": "markdown",
   "id": "01e822a6",
   "metadata": {},
   "source": [
    "#### 확률 분포에 따른 ndarray 생성함수\n",
    "    uniform - 이산형 정규 분포\n",
    "    nomal -정규분포\n",
    "    등등"
   ]
  },
  {
   "cell_type": "code",
   "execution_count": 40,
   "id": "17e50bab",
   "metadata": {},
   "outputs": [
    {
     "data": {
      "text/plain": [
       "array([[1.23845339, 2.19276835, 1.2595126 , 1.15506818, 2.66241051],\n",
       "       [1.92877123, 1.32402496, 2.09595058, 2.17697164, 2.54722634],\n",
       "       [2.31169092, 2.11541352, 1.35649453, 1.48116706, 2.01210926],\n",
       "       [1.7934914 , 1.96611037, 2.91147968, 2.80320439, 2.01151864]])"
      ]
     },
     "execution_count": 40,
     "metadata": {},
     "output_type": "execute_result"
    }
   ],
   "source": [
    "np.random.uniform(1.0,3.0, size=(4,5))"
   ]
  },
  {
   "cell_type": "code",
   "execution_count": 42,
   "id": "0a4a7b26",
   "metadata": {},
   "outputs": [
    {
     "data": {
      "text/plain": [
       "array([[ 0.70362363, -0.26814214, -0.48255948,  1.24461048,  0.67686012],\n",
       "       [ 3.18750269, -1.08056475,  0.0102293 ,  0.43782968,  1.32778762],\n",
       "       [-0.25114503,  1.59311063,  0.17081771, -0.7092539 , -0.13302459],\n",
       "       [-0.01735694, -0.10109291, -0.56403963, -0.1790356 ,  1.01105883]])"
      ]
     },
     "execution_count": 42,
     "metadata": {},
     "output_type": "execute_result"
    },
    {
     "data": {
      "text/plain": [
       "array([[ 0.92099584,  1.93308983, -0.79536322, -1.0115352 ],\n",
       "       [ 2.15077995,  0.42514008,  0.44115151, -0.81743933],\n",
       "       [ 0.43789248,  0.09972328,  0.06540607,  1.22443067]])"
      ]
     },
     "execution_count": 42,
     "metadata": {},
     "output_type": "execute_result"
    }
   ],
   "source": [
    "np.random.normal(size=(4,5))\n",
    "np.random.randn(3,4)"
   ]
  },
  {
   "cell_type": "markdown",
   "id": "63594e68",
   "metadata": {},
   "source": [
    "#### np.random.choice(a,size,replace=True|False,p)\n",
    "    - 1-d 배열로 부터 임의 표본 추출(random smapling)\n",
    "    - replace= 복원추출(True)|비복원추출(False)\n",
    "    - p: 모집단의 원소에 대해 발생 확률을 미리 알고 있으면 확률값을 넘겨줄 수 있음"
   ]
  },
  {
   "cell_type": "markdown",
   "id": "ba97f0de",
   "metadata": {},
   "source": [
    "#정수가 주어진 경우, np.arange(해당숫자)로 간주\n"
   ]
  },
  {
   "cell_type": "code",
   "execution_count": 44,
   "id": "482a77ed",
   "metadata": {},
   "outputs": [
    {
     "data": {
      "text/plain": [
       "array([[10, 80, 71, 20],\n",
       "       [33, 72, 17,  6],\n",
       "       [36, 10, 49, 35]])"
      ]
     },
     "execution_count": 44,
     "metadata": {},
     "output_type": "execute_result"
    }
   ],
   "source": [
    "np.random.choice(100, size=(3,4))"
   ]
  },
  {
   "cell_type": "code",
   "execution_count": 45,
   "id": "4a4df8c4",
   "metadata": {},
   "outputs": [],
   "source": [
    "x=np.array([1,2,3,4,5,6])\n"
   ]
  },
  {
   "cell_type": "code",
   "execution_count": 47,
   "id": "131b0de7",
   "metadata": {},
   "outputs": [
    {
     "data": {
      "text/plain": [
       "array([[2, 3],\n",
       "       [3, 2]])"
      ]
     },
     "execution_count": 47,
     "metadata": {},
     "output_type": "execute_result"
    },
    {
     "data": {
      "text/plain": [
       "array([[6, 4],\n",
       "       [3, 2]])"
      ]
     },
     "execution_count": 47,
     "metadata": {},
     "output_type": "execute_result"
    }
   ],
   "source": [
    "np.random.choice(x, size=(2,2), replace=True) #복원추출\n",
    "np.random.choice(x, size=(2,2), replace=False)  # 비복원추출"
   ]
  },
  {
   "cell_type": "code",
   "execution_count": null,
   "id": "5ef9afcd",
   "metadata": {},
   "outputs": [],
   "source": []
  },
  {
   "attachments": {
    "choice.png": {
     "image/png": "[encoded data removed]"
    }
   },
   "cell_type": "markdown",
   "id": "3833ec13",
   "metadata": {},
   "source": [
    "![choice.png](attachment:choice.png)\n"
   ]
  },
  {
   "cell_type": "code",
   "execution_count": 12,
   "id": "9d6d7fff",
   "metadata": {},
   "outputs": [
    {
     "data": {
      "text/plain": [
       "array([3, 3, 3])"
      ]
     },
     "execution_count": 12,
     "metadata": {},
     "output_type": "execute_result"
    }
   ],
   "source": [
    "p = [0.1, 0, 0.3, 0.6, 0]\n",
    "np.random.choice(5,3,p=p)\n"
   ]
  },
  {
   "cell_type": "code",
   "execution_count": null,
   "id": "eb622c21",
   "metadata": {},
   "outputs": [],
   "source": []
  },
  {
   "cell_type": "code",
   "execution_count": null,
   "id": "11f070e6",
   "metadata": {},
   "outputs": [],
   "source": []
  },
  {
   "cell_type": "code",
   "execution_count": null,
   "id": "6a53d7d0",
   "metadata": {},
   "outputs": [],
   "source": []
  },
  {
   "cell_type": "code",
   "execution_count": null,
   "id": "cd94268f",
   "metadata": {},
   "outputs": [],
   "source": []
  },
  {
   "cell_type": "code",
   "execution_count": null,
   "id": "af8dbdd4",
   "metadata": {},
   "outputs": [],
   "source": []
  },
  {
   "cell_type": "code",
   "execution_count": null,
   "id": "6c33fa76",
   "metadata": {},
   "outputs": [],
   "source": []
  },
  {
   "cell_type": "code",
   "execution_count": null,
   "id": "e06facd1",
   "metadata": {},
   "outputs": [],
   "source": []
  }
 ],
 "metadata": {
  "kernelspec": {
   "display_name": "Python 3",
   "language": "python",
   "name": "python3"
  },
  "language_info": {
   "codemirror_mode": {
    "name": "ipython",
    "version": 3
   },
   "file_extension": ".py",
   "mimetype": "text/x-python",
   "name": "python",
   "nbconvert_exporter": "python",
   "pygments_lexer": "ipython3",
   "version": "3.8.8"
  }
 },
 "nbformat": 4,
 "nbformat_minor": 5
}
