{
 "cells": [
  {
   "cell_type": "code",
   "execution_count": 1,
   "metadata": {},
   "outputs": [],
   "source": [
    "import os\n",
    "import pandas as pd\n",
    "import numpy as np\n",
    "from scipy.stats import *\n",
    "from IPython.core.interactiveshell import InteractiveShell\n",
    "InteractiveShell.ast_node_interactivity=\"all\""
   ]
  },
  {
   "cell_type": "code",
   "execution_count": null,
   "metadata": {},
   "outputs": [],
   "source": []
  },
  {
   "cell_type": "code",
   "execution_count": 2,
   "metadata": {},
   "outputs": [],
   "source": [
    "%matplotlib inline\n",
    "import matplotlib.pyplot as plt\n",
    "plt.rcParams[\"font.family\"] = 'Malgun Gothic'\n",
    "plt.rcParams[\"font.size\"] = 15\n",
    "plt.rcParams[\"figure.figsize\"] = (20, 5)\n"
   ]
  },
  {
   "cell_type": "markdown",
   "metadata": {},
   "source": [
    "현황분석 시계열 그래프로 분석"
   ]
  },
  {
   "cell_type": "code",
   "execution_count": 3,
   "metadata": {},
   "outputs": [
    {
     "data": {
      "text/html": [
       "<div>\n",
       "<style scoped>\n",
       "    .dataframe tbody tr th:only-of-type {\n",
       "        vertical-align: middle;\n",
       "    }\n",
       "\n",
       "    .dataframe tbody tr th {\n",
       "        vertical-align: top;\n",
       "    }\n",
       "\n",
       "    .dataframe thead th {\n",
       "        text-align: right;\n",
       "    }\n",
       "</style>\n",
       "<table border=\"1\" class=\"dataframe\">\n",
       "  <thead>\n",
       "    <tr style=\"text-align: right;\">\n",
       "      <th></th>\n",
       "      <th>구매자수</th>\n",
       "      <th>방문자수</th>\n",
       "      <th>일자</th>\n",
       "      <th>총 판매 금액</th>\n",
       "    </tr>\n",
       "  </thead>\n",
       "  <tbody>\n",
       "    <tr>\n",
       "      <th>0</th>\n",
       "      <td>328</td>\n",
       "      <td>1498</td>\n",
       "      <td>2019-01-01</td>\n",
       "      <td>6454056</td>\n",
       "    </tr>\n",
       "    <tr>\n",
       "      <th>1</th>\n",
       "      <td>301</td>\n",
       "      <td>1514</td>\n",
       "      <td>2019-01-02</td>\n",
       "      <td>5941439</td>\n",
       "    </tr>\n",
       "    <tr>\n",
       "      <th>2</th>\n",
       "      <td>219</td>\n",
       "      <td>1409</td>\n",
       "      <td>2019-01-03</td>\n",
       "      <td>3967404</td>\n",
       "    </tr>\n",
       "    <tr>\n",
       "      <th>3</th>\n",
       "      <td>276</td>\n",
       "      <td>1617</td>\n",
       "      <td>2019-01-04</td>\n",
       "      <td>5073708</td>\n",
       "    </tr>\n",
       "    <tr>\n",
       "      <th>4</th>\n",
       "      <td>311</td>\n",
       "      <td>1482</td>\n",
       "      <td>2019-01-05</td>\n",
       "      <td>6482795</td>\n",
       "    </tr>\n",
       "    <tr>\n",
       "      <th>...</th>\n",
       "      <td>...</td>\n",
       "      <td>...</td>\n",
       "      <td>...</td>\n",
       "      <td>...</td>\n",
       "    </tr>\n",
       "    <tr>\n",
       "      <th>360</th>\n",
       "      <td>253</td>\n",
       "      <td>1515</td>\n",
       "      <td>2019-12-27</td>\n",
       "      <td>5337541</td>\n",
       "    </tr>\n",
       "    <tr>\n",
       "      <th>361</th>\n",
       "      <td>276</td>\n",
       "      <td>1519</td>\n",
       "      <td>2019-12-28</td>\n",
       "      <td>5326248</td>\n",
       "    </tr>\n",
       "    <tr>\n",
       "      <th>362</th>\n",
       "      <td>313</td>\n",
       "      <td>1414</td>\n",
       "      <td>2019-12-29</td>\n",
       "      <td>6392399</td>\n",
       "    </tr>\n",
       "    <tr>\n",
       "      <th>363</th>\n",
       "      <td>266</td>\n",
       "      <td>1556</td>\n",
       "      <td>2019-12-30</td>\n",
       "      <td>5401130</td>\n",
       "    </tr>\n",
       "    <tr>\n",
       "      <th>364</th>\n",
       "      <td>345</td>\n",
       "      <td>1474</td>\n",
       "      <td>2019-12-31</td>\n",
       "      <td>7358505</td>\n",
       "    </tr>\n",
       "  </tbody>\n",
       "</table>\n",
       "<p>365 rows × 4 columns</p>\n",
       "</div>"
      ],
      "text/plain": [
       "     구매자수  방문자수          일자  총 판매 금액\n",
       "0     328  1498  2019-01-01  6454056\n",
       "1     301  1514  2019-01-02  5941439\n",
       "2     219  1409  2019-01-03  3967404\n",
       "3     276  1617  2019-01-04  5073708\n",
       "4     311  1482  2019-01-05  6482795\n",
       "..    ...   ...         ...      ...\n",
       "360   253  1515  2019-12-27  5337541\n",
       "361   276  1519  2019-12-28  5326248\n",
       "362   313  1414  2019-12-29  6392399\n",
       "363   266  1556  2019-12-30  5401130\n",
       "364   345  1474  2019-12-31  7358505\n",
       "\n",
       "[365 rows x 4 columns]"
      ]
     },
     "execution_count": 3,
     "metadata": {},
     "output_type": "execute_result"
    }
   ],
   "source": [
    "df = pd.read_csv(\"C:/Users/Administrator/Desktop/coding/python/muticam/jupyter note/data/AB테스트/일별현황데이터.csv\", engine = \"python\", encoding=\"euc-kr\")\n",
    "\n",
    "df\n"
   ]
  },
  {
   "cell_type": "code",
   "execution_count": 4,
   "metadata": {},
   "outputs": [
    {
     "name": "stdout",
     "output_type": "stream",
     "text": [
      "<class 'pandas.core.frame.DataFrame'>\n",
      "RangeIndex: 365 entries, 0 to 364\n",
      "Data columns (total 4 columns):\n",
      " #   Column   Non-Null Count  Dtype \n",
      "---  ------   --------------  ----- \n",
      " 0   구매자수     365 non-null    int64 \n",
      " 1   방문자수     365 non-null    int64 \n",
      " 2   일자       365 non-null    object\n",
      " 3   총 판매 금액  365 non-null    int64 \n",
      "dtypes: int64(3), object(1)\n",
      "memory usage: 11.5+ KB\n"
     ]
    }
   ],
   "source": [
    "df.info()"
   ]
  },
  {
   "cell_type": "code",
   "execution_count": 5,
   "metadata": {},
   "outputs": [
    {
     "data": {
      "text/html": [
       "<div>\n",
       "<style scoped>\n",
       "    .dataframe tbody tr th:only-of-type {\n",
       "        vertical-align: middle;\n",
       "    }\n",
       "\n",
       "    .dataframe tbody tr th {\n",
       "        vertical-align: top;\n",
       "    }\n",
       "\n",
       "    .dataframe thead th {\n",
       "        text-align: right;\n",
       "    }\n",
       "</style>\n",
       "<table border=\"1\" class=\"dataframe\">\n",
       "  <thead>\n",
       "    <tr style=\"text-align: right;\">\n",
       "      <th></th>\n",
       "      <th>구매자수</th>\n",
       "      <th>방문자수</th>\n",
       "      <th>총 판매 금액</th>\n",
       "    </tr>\n",
       "  </thead>\n",
       "  <tbody>\n",
       "    <tr>\n",
       "      <th>count</th>\n",
       "      <td>365.000000</td>\n",
       "      <td>365.000000</td>\n",
       "      <td>3.650000e+02</td>\n",
       "    </tr>\n",
       "    <tr>\n",
       "      <th>mean</th>\n",
       "      <td>298.347945</td>\n",
       "      <td>1502.024658</td>\n",
       "      <td>5.983674e+06</td>\n",
       "    </tr>\n",
       "    <tr>\n",
       "      <th>std</th>\n",
       "      <td>54.205014</td>\n",
       "      <td>52.454239</td>\n",
       "      <td>1.129601e+06</td>\n",
       "    </tr>\n",
       "    <tr>\n",
       "      <th>min</th>\n",
       "      <td>108.000000</td>\n",
       "      <td>1370.000000</td>\n",
       "      <td>2.002536e+06</td>\n",
       "    </tr>\n",
       "    <tr>\n",
       "      <th>25%</th>\n",
       "      <td>262.000000</td>\n",
       "      <td>1466.000000</td>\n",
       "      <td>5.222217e+06</td>\n",
       "    </tr>\n",
       "    <tr>\n",
       "      <th>50%</th>\n",
       "      <td>297.000000</td>\n",
       "      <td>1500.000000</td>\n",
       "      <td>5.990007e+06</td>\n",
       "    </tr>\n",
       "    <tr>\n",
       "      <th>75%</th>\n",
       "      <td>337.000000</td>\n",
       "      <td>1537.000000</td>\n",
       "      <td>6.734271e+06</td>\n",
       "    </tr>\n",
       "    <tr>\n",
       "      <th>max</th>\n",
       "      <td>444.000000</td>\n",
       "      <td>1638.000000</td>\n",
       "      <td>9.318244e+06</td>\n",
       "    </tr>\n",
       "  </tbody>\n",
       "</table>\n",
       "</div>"
      ],
      "text/plain": [
       "             구매자수         방문자수       총 판매 금액\n",
       "count  365.000000   365.000000  3.650000e+02\n",
       "mean   298.347945  1502.024658  5.983674e+06\n",
       "std     54.205014    52.454239  1.129601e+06\n",
       "min    108.000000  1370.000000  2.002536e+06\n",
       "25%    262.000000  1466.000000  5.222217e+06\n",
       "50%    297.000000  1500.000000  5.990007e+06\n",
       "75%    337.000000  1537.000000  6.734271e+06\n",
       "max    444.000000  1638.000000  9.318244e+06"
      ]
     },
     "execution_count": 5,
     "metadata": {},
     "output_type": "execute_result"
    }
   ],
   "source": [
    "df.describe()"
   ]
  },
  {
   "cell_type": "code",
   "execution_count": 6,
   "metadata": {},
   "outputs": [
    {
     "data": {
      "text/plain": [
       "[<matplotlib.lines.Line2D at 0xa53bf40>]"
      ]
     },
     "execution_count": 6,
     "metadata": {},
     "output_type": "execute_result"
    },
    {
     "data": {
      "image/png": "[encoded data removed]",
      "text/plain": [
       "<Figure size 1440x360 with 1 Axes>"
      ]
     },
     "metadata": {
      "needs_background": "light"
     },
     "output_type": "display_data"
    }
   ],
   "source": [
    "# 날자별 구매자 수\n",
    "\n",
    "plt.plot(df[\"일자\"],df[\"구매자수\"])\n"
   ]
  },
  {
   "cell_type": "code",
   "execution_count": 7,
   "metadata": {},
   "outputs": [
    {
     "data": {
      "text/plain": [
       "array([  0,  31,  59,  90, 120, 151, 181, 212, 243, 273, 304, 334],\n",
       "      dtype=int32)"
      ]
     },
     "execution_count": 7,
     "metadata": {},
     "output_type": "execute_result"
    },
    {
     "data": {
      "text/plain": [
       "'2019-01-01'"
      ]
     },
     "execution_count": 7,
     "metadata": {},
     "output_type": "execute_result"
    },
    {
     "data": {
      "text/plain": [
       "'2019-02-01'"
      ]
     },
     "execution_count": 7,
     "metadata": {},
     "output_type": "execute_result"
    },
    {
     "data": {
      "text/plain": [
       "'2019-10-01'"
      ]
     },
     "execution_count": 7,
     "metadata": {},
     "output_type": "execute_result"
    }
   ],
   "source": [
    "# 날자별 구매자 수--매월 1일을 마킹하기 위해서 어찌해야할까???\n",
    "# 매월 월별일수 누적합산...\n",
    "xtic_range=np.cumsum([0, 31, 28, 31, 30, 31, 30, 31, 31, 30, 31, 30]) \n",
    "xtic_range\n",
    "\n",
    "\n",
    "#일자 확인용 #iloc[행,열]\n",
    "df.iloc[0,2] \n",
    "df.iloc[31,2]\n",
    "df.iloc[273,2]"
   ]
  },
  {
   "cell_type": "code",
   "execution_count": 8,
   "metadata": {},
   "outputs": [
    {
     "data": {
      "text/plain": [
       "([<matplotlib.axis.XTick at 0xac1a0a0>,\n",
       "  <matplotlib.axis.XTick at 0xac1a070>,\n",
       "  <matplotlib.axis.XTick at 0xc14f1c0>,\n",
       "  <matplotlib.axis.XTick at 0xac38a30>,\n",
       "  <matplotlib.axis.XTick at 0xac38f40>,\n",
       "  <matplotlib.axis.XTick at 0xac40490>,\n",
       "  <matplotlib.axis.XTick at 0xac409a0>,\n",
       "  <matplotlib.axis.XTick at 0xac40eb0>,\n",
       "  <matplotlib.axis.XTick at 0xac404f0>,\n",
       "  <matplotlib.axis.XTick at 0xac386a0>,\n",
       "  <matplotlib.axis.XTick at 0xac45550>,\n",
       "  <matplotlib.axis.XTick at 0xac45a60>],\n",
       " [Text(0, 0, '2019-01-01'),\n",
       "  Text(31, 0, '2019-02-01'),\n",
       "  Text(59, 0, '2019-03-01'),\n",
       "  Text(90, 0, '2019-04-01'),\n",
       "  Text(120, 0, '2019-05-01'),\n",
       "  Text(151, 0, '2019-06-01'),\n",
       "  Text(181, 0, '2019-07-01'),\n",
       "  Text(212, 0, '2019-08-01'),\n",
       "  Text(243, 0, '2019-09-01'),\n",
       "  Text(273, 0, '2019-10-01'),\n",
       "  Text(304, 0, '2019-11-01'),\n",
       "  Text(334, 0, '2019-12-01')])"
      ]
     },
     "execution_count": 8,
     "metadata": {},
     "output_type": "execute_result"
    },
    {
     "data": {
      "text/plain": [
       "0      2019-01-01\n",
       "31     2019-02-01\n",
       "59     2019-03-01\n",
       "90     2019-04-01\n",
       "120    2019-05-01\n",
       "151    2019-06-01\n",
       "181    2019-07-01\n",
       "212    2019-08-01\n",
       "243    2019-09-01\n",
       "273    2019-10-01\n",
       "304    2019-11-01\n",
       "334    2019-12-01\n",
       "Name: 일자, dtype: object"
      ]
     },
     "execution_count": 8,
     "metadata": {},
     "output_type": "execute_result"
    },
    {
     "data": {
      "image/png": "[encoded data removed]",
      "text/plain": [
       "<Figure size 1440x360 with 1 Axes>"
      ]
     },
     "metadata": {
      "needs_background": "light"
     },
     "output_type": "display_data"
    }
   ],
   "source": [
    "# xtic_range\n",
    "plt.xticks(xtic_range, df[\"일자\"].loc[xtic_range])\n",
    "df[\"일자\"].loc[xtic_range]\n",
    "\n"
   ]
  },
  {
   "cell_type": "code",
   "execution_count": 9,
   "metadata": {},
   "outputs": [
    {
     "data": {
      "text/plain": [
       "[<matplotlib.lines.Line2D at 0xac8d850>]"
      ]
     },
     "execution_count": 9,
     "metadata": {},
     "output_type": "execute_result"
    },
    {
     "data": {
      "text/plain": [
       "([<matplotlib.axis.XTick at 0xac6e700>,\n",
       "  <matplotlib.axis.XTick at 0xac6e6d0>,\n",
       "  <matplotlib.axis.XTick at 0xac63910>,\n",
       "  <matplotlib.axis.XTick at 0xc31a0d0>,\n",
       "  <matplotlib.axis.XTick at 0xc31a5e0>,\n",
       "  <matplotlib.axis.XTick at 0xc31ab20>,\n",
       "  <matplotlib.axis.XTick at 0xc31d070>,\n",
       "  <matplotlib.axis.XTick at 0xc31d580>,\n",
       "  <matplotlib.axis.XTick at 0xc31da90>,\n",
       "  <matplotlib.axis.XTick at 0xc31dfa0>,\n",
       "  <matplotlib.axis.XTick at 0xc3234f0>,\n",
       "  <matplotlib.axis.XTick at 0xc31d610>],\n",
       " [Text(0, 0, '2019-01-01'),\n",
       "  Text(31, 0, '2019-02-01'),\n",
       "  Text(59, 0, '2019-03-01'),\n",
       "  Text(90, 0, '2019-04-01'),\n",
       "  Text(120, 0, '2019-05-01'),\n",
       "  Text(151, 0, '2019-06-01'),\n",
       "  Text(181, 0, '2019-07-01'),\n",
       "  Text(212, 0, '2019-08-01'),\n",
       "  Text(243, 0, '2019-09-01'),\n",
       "  Text(273, 0, '2019-10-01'),\n",
       "  Text(304, 0, '2019-11-01'),\n",
       "  Text(334, 0, '2019-12-01')])"
      ]
     },
     "execution_count": 9,
     "metadata": {},
     "output_type": "execute_result"
    },
    {
     "data": {
      "text/plain": [
       "0      2019-01-01\n",
       "31     2019-02-01\n",
       "59     2019-03-01\n",
       "90     2019-04-01\n",
       "120    2019-05-01\n",
       "151    2019-06-01\n",
       "181    2019-07-01\n",
       "212    2019-08-01\n",
       "243    2019-09-01\n",
       "273    2019-10-01\n",
       "304    2019-11-01\n",
       "334    2019-12-01\n",
       "Name: 일자, dtype: object"
      ]
     },
     "execution_count": 9,
     "metadata": {},
     "output_type": "execute_result"
    },
    {
     "data": {
      "image/png": "[encoded data removed]",
      "text/plain": [
       "<Figure size 1440x360 with 1 Axes>"
      ]
     },
     "metadata": {
      "needs_background": "light"
     },
     "output_type": "display_data"
    }
   ],
   "source": [
    "# 그래프 정리\n",
    "\n",
    "plt.plot(df[\"일자\"],df[\"구매자수\"])\n",
    "xtic_range=np.cumsum([0, 31, 28, 31, 30, 31, 30, 31, 31, 30, 31, 30]) \n",
    "plt.xticks(xtic_range, df[\"일자\"].loc[xtic_range])\n",
    "df[\"일자\"].loc[xtic_range]"
   ]
  },
  {
   "cell_type": "code",
   "execution_count": 10,
   "metadata": {},
   "outputs": [],
   "source": [
    "# 특별하게 튀는 날짜가 2지점 정도 있음???"
   ]
  },
  {
   "cell_type": "code",
   "execution_count": null,
   "metadata": {},
   "outputs": [],
   "source": []
  },
  {
   "cell_type": "code",
   "execution_count": 11,
   "metadata": {},
   "outputs": [
    {
     "data": {
      "text/plain": [
       "[<matplotlib.lines.Line2D at 0xc368e80>]"
      ]
     },
     "execution_count": 11,
     "metadata": {},
     "output_type": "execute_result"
    },
    {
     "data": {
      "text/plain": [
       "([<matplotlib.axis.XTick at 0xc34ca60>,\n",
       "  <matplotlib.axis.XTick at 0xc34ca30>,\n",
       "  <matplotlib.axis.XTick at 0xc34a640>,\n",
       "  <matplotlib.axis.XTick at 0xc3736a0>,\n",
       "  <matplotlib.axis.XTick at 0xc373a00>,\n",
       "  <matplotlib.axis.XTick at 0xc373f10>,\n",
       "  <matplotlib.axis.XTick at 0xc59c460>,\n",
       "  <matplotlib.axis.XTick at 0xc59c970>,\n",
       "  <matplotlib.axis.XTick at 0xc59ce80>,\n",
       "  <matplotlib.axis.XTick at 0xc5a03d0>,\n",
       "  <matplotlib.axis.XTick at 0xc5a08e0>,\n",
       "  <matplotlib.axis.XTick at 0xc5a0cd0>],\n",
       " [Text(0, 0, '2019-01-01'),\n",
       "  Text(31, 0, '2019-02-01'),\n",
       "  Text(59, 0, '2019-03-01'),\n",
       "  Text(90, 0, '2019-04-01'),\n",
       "  Text(120, 0, '2019-05-01'),\n",
       "  Text(151, 0, '2019-06-01'),\n",
       "  Text(181, 0, '2019-07-01'),\n",
       "  Text(212, 0, '2019-08-01'),\n",
       "  Text(243, 0, '2019-09-01'),\n",
       "  Text(273, 0, '2019-10-01'),\n",
       "  Text(304, 0, '2019-11-01'),\n",
       "  Text(334, 0, '2019-12-01')])"
      ]
     },
     "execution_count": 11,
     "metadata": {},
     "output_type": "execute_result"
    },
    {
     "data": {
      "text/plain": [
       "0      2019-01-01\n",
       "31     2019-02-01\n",
       "59     2019-03-01\n",
       "90     2019-04-01\n",
       "120    2019-05-01\n",
       "151    2019-06-01\n",
       "181    2019-07-01\n",
       "212    2019-08-01\n",
       "243    2019-09-01\n",
       "273    2019-10-01\n",
       "304    2019-11-01\n",
       "334    2019-12-01\n",
       "Name: 일자, dtype: object"
      ]
     },
     "execution_count": 11,
     "metadata": {},
     "output_type": "execute_result"
    },
    {
     "data": {
      "image/png": "[encoded data removed]",
      "text/plain": [
       "<Figure size 1440x360 with 1 Axes>"
      ]
     },
     "metadata": {
      "needs_background": "light"
     },
     "output_type": "display_data"
    }
   ],
   "source": [
    "plt.plot(df[\"일자\"],df[\"방문자수\"])\n",
    "xtic_range=np.cumsum([0, 31, 28, 31, 30, 31, 30, 31, 31, 30, 31, 30]) \n",
    "plt.xticks(xtic_range, df[\"일자\"].loc[xtic_range])\n",
    "df[\"일자\"].loc[xtic_range]"
   ]
  },
  {
   "cell_type": "code",
   "execution_count": 12,
   "metadata": {},
   "outputs": [],
   "source": [
    "# 방문자수는 특별하게 튀는 구간이 안보인다???"
   ]
  },
  {
   "cell_type": "code",
   "execution_count": null,
   "metadata": {},
   "outputs": [],
   "source": []
  },
  {
   "cell_type": "code",
   "execution_count": 13,
   "metadata": {},
   "outputs": [
    {
     "data": {
      "text/plain": [
       "[<matplotlib.lines.Line2D at 0xc5e7ac0>]"
      ]
     },
     "execution_count": 13,
     "metadata": {},
     "output_type": "execute_result"
    },
    {
     "data": {
      "text/plain": [
       "([<matplotlib.axis.XTick at 0xc5cc6d0>,\n",
       "  <matplotlib.axis.XTick at 0xc5cc6a0>,\n",
       "  <matplotlib.axis.XTick at 0xc5c62b0>,\n",
       "  <matplotlib.axis.XTick at 0xc604340>,\n",
       "  <matplotlib.axis.XTick at 0xc6046a0>,\n",
       "  <matplotlib.axis.XTick at 0xc604bb0>,\n",
       "  <matplotlib.axis.XTick at 0xc607100>,\n",
       "  <matplotlib.axis.XTick at 0xc607610>,\n",
       "  <matplotlib.axis.XTick at 0xc607b20>,\n",
       "  <matplotlib.axis.XTick at 0xc60e070>,\n",
       "  <matplotlib.axis.XTick at 0xc60e520>,\n",
       "  <matplotlib.axis.XTick at 0xc60ea30>],\n",
       " [Text(0, 0, '2019-01-01'),\n",
       "  Text(31, 0, '2019-02-01'),\n",
       "  Text(59, 0, '2019-03-01'),\n",
       "  Text(90, 0, '2019-04-01'),\n",
       "  Text(120, 0, '2019-05-01'),\n",
       "  Text(151, 0, '2019-06-01'),\n",
       "  Text(181, 0, '2019-07-01'),\n",
       "  Text(212, 0, '2019-08-01'),\n",
       "  Text(243, 0, '2019-09-01'),\n",
       "  Text(273, 0, '2019-10-01'),\n",
       "  Text(304, 0, '2019-11-01'),\n",
       "  Text(334, 0, '2019-12-01')])"
      ]
     },
     "execution_count": 13,
     "metadata": {},
     "output_type": "execute_result"
    },
    {
     "data": {
      "text/plain": [
       "0      2019-01-01\n",
       "31     2019-02-01\n",
       "59     2019-03-01\n",
       "90     2019-04-01\n",
       "120    2019-05-01\n",
       "151    2019-06-01\n",
       "181    2019-07-01\n",
       "212    2019-08-01\n",
       "243    2019-09-01\n",
       "273    2019-10-01\n",
       "304    2019-11-01\n",
       "334    2019-12-01\n",
       "Name: 일자, dtype: object"
      ]
     },
     "execution_count": 13,
     "metadata": {},
     "output_type": "execute_result"
    },
    {
     "data": {
      "image/png": "[encoded data removed]",
      "text/plain": [
       "<Figure size 1440x360 with 1 Axes>"
      ]
     },
     "metadata": {
      "needs_background": "light"
     },
     "output_type": "display_data"
    }
   ],
   "source": [
    "plt.plot(df[\"일자\"],df[\"총 판매 금액\"])\n",
    "xtic_range=np.cumsum([0, 31, 28, 31, 30, 31, 30, 31, 31, 30, 31, 30]) \n",
    "plt.xticks(xtic_range, df[\"일자\"].loc[xtic_range])\n",
    "df[\"일자\"].loc[xtic_range]\n",
    "\n",
    "\n",
    "# 구매 금액이 튀는 두 지점이 구매자수와 일치하므로 해당 일자의 원인을 확인해야 함\n",
    "\n"
   ]
  },
  {
   "cell_type": "code",
   "execution_count": 14,
   "metadata": {},
   "outputs": [],
   "source": [
    "# 구매자 수에 비해서 튀는 정도가 줄어들긴 함,하지만 두군데정도는 튀는정도가 보이니 검토의 필요성이 존재"
   ]
  },
  {
   "cell_type": "code",
   "execution_count": null,
   "metadata": {},
   "outputs": [],
   "source": []
  },
  {
   "cell_type": "code",
   "execution_count": null,
   "metadata": {},
   "outputs": [],
   "source": []
  },
  {
   "cell_type": "markdown",
   "metadata": {},
   "source": [
    "####  상품 배치와 상품 구매 금액에 따른 관계 분석\n",
    "\n",
    "- 서로 다른 고객군에게 노출했음"
   ]
  },
  {
   "cell_type": "code",
   "execution_count": 15,
   "metadata": {},
   "outputs": [
    {
     "data": {
      "text/html": [
       "<div>\n",
       "<style scoped>\n",
       "    .dataframe tbody tr th:only-of-type {\n",
       "        vertical-align: middle;\n",
       "    }\n",
       "\n",
       "    .dataframe tbody tr th {\n",
       "        vertical-align: top;\n",
       "    }\n",
       "\n",
       "    .dataframe thead th {\n",
       "        text-align: right;\n",
       "    }\n",
       "</style>\n",
       "<table border=\"1\" class=\"dataframe\">\n",
       "  <thead>\n",
       "    <tr style=\"text-align: right;\">\n",
       "      <th></th>\n",
       "      <th>구매금액</th>\n",
       "    </tr>\n",
       "    <tr>\n",
       "      <th>고객ID</th>\n",
       "      <th></th>\n",
       "    </tr>\n",
       "  </thead>\n",
       "  <tbody>\n",
       "    <tr>\n",
       "      <th>C-1</th>\n",
       "      <td>20459</td>\n",
       "    </tr>\n",
       "    <tr>\n",
       "      <th>C-2</th>\n",
       "      <td>0</td>\n",
       "    </tr>\n",
       "    <tr>\n",
       "      <th>C-3</th>\n",
       "      <td>19726</td>\n",
       "    </tr>\n",
       "    <tr>\n",
       "      <th>C-4</th>\n",
       "      <td>0</td>\n",
       "    </tr>\n",
       "    <tr>\n",
       "      <th>C-5</th>\n",
       "      <td>19049</td>\n",
       "    </tr>\n",
       "  </tbody>\n",
       "</table>\n",
       "</div>"
      ],
      "text/plain": [
       "       구매금액\n",
       "고객ID       \n",
       "C-1   20459\n",
       "C-2       0\n",
       "C-3   19726\n",
       "C-4       0\n",
       "C-5   19049"
      ]
     },
     "execution_count": 15,
     "metadata": {},
     "output_type": "execute_result"
    },
    {
     "data": {
      "text/html": [
       "<div>\n",
       "<style scoped>\n",
       "    .dataframe tbody tr th:only-of-type {\n",
       "        vertical-align: middle;\n",
       "    }\n",
       "\n",
       "    .dataframe tbody tr th {\n",
       "        vertical-align: top;\n",
       "    }\n",
       "\n",
       "    .dataframe thead th {\n",
       "        text-align: right;\n",
       "    }\n",
       "</style>\n",
       "<table border=\"1\" class=\"dataframe\">\n",
       "  <thead>\n",
       "    <tr style=\"text-align: right;\">\n",
       "      <th></th>\n",
       "      <th>구매금액</th>\n",
       "    </tr>\n",
       "    <tr>\n",
       "      <th>고객ID</th>\n",
       "      <th></th>\n",
       "    </tr>\n",
       "  </thead>\n",
       "  <tbody>\n",
       "    <tr>\n",
       "      <th>C-194</th>\n",
       "      <td>0</td>\n",
       "    </tr>\n",
       "    <tr>\n",
       "      <th>C-195</th>\n",
       "      <td>19419</td>\n",
       "    </tr>\n",
       "    <tr>\n",
       "      <th>C-196</th>\n",
       "      <td>0</td>\n",
       "    </tr>\n",
       "    <tr>\n",
       "      <th>C-197</th>\n",
       "      <td>0</td>\n",
       "    </tr>\n",
       "    <tr>\n",
       "      <th>C-198</th>\n",
       "      <td>18669</td>\n",
       "    </tr>\n",
       "  </tbody>\n",
       "</table>\n",
       "</div>"
      ],
      "text/plain": [
       "        구매금액\n",
       "고객ID        \n",
       "C-194      0\n",
       "C-195  19419\n",
       "C-196      0\n",
       "C-197      0\n",
       "C-198  18669"
      ]
     },
     "execution_count": 15,
     "metadata": {},
     "output_type": "execute_result"
    }
   ],
   "source": [
    "placement_A = pd.read_csv(\"C:/Users/Administrator/Desktop/coding/python/muticam/jupyter note/data/AB테스트/상품배치_A.csv\", index_col = \"고객ID\",encoding='euc-kr')\n",
    "placement_A.head()\n",
    "placement_A.tail()"
   ]
  },
  {
   "cell_type": "code",
   "execution_count": 16,
   "metadata": {},
   "outputs": [
    {
     "data": {
      "text/html": [
       "<div>\n",
       "<style scoped>\n",
       "    .dataframe tbody tr th:only-of-type {\n",
       "        vertical-align: middle;\n",
       "    }\n",
       "\n",
       "    .dataframe tbody tr th {\n",
       "        vertical-align: top;\n",
       "    }\n",
       "\n",
       "    .dataframe thead th {\n",
       "        text-align: right;\n",
       "    }\n",
       "</style>\n",
       "<table border=\"1\" class=\"dataframe\">\n",
       "  <thead>\n",
       "    <tr style=\"text-align: right;\">\n",
       "      <th></th>\n",
       "      <th>구매금액</th>\n",
       "    </tr>\n",
       "    <tr>\n",
       "      <th>고객ID</th>\n",
       "      <th></th>\n",
       "    </tr>\n",
       "  </thead>\n",
       "  <tbody>\n",
       "    <tr>\n",
       "      <th>C-200</th>\n",
       "      <td>0</td>\n",
       "    </tr>\n",
       "    <tr>\n",
       "      <th>C-201</th>\n",
       "      <td>0</td>\n",
       "    </tr>\n",
       "    <tr>\n",
       "      <th>C-202</th>\n",
       "      <td>0</td>\n",
       "    </tr>\n",
       "    <tr>\n",
       "      <th>C-203</th>\n",
       "      <td>19055</td>\n",
       "    </tr>\n",
       "    <tr>\n",
       "      <th>C-204</th>\n",
       "      <td>0</td>\n",
       "    </tr>\n",
       "  </tbody>\n",
       "</table>\n",
       "</div>"
      ],
      "text/plain": [
       "        구매금액\n",
       "고객ID        \n",
       "C-200      0\n",
       "C-201      0\n",
       "C-202      0\n",
       "C-203  19055\n",
       "C-204      0"
      ]
     },
     "execution_count": 16,
     "metadata": {},
     "output_type": "execute_result"
    },
    {
     "data": {
      "text/html": [
       "<div>\n",
       "<style scoped>\n",
       "    .dataframe tbody tr th:only-of-type {\n",
       "        vertical-align: middle;\n",
       "    }\n",
       "\n",
       "    .dataframe tbody tr th {\n",
       "        vertical-align: top;\n",
       "    }\n",
       "\n",
       "    .dataframe thead th {\n",
       "        text-align: right;\n",
       "    }\n",
       "</style>\n",
       "<table border=\"1\" class=\"dataframe\">\n",
       "  <thead>\n",
       "    <tr style=\"text-align: right;\">\n",
       "      <th></th>\n",
       "      <th>구매금액</th>\n",
       "    </tr>\n",
       "    <tr>\n",
       "      <th>고객ID</th>\n",
       "      <th></th>\n",
       "    </tr>\n",
       "  </thead>\n",
       "  <tbody>\n",
       "    <tr>\n",
       "      <th>C-355</th>\n",
       "      <td>0</td>\n",
       "    </tr>\n",
       "    <tr>\n",
       "      <th>C-356</th>\n",
       "      <td>15673</td>\n",
       "    </tr>\n",
       "    <tr>\n",
       "      <th>C-357</th>\n",
       "      <td>0</td>\n",
       "    </tr>\n",
       "    <tr>\n",
       "      <th>C-358</th>\n",
       "      <td>16396</td>\n",
       "    </tr>\n",
       "    <tr>\n",
       "      <th>C-359</th>\n",
       "      <td>17814</td>\n",
       "    </tr>\n",
       "  </tbody>\n",
       "</table>\n",
       "</div>"
      ],
      "text/plain": [
       "        구매금액\n",
       "고객ID        \n",
       "C-355      0\n",
       "C-356  15673\n",
       "C-357      0\n",
       "C-358  16396\n",
       "C-359  17814"
      ]
     },
     "execution_count": 16,
     "metadata": {},
     "output_type": "execute_result"
    }
   ],
   "source": [
    "placement_B = pd.read_csv(\"C:/Users/Administrator/Desktop/coding/python/muticam/jupyter note/data/AB테스트/상품배치_B.csv\", engine = \"python\", index_col = \"고객ID\",encoding='euc-kr')\n",
    "placement_B.head()\n",
    "placement_B.tail()"
   ]
  },
  {
   "cell_type": "code",
   "execution_count": 17,
   "metadata": {},
   "outputs": [
    {
     "data": {
      "text/html": [
       "<div>\n",
       "<style scoped>\n",
       "    .dataframe tbody tr th:only-of-type {\n",
       "        vertical-align: middle;\n",
       "    }\n",
       "\n",
       "    .dataframe tbody tr th {\n",
       "        vertical-align: top;\n",
       "    }\n",
       "\n",
       "    .dataframe thead th {\n",
       "        text-align: right;\n",
       "    }\n",
       "</style>\n",
       "<table border=\"1\" class=\"dataframe\">\n",
       "  <thead>\n",
       "    <tr style=\"text-align: right;\">\n",
       "      <th></th>\n",
       "      <th>구매금액</th>\n",
       "    </tr>\n",
       "    <tr>\n",
       "      <th>고객ID</th>\n",
       "      <th></th>\n",
       "    </tr>\n",
       "  </thead>\n",
       "  <tbody>\n",
       "    <tr>\n",
       "      <th>C-360</th>\n",
       "      <td>0</td>\n",
       "    </tr>\n",
       "    <tr>\n",
       "      <th>C-361</th>\n",
       "      <td>19844</td>\n",
       "    </tr>\n",
       "    <tr>\n",
       "      <th>C-362</th>\n",
       "      <td>19085</td>\n",
       "    </tr>\n",
       "    <tr>\n",
       "      <th>C-363</th>\n",
       "      <td>0</td>\n",
       "    </tr>\n",
       "    <tr>\n",
       "      <th>C-364</th>\n",
       "      <td>19671</td>\n",
       "    </tr>\n",
       "  </tbody>\n",
       "</table>\n",
       "</div>"
      ],
      "text/plain": [
       "        구매금액\n",
       "고객ID        \n",
       "C-360      0\n",
       "C-361  19844\n",
       "C-362  19085\n",
       "C-363      0\n",
       "C-364  19671"
      ]
     },
     "execution_count": 17,
     "metadata": {},
     "output_type": "execute_result"
    },
    {
     "data": {
      "text/html": [
       "<div>\n",
       "<style scoped>\n",
       "    .dataframe tbody tr th:only-of-type {\n",
       "        vertical-align: middle;\n",
       "    }\n",
       "\n",
       "    .dataframe tbody tr th {\n",
       "        vertical-align: top;\n",
       "    }\n",
       "\n",
       "    .dataframe thead th {\n",
       "        text-align: right;\n",
       "    }\n",
       "</style>\n",
       "<table border=\"1\" class=\"dataframe\">\n",
       "  <thead>\n",
       "    <tr style=\"text-align: right;\">\n",
       "      <th></th>\n",
       "      <th>구매금액</th>\n",
       "    </tr>\n",
       "    <tr>\n",
       "      <th>고객ID</th>\n",
       "      <th></th>\n",
       "    </tr>\n",
       "  </thead>\n",
       "  <tbody>\n",
       "    <tr>\n",
       "      <th>C-503</th>\n",
       "      <td>0</td>\n",
       "    </tr>\n",
       "    <tr>\n",
       "      <th>C-504</th>\n",
       "      <td>0</td>\n",
       "    </tr>\n",
       "    <tr>\n",
       "      <th>C-505</th>\n",
       "      <td>0</td>\n",
       "    </tr>\n",
       "    <tr>\n",
       "      <th>C-506</th>\n",
       "      <td>21363</td>\n",
       "    </tr>\n",
       "    <tr>\n",
       "      <th>C-507</th>\n",
       "      <td>0</td>\n",
       "    </tr>\n",
       "  </tbody>\n",
       "</table>\n",
       "</div>"
      ],
      "text/plain": [
       "        구매금액\n",
       "고객ID        \n",
       "C-503      0\n",
       "C-504      0\n",
       "C-505      0\n",
       "C-506  21363\n",
       "C-507      0"
      ]
     },
     "execution_count": 17,
     "metadata": {},
     "output_type": "execute_result"
    }
   ],
   "source": [
    "placement_C = pd.read_csv(\"C:/Users/Administrator/Desktop/coding/python/muticam/jupyter note/data/AB테스트/상품배치_C.csv\", engine = \"python\", index_col = \"고객ID\",encoding='euc-kr')\n",
    "placement_C.head()\n",
    "placement_C.tail()"
   ]
  },
  {
   "cell_type": "markdown",
   "metadata": {},
   "source": [
    "구매금액이 0인 사람을 제외한 분석 수행"
   ]
  },
  {
   "cell_type": "code",
   "execution_count": 18,
   "metadata": {},
   "outputs": [],
   "source": [
    "# 구매금액이 0이 아닌 고객에 대해 구매 금액만 추출하시오\n",
    "placement_A_without_zero = placement_A.loc[placement_A[\"구매금액\"]!=0]\n",
    "# placement_B_without_zero = \n",
    "# placement_C_without_zero = "
   ]
  },
  {
   "cell_type": "code",
   "execution_count": 19,
   "metadata": {},
   "outputs": [
    {
     "data": {
      "text/html": [
       "<div>\n",
       "<style scoped>\n",
       "    .dataframe tbody tr th:only-of-type {\n",
       "        vertical-align: middle;\n",
       "    }\n",
       "\n",
       "    .dataframe tbody tr th {\n",
       "        vertical-align: top;\n",
       "    }\n",
       "\n",
       "    .dataframe thead th {\n",
       "        text-align: right;\n",
       "    }\n",
       "</style>\n",
       "<table border=\"1\" class=\"dataframe\">\n",
       "  <thead>\n",
       "    <tr style=\"text-align: right;\">\n",
       "      <th></th>\n",
       "      <th>구매금액</th>\n",
       "    </tr>\n",
       "    <tr>\n",
       "      <th>고객ID</th>\n",
       "      <th></th>\n",
       "    </tr>\n",
       "  </thead>\n",
       "  <tbody>\n",
       "    <tr>\n",
       "      <th>C-1</th>\n",
       "      <td>20459</td>\n",
       "    </tr>\n",
       "    <tr>\n",
       "      <th>C-3</th>\n",
       "      <td>19726</td>\n",
       "    </tr>\n",
       "    <tr>\n",
       "      <th>C-5</th>\n",
       "      <td>19049</td>\n",
       "    </tr>\n",
       "    <tr>\n",
       "      <th>C-9</th>\n",
       "      <td>20084</td>\n",
       "    </tr>\n",
       "    <tr>\n",
       "      <th>C-10</th>\n",
       "      <td>21285</td>\n",
       "    </tr>\n",
       "    <tr>\n",
       "      <th>...</th>\n",
       "      <td>...</td>\n",
       "    </tr>\n",
       "    <tr>\n",
       "      <th>C-191</th>\n",
       "      <td>21148</td>\n",
       "    </tr>\n",
       "    <tr>\n",
       "      <th>C-192</th>\n",
       "      <td>20601</td>\n",
       "    </tr>\n",
       "    <tr>\n",
       "      <th>C-193</th>\n",
       "      <td>20463</td>\n",
       "    </tr>\n",
       "    <tr>\n",
       "      <th>C-195</th>\n",
       "      <td>19419</td>\n",
       "    </tr>\n",
       "    <tr>\n",
       "      <th>C-198</th>\n",
       "      <td>18669</td>\n",
       "    </tr>\n",
       "  </tbody>\n",
       "</table>\n",
       "<p>102 rows × 1 columns</p>\n",
       "</div>"
      ],
      "text/plain": [
       "        구매금액\n",
       "고객ID        \n",
       "C-1    20459\n",
       "C-3    19726\n",
       "C-5    19049\n",
       "C-9    20084\n",
       "C-10   21285\n",
       "...      ...\n",
       "C-191  21148\n",
       "C-192  20601\n",
       "C-193  20463\n",
       "C-195  19419\n",
       "C-198  18669\n",
       "\n",
       "[102 rows x 1 columns]"
      ]
     },
     "execution_count": 19,
     "metadata": {},
     "output_type": "execute_result"
    }
   ],
   "source": [
    "placement_A_without_zero"
   ]
  },
  {
   "cell_type": "code",
   "execution_count": 20,
   "metadata": {},
   "outputs": [
    {
     "data": {
      "text/plain": [
       "array([[20459],\n",
       "       [19726],\n",
       "       [19049],\n",
       "       [20084],\n",
       "       [21285],\n",
       "       [20613],\n",
       "       [20724],\n",
       "       [19741],\n",
       "       [20904],\n",
       "       [21149],\n",
       "       [18413],\n",
       "       [20677],\n",
       "       [21404],\n",
       "       [18858],\n",
       "       [19411],\n",
       "       [22192],\n",
       "       [19355],\n",
       "       [19495],\n",
       "       [17755],\n",
       "       [18153],\n",
       "       [19474],\n",
       "       [20449],\n",
       "       [18486],\n",
       "       [19506],\n",
       "       [16556],\n",
       "       [19517],\n",
       "       [18829],\n",
       "       [20436],\n",
       "       [20334],\n",
       "       [18465],\n",
       "       [19985],\n",
       "       [21761],\n",
       "       [20064],\n",
       "       [20032],\n",
       "       [19972],\n",
       "       [20734],\n",
       "       [19584],\n",
       "       [19531],\n",
       "       [19746],\n",
       "       [19918],\n",
       "       [19637],\n",
       "       [20618],\n",
       "       [19910],\n",
       "       [19558],\n",
       "       [21191],\n",
       "       [19376],\n",
       "       [18158],\n",
       "       [19121],\n",
       "       [20905],\n",
       "       [20437],\n",
       "       [20921],\n",
       "       [20519],\n",
       "       [19659],\n",
       "       [18555],\n",
       "       [21177],\n",
       "       [20683],\n",
       "       [20395],\n",
       "       [19736],\n",
       "       [21679],\n",
       "       [21279],\n",
       "       [21104],\n",
       "       [22313],\n",
       "       [19397],\n",
       "       [20507],\n",
       "       [20300],\n",
       "       [20551],\n",
       "       [18567],\n",
       "       [18703],\n",
       "       [20523],\n",
       "       [18809],\n",
       "       [20092],\n",
       "       [18230],\n",
       "       [20282],\n",
       "       [20997],\n",
       "       [20297],\n",
       "       [19943],\n",
       "       [21108],\n",
       "       [18362],\n",
       "       [21545],\n",
       "       [19441],\n",
       "       [22338],\n",
       "       [20800],\n",
       "       [20113],\n",
       "       [20097],\n",
       "       [20454],\n",
       "       [19894],\n",
       "       [18728],\n",
       "       [19011],\n",
       "       [20189],\n",
       "       [20239],\n",
       "       [18195],\n",
       "       [21059],\n",
       "       [20041],\n",
       "       [21511],\n",
       "       [20062],\n",
       "       [18556],\n",
       "       [19754],\n",
       "       [21148],\n",
       "       [20601],\n",
       "       [20463],\n",
       "       [19419],\n",
       "       [18669]], dtype=int64)"
      ]
     },
     "execution_count": 20,
     "metadata": {},
     "output_type": "execute_result"
    }
   ],
   "source": [
    "placement_A_without_zero = placement_A.loc[placement_A[\"구매금액\"]!=0].values\n",
    "placement_A_without_zero"
   ]
  },
  {
   "cell_type": "code",
   "execution_count": 21,
   "metadata": {},
   "outputs": [
    {
     "data": {
      "text/plain": [
       "array([20459, 19726, 19049, 20084, 21285, 20613, 20724, 19741, 20904,\n",
       "       21149, 18413, 20677, 21404, 18858, 19411, 22192, 19355, 19495,\n",
       "       17755, 18153, 19474, 20449, 18486, 19506, 16556, 19517, 18829,\n",
       "       20436, 20334, 18465, 19985, 21761, 20064, 20032, 19972, 20734,\n",
       "       19584, 19531, 19746, 19918, 19637, 20618, 19910, 19558, 21191,\n",
       "       19376, 18158, 19121, 20905, 20437, 20921, 20519, 19659, 18555,\n",
       "       21177, 20683, 20395, 19736, 21679, 21279, 21104, 22313, 19397,\n",
       "       20507, 20300, 20551, 18567, 18703, 20523, 18809, 20092, 18230,\n",
       "       20282, 20997, 20297, 19943, 21108, 18362, 21545, 19441, 22338,\n",
       "       20800, 20113, 20097, 20454, 19894, 18728, 19011, 20189, 20239,\n",
       "       18195, 21059, 20041, 21511, 20062, 18556, 19754, 21148, 20601,\n",
       "       20463, 19419, 18669], dtype=int64)"
      ]
     },
     "execution_count": 21,
     "metadata": {},
     "output_type": "execute_result"
    }
   ],
   "source": [
    "placement_A_without_zero = placement_A.loc[placement_A[\"구매금액\"]!=0][\"구매금액\"].values\n",
    "placement_A_without_zero \n"
   ]
  },
  {
   "cell_type": "code",
   "execution_count": 22,
   "metadata": {},
   "outputs": [],
   "source": [
    "# 구매금액이 0이 아닌 고객에 대해 구매 금액만 추출하시오\n",
    "placement_A_without_zero = placement_A.loc[placement_A[\"구매금액\"]!=0][\"구매금액\"].values\n",
    "placement_B_without_zero = placement_B.loc[placement_B[\"구매금액\"]!=0][\"구매금액\"].values\n",
    "placement_C_without_zero = placement_C.loc[placement_C[\"구매금액\"]!=0][\"구매금액\"].values"
   ]
  },
  {
   "cell_type": "code",
   "execution_count": null,
   "metadata": {},
   "outputs": [],
   "source": []
  },
  {
   "cell_type": "code",
   "execution_count": 23,
   "metadata": {},
   "outputs": [
    {
     "data": {
      "text/plain": [
       "array([20459, 19726, 19049, 20084, 21285, 20613, 20724, 19741, 20904,\n",
       "       21149, 18413, 20677, 21404, 18858, 19411, 22192, 19355, 19495,\n",
       "       17755, 18153, 19474, 20449, 18486, 19506, 16556, 19517, 18829,\n",
       "       20436, 20334, 18465, 19985, 21761, 20064, 20032, 19972, 20734,\n",
       "       19584, 19531, 19746, 19918, 19637, 20618, 19910, 19558, 21191,\n",
       "       19376, 18158, 19121, 20905, 20437, 20921, 20519, 19659, 18555,\n",
       "       21177, 20683, 20395, 19736, 21679, 21279, 21104, 22313, 19397,\n",
       "       20507, 20300, 20551, 18567, 18703, 20523, 18809, 20092, 18230,\n",
       "       20282, 20997, 20297, 19943, 21108, 18362, 21545, 19441, 22338,\n",
       "       20800, 20113, 20097, 20454, 19894, 18728, 19011, 20189, 20239,\n",
       "       18195, 21059, 20041, 21511, 20062, 18556, 19754, 21148, 20601,\n",
       "       20463, 19419, 18669], dtype=int64)"
      ]
     },
     "execution_count": 23,
     "metadata": {},
     "output_type": "execute_result"
    }
   ],
   "source": [
    "placement_A_without_zero"
   ]
  },
  {
   "cell_type": "code",
   "execution_count": 24,
   "metadata": {},
   "outputs": [
    {
     "data": {
      "text/plain": [
       "array([19055, 17958, 16292, 18296, 17472, 17003, 16919, 18036, 18333,\n",
       "       18790, 18476, 17656, 19401, 18165, 17938, 16646, 19687, 16829,\n",
       "       18523, 18219, 17841, 18901, 17940, 17361, 18626, 18869, 16528,\n",
       "       16169, 18261, 18988, 17040, 17941, 19306, 18638, 17245, 19988,\n",
       "       18873, 19359, 19125, 17486, 19579, 19049, 18590, 18074, 18091,\n",
       "       18567, 20944, 18029, 17043, 18648, 16544, 18794, 18741, 17667,\n",
       "       17729, 17515, 19275, 18199, 18953, 17915, 16265, 19629, 16951,\n",
       "       19429, 16830, 15673, 16396, 17814], dtype=int64)"
      ]
     },
     "execution_count": 24,
     "metadata": {},
     "output_type": "execute_result"
    }
   ],
   "source": [
    "placement_B_without_zero"
   ]
  },
  {
   "cell_type": "code",
   "execution_count": 25,
   "metadata": {},
   "outputs": [
    {
     "data": {
      "text/plain": [
       "array([19844, 19085, 19671, 20429, 20855, 20554, 20541, 19774, 21641,\n",
       "       22352, 20783, 21120, 17282, 19011, 20839, 18950, 19249, 19701,\n",
       "       19686, 20294, 18794, 19354, 20332, 20152, 19702, 20273, 20129,\n",
       "       21526, 19507, 21706, 19083, 20380, 20212, 19578, 20621, 20518,\n",
       "       20727, 20664, 20611, 18169, 21284, 20814, 20773, 21456, 20694,\n",
       "       17275, 20105, 20027, 17400, 20658, 19174, 20398, 18149, 18885,\n",
       "       19733, 19350, 20463, 21519, 21363], dtype=int64)"
      ]
     },
     "execution_count": 25,
     "metadata": {},
     "output_type": "execute_result"
    }
   ],
   "source": [
    "placement_C_without_zero"
   ]
  },
  {
   "cell_type": "code",
   "execution_count": null,
   "metadata": {},
   "outputs": [],
   "source": []
  },
  {
   "cell_type": "code",
   "execution_count": 26,
   "metadata": {},
   "outputs": [
    {
     "data": {
      "text/plain": [
       "{'whiskers': [<matplotlib.lines.Line2D at 0xc08df10>,\n",
       "  <matplotlib.lines.Line2D at 0xc095d30>,\n",
       "  <matplotlib.lines.Line2D at 0xc07c0a0>,\n",
       "  <matplotlib.lines.Line2D at 0xc07cc70>,\n",
       "  <matplotlib.lines.Line2D at 0xc0a5490>,\n",
       "  <matplotlib.lines.Line2D at 0xc1470d0>],\n",
       " 'caps': [<matplotlib.lines.Line2D at 0xc095f70>,\n",
       "  <matplotlib.lines.Line2D at 0xc095c10>,\n",
       "  <matplotlib.lines.Line2D at 0xc09ea90>,\n",
       "  <matplotlib.lines.Line2D at 0xc09eb80>,\n",
       "  <matplotlib.lines.Line2D at 0xc147b80>,\n",
       "  <matplotlib.lines.Line2D at 0xc0b0670>],\n",
       " 'boxes': [<matplotlib.lines.Line2D at 0xc08d1f0>,\n",
       "  <matplotlib.lines.Line2D at 0xc07cd00>,\n",
       "  <matplotlib.lines.Line2D at 0xc0a54f0>],\n",
       " 'medians': [<matplotlib.lines.Line2D at 0xc146670>,\n",
       "  <matplotlib.lines.Line2D at 0xc09e880>,\n",
       "  <matplotlib.lines.Line2D at 0xc0b0790>],\n",
       " 'fliers': [<matplotlib.lines.Line2D at 0xc07c2b0>,\n",
       "  <matplotlib.lines.Line2D at 0xc0a5520>,\n",
       "  <matplotlib.lines.Line2D at 0xc0b05e0>],\n",
       " 'means': []}"
      ]
     },
     "execution_count": 26,
     "metadata": {},
     "output_type": "execute_result"
    },
    {
     "data": {
      "image/png": "[encoded data removed]",
      "text/plain": [
       "<Figure size 1440x360 with 1 Axes>"
      ]
     },
     "metadata": {
      "needs_background": "light"
     },
     "output_type": "display_data"
    }
   ],
   "source": [
    "# 위 세 데이터를 box plot 으로 시각화 하시오\n",
    "\n",
    "plt.boxplot([placement_A_without_zero,placement_B_without_zero,placement_C_without_zero])\n"
   ]
  },
  {
   "cell_type": "code",
   "execution_count": 27,
   "metadata": {},
   "outputs": [],
   "source": [
    "## 세 데이터의 평균이 차이가 있는지 확인하시오-2개 초과하는 변수의 차이검정(일원분산분석-아노바검정)"
   ]
  },
  {
   "attachments": {
    "image.png": {
     "image/png": "[encoded data removed]"
    }
   },
   "cell_type": "markdown",
   "metadata": {},
   "source": [
    "아노바검정 조건\n",
    "![image.png](attachment:image.png)\n"
   ]
  },
  {
   "cell_type": "code",
   "execution_count": null,
   "metadata": {},
   "outputs": [],
   "source": []
  },
  {
   "cell_type": "code",
   "execution_count": 28,
   "metadata": {},
   "outputs": [
    {
     "name": "stdout",
     "output_type": "stream",
     "text": [
      "<class 'numpy.ndarray'>\n"
     ]
    }
   ],
   "source": [
    "print(type(placement_A_without_zero))"
   ]
  },
  {
   "cell_type": "code",
   "execution_count": 29,
   "metadata": {},
   "outputs": [
    {
     "data": {
      "text/plain": [
       "KstestResult(statistic=1.0, pvalue=0.0)"
      ]
     },
     "execution_count": 29,
     "metadata": {},
     "output_type": "execute_result"
    },
    {
     "data": {
      "text/plain": [
       "KstestResult(statistic=1.0, pvalue=0.0)"
      ]
     },
     "execution_count": 29,
     "metadata": {},
     "output_type": "execute_result"
    },
    {
     "data": {
      "text/plain": [
       "KstestResult(statistic=1.0, pvalue=0.0)"
      ]
     },
     "execution_count": 29,
     "metadata": {},
     "output_type": "execute_result"
    }
   ],
   "source": [
    "# from scipy.stats import *\n",
    "kstest(placement_A_without_zero, 'norm')\n",
    "kstest(placement_B_without_zero, 'norm')\n",
    "kstest(placement_C_without_zero, 'norm')\n",
    "\n",
    "\n",
    "#pvalue 가 0에 수렴하므로 정규분포를 따른다."
   ]
  },
  {
   "cell_type": "code",
   "execution_count": 30,
   "metadata": {},
   "outputs": [
    {
     "data": {
      "text/plain": [
       "LeveneResult(statistic=0.012659999227426385, pvalue=0.9874205016592401)"
      ]
     },
     "execution_count": 30,
     "metadata": {},
     "output_type": "execute_result"
    }
   ],
   "source": [
    "# 등분산 검정\n",
    "levene(placement_A_without_zero,placement_B_without_zero,placement_C_without_zero)\n",
    "#pvalue 가 0.98로 거의 1에가까움-귀무가설 채택-등분산성이 있다"
   ]
  },
  {
   "cell_type": "markdown",
   "metadata": {},
   "source": [
    "- 등분산성과 정규성이 검정되지 않으면 아래 함수를 통한 검정은 불가능함\n",
    "    - 비모수적인 방법을 사용해야 함\n",
    "    "
   ]
  },
  {
   "cell_type": "code",
   "execution_count": null,
   "metadata": {},
   "outputs": [],
   "source": []
  },
  {
   "cell_type": "code",
   "execution_count": 31,
   "metadata": {},
   "outputs": [
    {
     "data": {
      "text/plain": [
       "F_onewayResult(statistic=76.88192392994758, pvalue=3.382319770772329e-26)"
      ]
     },
     "execution_count": 31,
     "metadata": {},
     "output_type": "execute_result"
    }
   ],
   "source": [
    "# 일원분산분석 수행\n",
    "# 귀무가설 : 세 그룹의 평균 차이는 없다(평균은 같다)\n",
    "# 대립가설: 세 그룹에서 최소 하나의 그룹은 다른 그룹과 평균차이가 있다.(평균이 다르다)\n",
    "f_oneway(placement_A_without_zero,placement_B_without_zero,placement_C_without_zero)\n",
    "\n",
    "# pvalue가 거의 0이므로 최소하나의 그룹은 다른 그룹과 평균차이가 있다-귀무가설 기각"
   ]
  },
  {
   "cell_type": "code",
   "execution_count": 32,
   "metadata": {},
   "outputs": [],
   "source": [
    "A=placement_A_without_zero\n",
    "B=placement_B_without_zero\n",
    "C=placement_C_without_zero"
   ]
  },
  {
   "cell_type": "code",
   "execution_count": 33,
   "metadata": {},
   "outputs": [
    {
     "data": {
      "text/plain": [
       "array([20459, 19726, 19049, 20084, 21285, 20613, 20724, 19741, 20904,\n",
       "       21149, 18413, 20677, 21404, 18858, 19411, 22192, 19355, 19495,\n",
       "       17755, 18153, 19474, 20449, 18486, 19506, 16556, 19517, 18829,\n",
       "       20436, 20334, 18465, 19985, 21761, 20064, 20032, 19972, 20734,\n",
       "       19584, 19531, 19746, 19918, 19637, 20618, 19910, 19558, 21191,\n",
       "       19376, 18158, 19121, 20905, 20437, 20921, 20519, 19659, 18555,\n",
       "       21177, 20683, 20395, 19736, 21679, 21279, 21104, 22313, 19397,\n",
       "       20507, 20300, 20551, 18567, 18703, 20523, 18809, 20092, 18230,\n",
       "       20282, 20997, 20297, 19943, 21108, 18362, 21545, 19441, 22338,\n",
       "       20800, 20113, 20097, 20454, 19894, 18728, 19011, 20189, 20239,\n",
       "       18195, 21059, 20041, 21511, 20062, 18556, 19754, 21148, 20601,\n",
       "       20463, 19419, 18669], dtype=int64)"
      ]
     },
     "execution_count": 33,
     "metadata": {},
     "output_type": "execute_result"
    },
    {
     "data": {
      "text/plain": [
       "array([19055, 17958, 16292, 18296, 17472, 17003, 16919, 18036, 18333,\n",
       "       18790, 18476, 17656, 19401, 18165, 17938, 16646, 19687, 16829,\n",
       "       18523, 18219, 17841, 18901, 17940, 17361, 18626, 18869, 16528,\n",
       "       16169, 18261, 18988, 17040, 17941, 19306, 18638, 17245, 19988,\n",
       "       18873, 19359, 19125, 17486, 19579, 19049, 18590, 18074, 18091,\n",
       "       18567, 20944, 18029, 17043, 18648, 16544, 18794, 18741, 17667,\n",
       "       17729, 17515, 19275, 18199, 18953, 17915, 16265, 19629, 16951,\n",
       "       19429, 16830, 15673, 16396, 17814], dtype=int64)"
      ]
     },
     "execution_count": 33,
     "metadata": {},
     "output_type": "execute_result"
    },
    {
     "data": {
      "text/plain": [
       "array([19844, 19085, 19671, 20429, 20855, 20554, 20541, 19774, 21641,\n",
       "       22352, 20783, 21120, 17282, 19011, 20839, 18950, 19249, 19701,\n",
       "       19686, 20294, 18794, 19354, 20332, 20152, 19702, 20273, 20129,\n",
       "       21526, 19507, 21706, 19083, 20380, 20212, 19578, 20621, 20518,\n",
       "       20727, 20664, 20611, 18169, 21284, 20814, 20773, 21456, 20694,\n",
       "       17275, 20105, 20027, 17400, 20658, 19174, 20398, 18149, 18885,\n",
       "       19733, 19350, 20463, 21519, 21363], dtype=int64)"
      ]
     },
     "execution_count": 33,
     "metadata": {},
     "output_type": "execute_result"
    }
   ],
   "source": [
    "# 사후 분석\n",
    "\n",
    "A\n",
    "B\n",
    "C\n"
   ]
  },
  {
   "cell_type": "code",
   "execution_count": 34,
   "metadata": {},
   "outputs": [
    {
     "data": {
      "text/plain": [
       "[20459,\n",
       " 19726,\n",
       " 19049,\n",
       " 20084,\n",
       " 21285,\n",
       " 20613,\n",
       " 20724,\n",
       " 19741,\n",
       " 20904,\n",
       " 21149,\n",
       " 18413,\n",
       " 20677,\n",
       " 21404,\n",
       " 18858,\n",
       " 19411,\n",
       " 22192,\n",
       " 19355,\n",
       " 19495,\n",
       " 17755,\n",
       " 18153,\n",
       " 19474,\n",
       " 20449,\n",
       " 18486,\n",
       " 19506,\n",
       " 16556,\n",
       " 19517,\n",
       " 18829,\n",
       " 20436,\n",
       " 20334,\n",
       " 18465,\n",
       " 19985,\n",
       " 21761,\n",
       " 20064,\n",
       " 20032,\n",
       " 19972,\n",
       " 20734,\n",
       " 19584,\n",
       " 19531,\n",
       " 19746,\n",
       " 19918,\n",
       " 19637,\n",
       " 20618,\n",
       " 19910,\n",
       " 19558,\n",
       " 21191,\n",
       " 19376,\n",
       " 18158,\n",
       " 19121,\n",
       " 20905,\n",
       " 20437,\n",
       " 20921,\n",
       " 20519,\n",
       " 19659,\n",
       " 18555,\n",
       " 21177,\n",
       " 20683,\n",
       " 20395,\n",
       " 19736,\n",
       " 21679,\n",
       " 21279,\n",
       " 21104,\n",
       " 22313,\n",
       " 19397,\n",
       " 20507,\n",
       " 20300,\n",
       " 20551,\n",
       " 18567,\n",
       " 18703,\n",
       " 20523,\n",
       " 18809,\n",
       " 20092,\n",
       " 18230,\n",
       " 20282,\n",
       " 20997,\n",
       " 20297,\n",
       " 19943,\n",
       " 21108,\n",
       " 18362,\n",
       " 21545,\n",
       " 19441,\n",
       " 22338,\n",
       " 20800,\n",
       " 20113,\n",
       " 20097,\n",
       " 20454,\n",
       " 19894,\n",
       " 18728,\n",
       " 19011,\n",
       " 20189,\n",
       " 20239,\n",
       " 18195,\n",
       " 21059,\n",
       " 20041,\n",
       " 21511,\n",
       " 20062,\n",
       " 18556,\n",
       " 19754,\n",
       " 21148,\n",
       " 20601,\n",
       " 20463,\n",
       " 19419,\n",
       " 18669,\n",
       " 19055,\n",
       " 17958,\n",
       " 16292,\n",
       " 18296,\n",
       " 17472,\n",
       " 17003,\n",
       " 16919,\n",
       " 18036,\n",
       " 18333,\n",
       " 18790,\n",
       " 18476,\n",
       " 17656,\n",
       " 19401,\n",
       " 18165,\n",
       " 17938,\n",
       " 16646,\n",
       " 19687,\n",
       " 16829,\n",
       " 18523,\n",
       " 18219,\n",
       " 17841,\n",
       " 18901,\n",
       " 17940,\n",
       " 17361,\n",
       " 18626,\n",
       " 18869,\n",
       " 16528,\n",
       " 16169,\n",
       " 18261,\n",
       " 18988,\n",
       " 17040,\n",
       " 17941,\n",
       " 19306,\n",
       " 18638,\n",
       " 17245,\n",
       " 19988,\n",
       " 18873,\n",
       " 19359,\n",
       " 19125,\n",
       " 17486,\n",
       " 19579,\n",
       " 19049,\n",
       " 18590,\n",
       " 18074,\n",
       " 18091,\n",
       " 18567,\n",
       " 20944,\n",
       " 18029,\n",
       " 17043,\n",
       " 18648,\n",
       " 16544,\n",
       " 18794,\n",
       " 18741,\n",
       " 17667,\n",
       " 17729,\n",
       " 17515,\n",
       " 19275,\n",
       " 18199,\n",
       " 18953,\n",
       " 17915,\n",
       " 16265,\n",
       " 19629,\n",
       " 16951,\n",
       " 19429,\n",
       " 16830,\n",
       " 15673,\n",
       " 16396,\n",
       " 17814,\n",
       " 19844,\n",
       " 19085,\n",
       " 19671,\n",
       " 20429,\n",
       " 20855,\n",
       " 20554,\n",
       " 20541,\n",
       " 19774,\n",
       " 21641,\n",
       " 22352,\n",
       " 20783,\n",
       " 21120,\n",
       " 17282,\n",
       " 19011,\n",
       " 20839,\n",
       " 18950,\n",
       " 19249,\n",
       " 19701,\n",
       " 19686,\n",
       " 20294,\n",
       " 18794,\n",
       " 19354,\n",
       " 20332,\n",
       " 20152,\n",
       " 19702,\n",
       " 20273,\n",
       " 20129,\n",
       " 21526,\n",
       " 19507,\n",
       " 21706,\n",
       " 19083,\n",
       " 20380,\n",
       " 20212,\n",
       " 19578,\n",
       " 20621,\n",
       " 20518,\n",
       " 20727,\n",
       " 20664,\n",
       " 20611,\n",
       " 18169,\n",
       " 21284,\n",
       " 20814,\n",
       " 20773,\n",
       " 21456,\n",
       " 20694,\n",
       " 17275,\n",
       " 20105,\n",
       " 20027,\n",
       " 17400,\n",
       " 20658,\n",
       " 19174,\n",
       " 20398,\n",
       " 18149,\n",
       " 18885,\n",
       " 19733,\n",
       " 19350,\n",
       " 20463,\n",
       " 21519,\n",
       " 21363]"
      ]
     },
     "execution_count": 34,
     "metadata": {},
     "output_type": "execute_result"
    },
    {
     "data": {
      "text/plain": [
       "['A',\n",
       " 'A',\n",
       " 'A',\n",
       " 'A',\n",
       " 'A',\n",
       " 'A',\n",
       " 'A',\n",
       " 'A',\n",
       " 'A',\n",
       " 'A',\n",
       " 'A',\n",
       " 'A',\n",
       " 'A',\n",
       " 'A',\n",
       " 'A',\n",
       " 'A',\n",
       " 'A',\n",
       " 'A',\n",
       " 'A',\n",
       " 'A',\n",
       " 'A',\n",
       " 'A',\n",
       " 'A',\n",
       " 'A',\n",
       " 'A',\n",
       " 'A',\n",
       " 'A',\n",
       " 'A',\n",
       " 'A',\n",
       " 'A',\n",
       " 'A',\n",
       " 'A',\n",
       " 'A',\n",
       " 'A',\n",
       " 'A',\n",
       " 'A',\n",
       " 'A',\n",
       " 'A',\n",
       " 'A',\n",
       " 'A',\n",
       " 'A',\n",
       " 'A',\n",
       " 'A',\n",
       " 'A',\n",
       " 'A',\n",
       " 'A',\n",
       " 'A',\n",
       " 'A',\n",
       " 'A',\n",
       " 'A',\n",
       " 'A',\n",
       " 'A',\n",
       " 'A',\n",
       " 'A',\n",
       " 'A',\n",
       " 'A',\n",
       " 'A',\n",
       " 'A',\n",
       " 'A',\n",
       " 'A',\n",
       " 'A',\n",
       " 'A',\n",
       " 'A',\n",
       " 'A',\n",
       " 'A',\n",
       " 'A',\n",
       " 'A',\n",
       " 'A',\n",
       " 'A',\n",
       " 'A',\n",
       " 'A',\n",
       " 'A',\n",
       " 'A',\n",
       " 'A',\n",
       " 'A',\n",
       " 'A',\n",
       " 'A',\n",
       " 'A',\n",
       " 'A',\n",
       " 'A',\n",
       " 'A',\n",
       " 'A',\n",
       " 'A',\n",
       " 'A',\n",
       " 'A',\n",
       " 'A',\n",
       " 'A',\n",
       " 'A',\n",
       " 'A',\n",
       " 'A',\n",
       " 'A',\n",
       " 'A',\n",
       " 'A',\n",
       " 'A',\n",
       " 'A',\n",
       " 'A',\n",
       " 'A',\n",
       " 'A',\n",
       " 'A',\n",
       " 'A',\n",
       " 'A',\n",
       " 'A',\n",
       " 'B',\n",
       " 'B',\n",
       " 'B',\n",
       " 'B',\n",
       " 'B',\n",
       " 'B',\n",
       " 'B',\n",
       " 'B',\n",
       " 'B',\n",
       " 'B',\n",
       " 'B',\n",
       " 'B',\n",
       " 'B',\n",
       " 'B',\n",
       " 'B',\n",
       " 'B',\n",
       " 'B',\n",
       " 'B',\n",
       " 'B',\n",
       " 'B',\n",
       " 'B',\n",
       " 'B',\n",
       " 'B',\n",
       " 'B',\n",
       " 'B',\n",
       " 'B',\n",
       " 'B',\n",
       " 'B',\n",
       " 'B',\n",
       " 'B',\n",
       " 'B',\n",
       " 'B',\n",
       " 'B',\n",
       " 'B',\n",
       " 'B',\n",
       " 'B',\n",
       " 'B',\n",
       " 'B',\n",
       " 'B',\n",
       " 'B',\n",
       " 'B',\n",
       " 'B',\n",
       " 'B',\n",
       " 'B',\n",
       " 'B',\n",
       " 'B',\n",
       " 'B',\n",
       " 'B',\n",
       " 'B',\n",
       " 'B',\n",
       " 'B',\n",
       " 'B',\n",
       " 'B',\n",
       " 'B',\n",
       " 'B',\n",
       " 'B',\n",
       " 'B',\n",
       " 'B',\n",
       " 'B',\n",
       " 'B',\n",
       " 'B',\n",
       " 'B',\n",
       " 'B',\n",
       " 'B',\n",
       " 'B',\n",
       " 'B',\n",
       " 'B',\n",
       " 'B',\n",
       " 'C',\n",
       " 'C',\n",
       " 'C',\n",
       " 'C',\n",
       " 'C',\n",
       " 'C',\n",
       " 'C',\n",
       " 'C',\n",
       " 'C',\n",
       " 'C',\n",
       " 'C',\n",
       " 'C',\n",
       " 'C',\n",
       " 'C',\n",
       " 'C',\n",
       " 'C',\n",
       " 'C',\n",
       " 'C',\n",
       " 'C',\n",
       " 'C',\n",
       " 'C',\n",
       " 'C',\n",
       " 'C',\n",
       " 'C',\n",
       " 'C',\n",
       " 'C',\n",
       " 'C',\n",
       " 'C',\n",
       " 'C',\n",
       " 'C',\n",
       " 'C',\n",
       " 'C',\n",
       " 'C',\n",
       " 'C',\n",
       " 'C',\n",
       " 'C',\n",
       " 'C',\n",
       " 'C',\n",
       " 'C',\n",
       " 'C',\n",
       " 'C',\n",
       " 'C',\n",
       " 'C',\n",
       " 'C',\n",
       " 'C',\n",
       " 'C',\n",
       " 'C',\n",
       " 'C',\n",
       " 'C',\n",
       " 'C',\n",
       " 'C',\n",
       " 'C',\n",
       " 'C',\n",
       " 'C',\n",
       " 'C',\n",
       " 'C',\n",
       " 'C',\n",
       " 'C',\n",
       " 'C']"
      ]
     },
     "execution_count": 34,
     "metadata": {},
     "output_type": "execute_result"
    },
    {
     "data": {
      "text/plain": [
       "(229, 229)"
      ]
     },
     "execution_count": 34,
     "metadata": {},
     "output_type": "execute_result"
    },
    {
     "data": {
      "text/plain": [
       "<statsmodels.sandbox.stats.multicomp.TukeyHSDResults at 0xc60e040>"
      ]
     },
     "execution_count": 34,
     "metadata": {},
     "output_type": "execute_result"
    },
    {
     "name": "stdout",
     "output_type": "stream",
     "text": [
      "    Multiple Comparison of Means - Tukey HSD, FWER=0.05    \n",
      "===========================================================\n",
      "group1 group2  meandiff  p-adj   lower      upper    reject\n",
      "-----------------------------------------------------------\n",
      "     A      B -1883.1765 0.001 -2276.2766 -1490.0763   True\n",
      "     A      C    66.7946   0.9  -343.9011   477.4903  False\n",
      "     B      C  1949.9711 0.001  1503.2312  2396.7109   True\n",
      "-----------------------------------------------------------\n"
     ]
    }
   ],
   "source": [
    "# 사후 분석\n",
    "from statsmodels.stats.multicomp import pairwise_tukeyhsd\n",
    "\n",
    "Data= A.tolist()+ B.tolist()+  C.tolist()\n",
    "\n",
    "Data\n",
    "\n",
    "Group = [\"A\"]*len(A)+ [\"B\"]*len(B)+ [\"C\"]*len(C)\n",
    "\n",
    "\n",
    "Group\n",
    "\n",
    "\n",
    "len(Data),len(Group)\n",
    "\n",
    "\n",
    "posthoc= pairwise_tukeyhsd(Data,Group)\n",
    "\n",
    "\n",
    "posthoc\n",
    "\n",
    "print(posthoc) "
   ]
  },
  {
   "cell_type": "code",
   "execution_count": 35,
   "metadata": {},
   "outputs": [
    {
     "name": "stdout",
     "output_type": "stream",
     "text": [
      "    Multiple Comparison of Means - Tukey HSD, FWER=0.05    \n",
      "===========================================================\n",
      "group1 group2  meandiff  p-adj   lower      upper    reject\n",
      "-----------------------------------------------------------\n",
      "     A      B -1883.1765 0.001 -2276.2766 -1490.0763   True\n",
      "     A      C    66.7946   0.9  -343.9011   477.4903  False\n",
      "     B      C  1949.9711 0.001  1503.2312  2396.7109   True\n",
      "-----------------------------------------------------------\n"
     ]
    }
   ],
   "source": [
    "from statsmodels.stats.multicomp import pairwise_tukeyhsd\n",
    "\n",
    "Data= placement_A_without_zero.tolist()+ placement_B_without_zero.tolist()+  placement_C_without_zero.tolist()\n",
    "Group = [\"A\"]*len(placement_A_without_zero)+ [\"B\"]*len(placement_B_without_zero)+ [\"C\"]*len(placement_C_without_zero)\n",
    "posthoc= pairwise_tukeyhsd(Data,Group)\n",
    "print(posthoc) \n",
    "\n",
    "#(A와 C는 평균차이가 없는 관계)~B은 평균차이가 존재"
   ]
  },
  {
   "cell_type": "code",
   "execution_count": 36,
   "metadata": {},
   "outputs": [
    {
     "name": "stdout",
     "output_type": "stream",
     "text": [
      "    Multiple Comparison of Means - Tukey HSD, FWER=0.05    \n",
      "===========================================================\n",
      "group1 group2  meandiff  p-adj   lower      upper    reject\n",
      "-----------------------------------------------------------\n",
      "     A      B -1883.1765 0.001 -2276.2766 -1490.0763   True\n",
      "     A      C    66.7946   0.9  -343.9011   477.4903  False\n",
      "     B      C  1949.9711 0.001  1503.2312  2396.7109   True\n",
      "-----------------------------------------------------------\n"
     ]
    }
   ],
   "source": [
    "print(posthoc) \n",
    "\n",
    "# reject 결과를 확인: 두번째줄의  reject 가 False\n",
    "# 두번째 줄은 [A,C][B]로 데이터가 구분됨\n",
    "# 즉 집단 B는 다른 집단과 유의미한 차이가 존재"
   ]
  },
  {
   "attachments": {
    "image.png": {
     "image/png": "[encoded data removed]"
    }
   },
   "cell_type": "markdown",
   "metadata": {},
   "source": [
    "![image.png](attachment:image.png)"
   ]
  },
  {
   "cell_type": "code",
   "execution_count": null,
   "metadata": {},
   "outputs": [],
   "source": []
  },
  {
   "cell_type": "code",
   "execution_count": null,
   "metadata": {},
   "outputs": [],
   "source": []
  },
  {
   "cell_type": "markdown",
   "metadata": {},
   "source": [
    "####  구매 여부와 상품 배치 간 관계 파악 \n"
   ]
  },
  {
   "cell_type": "code",
   "execution_count": 37,
   "metadata": {},
   "outputs": [
    {
     "data": {
      "text/html": [
       "<div>\n",
       "<style scoped>\n",
       "    .dataframe tbody tr th:only-of-type {\n",
       "        vertical-align: middle;\n",
       "    }\n",
       "\n",
       "    .dataframe tbody tr th {\n",
       "        vertical-align: top;\n",
       "    }\n",
       "\n",
       "    .dataframe thead th {\n",
       "        text-align: right;\n",
       "    }\n",
       "</style>\n",
       "<table border=\"1\" class=\"dataframe\">\n",
       "  <thead>\n",
       "    <tr style=\"text-align: right;\">\n",
       "      <th></th>\n",
       "      <th>구매금액</th>\n",
       "      <th>상품배치</th>\n",
       "      <th>구매여부</th>\n",
       "    </tr>\n",
       "    <tr>\n",
       "      <th>고객ID</th>\n",
       "      <th></th>\n",
       "      <th></th>\n",
       "      <th></th>\n",
       "    </tr>\n",
       "  </thead>\n",
       "  <tbody>\n",
       "    <tr>\n",
       "      <th>C-1</th>\n",
       "      <td>20459</td>\n",
       "      <td>A</td>\n",
       "      <td>1</td>\n",
       "    </tr>\n",
       "    <tr>\n",
       "      <th>C-2</th>\n",
       "      <td>0</td>\n",
       "      <td>A</td>\n",
       "      <td>0</td>\n",
       "    </tr>\n",
       "    <tr>\n",
       "      <th>C-3</th>\n",
       "      <td>19726</td>\n",
       "      <td>A</td>\n",
       "      <td>1</td>\n",
       "    </tr>\n",
       "    <tr>\n",
       "      <th>C-4</th>\n",
       "      <td>0</td>\n",
       "      <td>A</td>\n",
       "      <td>0</td>\n",
       "    </tr>\n",
       "    <tr>\n",
       "      <th>C-5</th>\n",
       "      <td>19049</td>\n",
       "      <td>A</td>\n",
       "      <td>1</td>\n",
       "    </tr>\n",
       "  </tbody>\n",
       "</table>\n",
       "</div>"
      ],
      "text/plain": [
       "       구매금액 상품배치  구매여부\n",
       "고객ID                  \n",
       "C-1   20459    A     1\n",
       "C-2       0    A     0\n",
       "C-3   19726    A     1\n",
       "C-4       0    A     0\n",
       "C-5   19049    A     1"
      ]
     },
     "execution_count": 37,
     "metadata": {},
     "output_type": "execute_result"
    }
   ],
   "source": [
    "# 데이터 변환\n",
    "placement_A['상품배치'] = 'A'\n",
    "placement_B['상품배치'] = 'B'\n",
    "placement_C['상품배치'] = 'C'\n",
    "\n",
    "placement = pd.concat([placement_A, placement_B, placement_C], axis = 0, ignore_index = False)\n",
    "placement['구매여부'] = (placement['구매금액'] != 0).astype(int) #T면 1로 F면 0으로 - 구매금액이 있으면 1 없으면 0\n",
    "placement.head()\n"
   ]
  },
  {
   "cell_type": "code",
   "execution_count": 38,
   "metadata": {},
   "outputs": [
    {
     "data": {
      "text/html": [
       "<div>\n",
       "<style scoped>\n",
       "    .dataframe tbody tr th:only-of-type {\n",
       "        vertical-align: middle;\n",
       "    }\n",
       "\n",
       "    .dataframe tbody tr th {\n",
       "        vertical-align: top;\n",
       "    }\n",
       "\n",
       "    .dataframe thead th {\n",
       "        text-align: right;\n",
       "    }\n",
       "</style>\n",
       "<table border=\"1\" class=\"dataframe\">\n",
       "  <thead>\n",
       "    <tr style=\"text-align: right;\">\n",
       "      <th></th>\n",
       "      <th>구매금액</th>\n",
       "      <th>상품배치</th>\n",
       "      <th>구매여부</th>\n",
       "    </tr>\n",
       "    <tr>\n",
       "      <th>고객ID</th>\n",
       "      <th></th>\n",
       "      <th></th>\n",
       "      <th></th>\n",
       "    </tr>\n",
       "  </thead>\n",
       "  <tbody>\n",
       "    <tr>\n",
       "      <th>C-1</th>\n",
       "      <td>20459</td>\n",
       "      <td>A</td>\n",
       "      <td>1</td>\n",
       "    </tr>\n",
       "    <tr>\n",
       "      <th>C-2</th>\n",
       "      <td>0</td>\n",
       "      <td>A</td>\n",
       "      <td>0</td>\n",
       "    </tr>\n",
       "    <tr>\n",
       "      <th>C-3</th>\n",
       "      <td>19726</td>\n",
       "      <td>A</td>\n",
       "      <td>1</td>\n",
       "    </tr>\n",
       "    <tr>\n",
       "      <th>C-4</th>\n",
       "      <td>0</td>\n",
       "      <td>A</td>\n",
       "      <td>0</td>\n",
       "    </tr>\n",
       "    <tr>\n",
       "      <th>C-5</th>\n",
       "      <td>19049</td>\n",
       "      <td>A</td>\n",
       "      <td>1</td>\n",
       "    </tr>\n",
       "    <tr>\n",
       "      <th>...</th>\n",
       "      <td>...</td>\n",
       "      <td>...</td>\n",
       "      <td>...</td>\n",
       "    </tr>\n",
       "    <tr>\n",
       "      <th>C-503</th>\n",
       "      <td>0</td>\n",
       "      <td>C</td>\n",
       "      <td>0</td>\n",
       "    </tr>\n",
       "    <tr>\n",
       "      <th>C-504</th>\n",
       "      <td>0</td>\n",
       "      <td>C</td>\n",
       "      <td>0</td>\n",
       "    </tr>\n",
       "    <tr>\n",
       "      <th>C-505</th>\n",
       "      <td>0</td>\n",
       "      <td>C</td>\n",
       "      <td>0</td>\n",
       "    </tr>\n",
       "    <tr>\n",
       "      <th>C-506</th>\n",
       "      <td>21363</td>\n",
       "      <td>C</td>\n",
       "      <td>1</td>\n",
       "    </tr>\n",
       "    <tr>\n",
       "      <th>C-507</th>\n",
       "      <td>0</td>\n",
       "      <td>C</td>\n",
       "      <td>0</td>\n",
       "    </tr>\n",
       "  </tbody>\n",
       "</table>\n",
       "<p>506 rows × 3 columns</p>\n",
       "</div>"
      ],
      "text/plain": [
       "        구매금액 상품배치  구매여부\n",
       "고객ID                   \n",
       "C-1    20459    A     1\n",
       "C-2        0    A     0\n",
       "C-3    19726    A     1\n",
       "C-4        0    A     0\n",
       "C-5    19049    A     1\n",
       "...      ...  ...   ...\n",
       "C-503      0    C     0\n",
       "C-504      0    C     0\n",
       "C-505      0    C     0\n",
       "C-506  21363    C     1\n",
       "C-507      0    C     0\n",
       "\n",
       "[506 rows x 3 columns]"
      ]
     },
     "execution_count": 38,
     "metadata": {},
     "output_type": "execute_result"
    }
   ],
   "source": [
    "placement"
   ]
  },
  {
   "cell_type": "code",
   "execution_count": 39,
   "metadata": {},
   "outputs": [
    {
     "data": {
      "text/html": [
       "<div>\n",
       "<style scoped>\n",
       "    .dataframe tbody tr th:only-of-type {\n",
       "        vertical-align: middle;\n",
       "    }\n",
       "\n",
       "    .dataframe tbody tr th {\n",
       "        vertical-align: top;\n",
       "    }\n",
       "\n",
       "    .dataframe thead th {\n",
       "        text-align: right;\n",
       "    }\n",
       "</style>\n",
       "<table border=\"1\" class=\"dataframe\">\n",
       "  <thead>\n",
       "    <tr style=\"text-align: right;\">\n",
       "      <th>구매여부</th>\n",
       "      <th>0</th>\n",
       "      <th>1</th>\n",
       "    </tr>\n",
       "    <tr>\n",
       "      <th>상품배치</th>\n",
       "      <th></th>\n",
       "      <th></th>\n",
       "    </tr>\n",
       "  </thead>\n",
       "  <tbody>\n",
       "    <tr>\n",
       "      <th>A</th>\n",
       "      <td>96</td>\n",
       "      <td>102</td>\n",
       "    </tr>\n",
       "    <tr>\n",
       "      <th>B</th>\n",
       "      <td>92</td>\n",
       "      <td>68</td>\n",
       "    </tr>\n",
       "    <tr>\n",
       "      <th>C</th>\n",
       "      <td>89</td>\n",
       "      <td>59</td>\n",
       "    </tr>\n",
       "  </tbody>\n",
       "</table>\n",
       "</div>"
      ],
      "text/plain": [
       "구매여부   0    1\n",
       "상품배치         \n",
       "A     96  102\n",
       "B     92   68\n",
       "C     89   59"
      ]
     },
     "execution_count": 39,
     "metadata": {},
     "output_type": "execute_result"
    }
   ],
   "source": [
    "# 교차 테이블 생성\n",
    "# crosstable (data1,data2)\n",
    "cross_table = pd.crosstab(placement[\"상품배치\"], placement[\"구매여부\"])\n",
    "cross_table"
   ]
  },
  {
   "attachments": {
    "image.png": {
     "image/png": "[encoded data removed]"
    }
   },
   "cell_type": "markdown",
   "metadata": {},
   "source": [
    "![image.png](attachment:image.png)"
   ]
  },
  {
   "cell_type": "code",
   "execution_count": 40,
   "metadata": {},
   "outputs": [
    {
     "name": "stdout",
     "output_type": "stream",
     "text": [
      "0.0686402428247769\n"
     ]
    }
   ],
   "source": [
    "obs = cross_table.values\n",
    "statistics, pvalue, dof, expected = chi2_contingency(obs,correction = True)\n",
    "print(pvalue) # pvalue가 0.06으로 구매여부와 상품배치에는 관계가 있다고 보기 힘듦- B랑 C가 차이가 크지 않아서 이렇게 나왔을 가능성이 큼"
   ]
  },
  {
   "cell_type": "code",
   "execution_count": null,
   "metadata": {},
   "outputs": [],
   "source": []
  },
  {
   "cell_type": "code",
   "execution_count": 41,
   "metadata": {},
   "outputs": [
    {
     "data": {
      "text/html": [
       "<div>\n",
       "<style scoped>\n",
       "    .dataframe tbody tr th:only-of-type {\n",
       "        vertical-align: middle;\n",
       "    }\n",
       "\n",
       "    .dataframe tbody tr th {\n",
       "        vertical-align: top;\n",
       "    }\n",
       "\n",
       "    .dataframe thead th {\n",
       "        text-align: right;\n",
       "    }\n",
       "</style>\n",
       "<table border=\"1\" class=\"dataframe\">\n",
       "  <thead>\n",
       "    <tr style=\"text-align: right;\">\n",
       "      <th>구매여부</th>\n",
       "      <th>0</th>\n",
       "      <th>1</th>\n",
       "    </tr>\n",
       "    <tr>\n",
       "      <th>상품배치</th>\n",
       "      <th></th>\n",
       "      <th></th>\n",
       "    </tr>\n",
       "  </thead>\n",
       "  <tbody>\n",
       "    <tr>\n",
       "      <th>A</th>\n",
       "      <td>108.391304</td>\n",
       "      <td>89.608696</td>\n",
       "    </tr>\n",
       "    <tr>\n",
       "      <th>B</th>\n",
       "      <td>87.588933</td>\n",
       "      <td>72.411067</td>\n",
       "    </tr>\n",
       "    <tr>\n",
       "      <th>C</th>\n",
       "      <td>81.019763</td>\n",
       "      <td>66.980237</td>\n",
       "    </tr>\n",
       "  </tbody>\n",
       "</table>\n",
       "</div>"
      ],
      "text/plain": [
       "구매여부           0          1\n",
       "상품배치                       \n",
       "A     108.391304  89.608696\n",
       "B      87.588933  72.411067\n",
       "C      81.019763  66.980237"
      ]
     },
     "execution_count": 41,
     "metadata": {},
     "output_type": "execute_result"
    }
   ],
   "source": [
    "# 기대값\n",
    "pd.DataFrame(expected, columns = cross_table.columns, index = cross_table.index)"
   ]
  },
  {
   "cell_type": "markdown",
   "metadata": {},
   "source": [
    "####  사이트맵 구성에 따른 체류 시간 차이 분석"
   ]
  },
  {
   "cell_type": "code",
   "execution_count": 42,
   "metadata": {},
   "outputs": [
    {
     "data": {
      "text/html": [
       "<div>\n",
       "<style scoped>\n",
       "    .dataframe tbody tr th:only-of-type {\n",
       "        vertical-align: middle;\n",
       "    }\n",
       "\n",
       "    .dataframe tbody tr th {\n",
       "        vertical-align: top;\n",
       "    }\n",
       "\n",
       "    .dataframe thead th {\n",
       "        text-align: right;\n",
       "    }\n",
       "</style>\n",
       "<table border=\"1\" class=\"dataframe\">\n",
       "  <thead>\n",
       "    <tr style=\"text-align: right;\">\n",
       "      <th></th>\n",
       "      <th>고객ID</th>\n",
       "      <th>체류시간(분)</th>\n",
       "    </tr>\n",
       "  </thead>\n",
       "  <tbody>\n",
       "    <tr>\n",
       "      <th>0</th>\n",
       "      <td>C-508</td>\n",
       "      <td>9</td>\n",
       "    </tr>\n",
       "    <tr>\n",
       "      <th>1</th>\n",
       "      <td>C-509</td>\n",
       "      <td>8</td>\n",
       "    </tr>\n",
       "    <tr>\n",
       "      <th>2</th>\n",
       "      <td>C-510</td>\n",
       "      <td>7</td>\n",
       "    </tr>\n",
       "    <tr>\n",
       "      <th>3</th>\n",
       "      <td>C-511</td>\n",
       "      <td>9</td>\n",
       "    </tr>\n",
       "    <tr>\n",
       "      <th>4</th>\n",
       "      <td>C-512</td>\n",
       "      <td>10</td>\n",
       "    </tr>\n",
       "  </tbody>\n",
       "</table>\n",
       "</div>"
      ],
      "text/plain": [
       "    고객ID  체류시간(분)\n",
       "0  C-508        9\n",
       "1  C-509        8\n",
       "2  C-510        7\n",
       "3  C-511        9\n",
       "4  C-512       10"
      ]
     },
     "execution_count": 42,
     "metadata": {},
     "output_type": "execute_result"
    }
   ],
   "source": [
    "sitemap_A = pd.read_csv(\"C:/Users/Administrator/Desktop/coding/python/muticam/jupyter note/data/AB테스트/사이트맵_A.csv\", engine = \"python\",encoding=\"euc-kr\")\n",
    "sitemap_A.head()"
   ]
  },
  {
   "cell_type": "code",
   "execution_count": 43,
   "metadata": {},
   "outputs": [
    {
     "data": {
      "text/html": [
       "<div>\n",
       "<style scoped>\n",
       "    .dataframe tbody tr th:only-of-type {\n",
       "        vertical-align: middle;\n",
       "    }\n",
       "\n",
       "    .dataframe tbody tr th {\n",
       "        vertical-align: top;\n",
       "    }\n",
       "\n",
       "    .dataframe thead th {\n",
       "        text-align: right;\n",
       "    }\n",
       "</style>\n",
       "<table border=\"1\" class=\"dataframe\">\n",
       "  <thead>\n",
       "    <tr style=\"text-align: right;\">\n",
       "      <th></th>\n",
       "      <th>고객ID</th>\n",
       "      <th>체류시간(분)</th>\n",
       "    </tr>\n",
       "  </thead>\n",
       "  <tbody>\n",
       "    <tr>\n",
       "      <th>0</th>\n",
       "      <td>C-696</td>\n",
       "      <td>10</td>\n",
       "    </tr>\n",
       "    <tr>\n",
       "      <th>1</th>\n",
       "      <td>C-697</td>\n",
       "      <td>11</td>\n",
       "    </tr>\n",
       "    <tr>\n",
       "      <th>2</th>\n",
       "      <td>C-698</td>\n",
       "      <td>12</td>\n",
       "    </tr>\n",
       "    <tr>\n",
       "      <th>3</th>\n",
       "      <td>C-699</td>\n",
       "      <td>10</td>\n",
       "    </tr>\n",
       "    <tr>\n",
       "      <th>4</th>\n",
       "      <td>C-700</td>\n",
       "      <td>8</td>\n",
       "    </tr>\n",
       "  </tbody>\n",
       "</table>\n",
       "</div>"
      ],
      "text/plain": [
       "    고객ID  체류시간(분)\n",
       "0  C-696       10\n",
       "1  C-697       11\n",
       "2  C-698       12\n",
       "3  C-699       10\n",
       "4  C-700        8"
      ]
     },
     "execution_count": 43,
     "metadata": {},
     "output_type": "execute_result"
    }
   ],
   "source": [
    "sitemap_B = pd.read_csv(\"C:/Users/Administrator/Desktop/coding/python/muticam/jupyter note/data/AB테스트/사이트맵_B.csv\", engine = \"python\",encoding=\"euc-kr\")\n",
    "sitemap_B.head()"
   ]
  },
  {
   "cell_type": "code",
   "execution_count": 44,
   "metadata": {},
   "outputs": [
    {
     "data": {
      "text/html": [
       "<div>\n",
       "<style scoped>\n",
       "    .dataframe tbody tr th:only-of-type {\n",
       "        vertical-align: middle;\n",
       "    }\n",
       "\n",
       "    .dataframe tbody tr th {\n",
       "        vertical-align: top;\n",
       "    }\n",
       "\n",
       "    .dataframe thead th {\n",
       "        text-align: right;\n",
       "    }\n",
       "</style>\n",
       "<table border=\"1\" class=\"dataframe\">\n",
       "  <thead>\n",
       "    <tr style=\"text-align: right;\">\n",
       "      <th></th>\n",
       "      <th>고객ID</th>\n",
       "      <th>체류시간(분)</th>\n",
       "    </tr>\n",
       "  </thead>\n",
       "  <tbody>\n",
       "    <tr>\n",
       "      <th>0</th>\n",
       "      <td>C-820</td>\n",
       "      <td>8</td>\n",
       "    </tr>\n",
       "    <tr>\n",
       "      <th>1</th>\n",
       "      <td>C-821</td>\n",
       "      <td>11</td>\n",
       "    </tr>\n",
       "    <tr>\n",
       "      <th>2</th>\n",
       "      <td>C-822</td>\n",
       "      <td>10</td>\n",
       "    </tr>\n",
       "    <tr>\n",
       "      <th>3</th>\n",
       "      <td>C-823</td>\n",
       "      <td>11</td>\n",
       "    </tr>\n",
       "    <tr>\n",
       "      <th>4</th>\n",
       "      <td>C-824</td>\n",
       "      <td>9</td>\n",
       "    </tr>\n",
       "  </tbody>\n",
       "</table>\n",
       "</div>"
      ],
      "text/plain": [
       "    고객ID  체류시간(분)\n",
       "0  C-820        8\n",
       "1  C-821       11\n",
       "2  C-822       10\n",
       "3  C-823       11\n",
       "4  C-824        9"
      ]
     },
     "execution_count": 44,
     "metadata": {},
     "output_type": "execute_result"
    }
   ],
   "source": [
    "sitemap_C = pd.read_csv(\"C:/Users/Administrator/Desktop/coding/python/muticam/jupyter note/data/AB테스트/사이트맵_C.csv\", engine = \"python\",encoding=\"euc-kr\")\n",
    "sitemap_C.head()"
   ]
  },
  {
   "cell_type": "code",
   "execution_count": 45,
   "metadata": {},
   "outputs": [],
   "source": [
    "sitemap_A_time = sitemap_A['체류시간(분)'].values\n",
    "sitemap_B_time = sitemap_B['체류시간(분)'].values\n",
    "sitemap_C_time = sitemap_C['체류시간(분)'].values"
   ]
  },
  {
   "cell_type": "code",
   "execution_count": 46,
   "metadata": {},
   "outputs": [
    {
     "name": "stdout",
     "output_type": "stream",
     "text": [
      "<class 'numpy.ndarray'>\n",
      "<class 'numpy.ndarray'>\n",
      "<class 'numpy.ndarray'>\n"
     ]
    }
   ],
   "source": [
    "print(type(sitemap_A_time ))\n",
    "print(type(sitemap_B_time ))\n",
    "print(type(sitemap_C_time ))"
   ]
  },
  {
   "cell_type": "code",
   "execution_count": 47,
   "metadata": {},
   "outputs": [
    {
     "name": "stdout",
     "output_type": "stream",
     "text": [
      "사이트 맵 A의 체류시간 평균: 9.404\n",
      "사이트 맵 B의 체류시간 평균: 9.831\n",
      "사이트 맵 C의 체류시간 평균: 9.514\n"
     ]
    }
   ],
   "source": [
    "A_mean = sitemap_A_time.mean()\n",
    "B_mean = sitemap_B_time.mean()\n",
    "C_mean = sitemap_C_time.mean()\n",
    "\n",
    "print(\"사이트 맵 A의 체류시간 평균: {}\\n사이트 맵 B의 체류시간 평균: {}\\n사이트 맵 C의 체류시간 평균: {}\".format(round(A_mean, 3), round(B_mean, 3), round(C_mean, 3)))"
   ]
  },
  {
   "cell_type": "code",
   "execution_count": 48,
   "metadata": {},
   "outputs": [
    {
     "data": {
      "text/plain": [
       "{'whiskers': [<matplotlib.lines.Line2D at 0xac586a0>,\n",
       "  <matplotlib.lines.Line2D at 0xac58130>,\n",
       "  <matplotlib.lines.Line2D at 0xac403d0>,\n",
       "  <matplotlib.lines.Line2D at 0xac40df0>,\n",
       "  <matplotlib.lines.Line2D at 0xac45a60>,\n",
       "  <matplotlib.lines.Line2D at 0xac45e20>],\n",
       " 'caps': [<matplotlib.lines.Line2D at 0xac58a30>,\n",
       "  <matplotlib.lines.Line2D at 0xac5fe20>,\n",
       "  <matplotlib.lines.Line2D at 0xac40eb0>,\n",
       "  <matplotlib.lines.Line2D at 0xac40b50>,\n",
       "  <matplotlib.lines.Line2D at 0xbf4ff10>,\n",
       "  <matplotlib.lines.Line2D at 0xae3b370>],\n",
       " 'boxes': [<matplotlib.lines.Line2D at 0xac58f70>,\n",
       "  <matplotlib.lines.Line2D at 0xac5fee0>,\n",
       "  <matplotlib.lines.Line2D at 0xac45d90>],\n",
       " 'medians': [<matplotlib.lines.Line2D at 0xac5fb50>,\n",
       "  <matplotlib.lines.Line2D at 0xac45b80>,\n",
       "  <matplotlib.lines.Line2D at 0x4b569d0>],\n",
       " 'fliers': [<matplotlib.lines.Line2D at 0xac5f460>,\n",
       "  <matplotlib.lines.Line2D at 0xac45370>,\n",
       "  <matplotlib.lines.Line2D at 0xa459700>],\n",
       " 'means': []}"
      ]
     },
     "execution_count": 48,
     "metadata": {},
     "output_type": "execute_result"
    },
    {
     "data": {
      "text/plain": [
       "([<matplotlib.axis.XTick at 0xc0ea130>,\n",
       "  <matplotlib.axis.XTick at 0xc0ea6d0>,\n",
       "  <matplotlib.axis.XTick at 0xac58e20>],\n",
       " [Text(1, 0, '사이트 맵 A'), Text(2, 0, '사이트 맵 B'), Text(3, 0, '사이트 맵 C')])"
      ]
     },
     "execution_count": 48,
     "metadata": {},
     "output_type": "execute_result"
    },
    {
     "data": {
      "text/plain": [
       "Text(0, 0.5, '체류시간')"
      ]
     },
     "execution_count": 48,
     "metadata": {},
     "output_type": "execute_result"
    },
    {
     "data": {
      "image/png": "[encoded data removed]",
      "text/plain": [
       "<Figure size 720x432 with 1 Axes>"
      ]
     },
     "metadata": {
      "needs_background": "light"
     },
     "output_type": "display_data"
    }
   ],
   "source": [
    "# box 플롯으로 시각화\n",
    "\n",
    "%matplotlib inline\n",
    "from matplotlib import pyplot as plt\n",
    "\n",
    "\n",
    "from matplotlib import pyplot as plt\n",
    "plt.rcParams[\"font.family\"] = 'Malgun Gothic'\n",
    "plt.rcParams[\"font.size\"] = 20\n",
    "plt.rcParams[\"figure.figsize\"] = (10, 6)\n",
    "\n",
    "\n",
    "plt.boxplot([sitemap_A_time,sitemap_B_time,sitemap_C_time])\n",
    "\n",
    "\n",
    "plt.xticks([1,2,3],['사이트 맵 A',\"사이트 맵 B\",\"사이트 맵 C\"])\n",
    "\n",
    "plt.ylabel(\"체류시간\")\n"
   ]
  },
  {
   "cell_type": "code",
   "execution_count": null,
   "metadata": {},
   "outputs": [],
   "source": []
  },
  {
   "cell_type": "code",
   "execution_count": 49,
   "metadata": {},
   "outputs": [
    {
     "data": {
      "text/plain": [
       "KstestResult(statistic=0.9999999990134123, pvalue=0.0)"
      ]
     },
     "execution_count": 49,
     "metadata": {},
     "output_type": "execute_result"
    },
    {
     "data": {
      "text/plain": [
       "KstestResult(statistic=0.9999997133484281, pvalue=0.0)"
      ]
     },
     "execution_count": 49,
     "metadata": {},
     "output_type": "execute_result"
    },
    {
     "data": {
      "text/plain": [
       "KstestResult(statistic=0.9891262924445604, pvalue=1.320331854479069e-206)"
      ]
     },
     "execution_count": 49,
     "metadata": {},
     "output_type": "execute_result"
    }
   ],
   "source": [
    "# 각 데이터가 정규분포를 따름을 확인\n",
    "kstest(sitemap_A_time , 'norm')\n",
    "kstest(sitemap_B_time , 'norm')\n",
    "kstest(sitemap_C_time , 'norm')\n",
    "\n",
    "# 모든  pvalue가 거의 0으로 수렴하므로 정규분포를 따른다."
   ]
  },
  {
   "cell_type": "code",
   "execution_count": 50,
   "metadata": {},
   "outputs": [
    {
     "data": {
      "text/plain": [
       "LeveneResult(statistic=60.293391878247746, pvalue=1.0454410123159872e-23)"
      ]
     },
     "execution_count": 50,
     "metadata": {},
     "output_type": "execute_result"
    }
   ],
   "source": [
    "# 등분산성 검정\n",
    "levene(sitemap_A_time,sitemap_B_time,sitemap_C_time)\n",
    "\n",
    "#  pvalue 가 0.05 보다 작으므로 귀무가설 기각-등분산성이 없다"
   ]
  },
  {
   "cell_type": "code",
   "execution_count": 51,
   "metadata": {},
   "outputs": [
    {
     "data": {
      "text/plain": [
       "F_onewayResult(statistic=1.6538817694924581, pvalue=0.19256727851054653)"
      ]
     },
     "execution_count": 51,
     "metadata": {},
     "output_type": "execute_result"
    }
   ],
   "source": [
    "# 등분산성 검정되지 않았으므로 비모수적인 방법으로 확인해야함\n",
    "# 일원분산분석 수행: p-value가 거의 0에 수렴 => A, B, C의 평균은 유의한 차이가 존재하지 않음을 확인\n",
    "f_oneway(sitemap_A_time,sitemap_B_time,sitemap_C_time)"
   ]
  },
  {
   "cell_type": "code",
   "execution_count": null,
   "metadata": {},
   "outputs": [],
   "source": []
  },
  {
   "cell_type": "markdown",
   "metadata": {},
   "source": [
    "- 할인 쿠폰의 효과 분석 - 쌍체표본 T 검정"
   ]
  },
  {
   "cell_type": "code",
   "execution_count": 52,
   "metadata": {},
   "outputs": [
    {
     "data": {
      "text/html": [
       "<div>\n",
       "<style scoped>\n",
       "    .dataframe tbody tr th:only-of-type {\n",
       "        vertical-align: middle;\n",
       "    }\n",
       "\n",
       "    .dataframe tbody tr th {\n",
       "        vertical-align: top;\n",
       "    }\n",
       "\n",
       "    .dataframe thead th {\n",
       "        text-align: right;\n",
       "    }\n",
       "</style>\n",
       "<table border=\"1\" class=\"dataframe\">\n",
       "  <thead>\n",
       "    <tr style=\"text-align: right;\">\n",
       "      <th></th>\n",
       "      <th>고객ID</th>\n",
       "      <th>발행전 구매 횟수</th>\n",
       "      <th>발행후 구매 횟수</th>\n",
       "    </tr>\n",
       "  </thead>\n",
       "  <tbody>\n",
       "    <tr>\n",
       "      <th>0</th>\n",
       "      <td>C-925</td>\n",
       "      <td>3</td>\n",
       "      <td>1</td>\n",
       "    </tr>\n",
       "    <tr>\n",
       "      <th>1</th>\n",
       "      <td>C-926</td>\n",
       "      <td>0</td>\n",
       "      <td>0</td>\n",
       "    </tr>\n",
       "    <tr>\n",
       "      <th>2</th>\n",
       "      <td>C-927</td>\n",
       "      <td>0</td>\n",
       "      <td>3</td>\n",
       "    </tr>\n",
       "    <tr>\n",
       "      <th>3</th>\n",
       "      <td>C-928</td>\n",
       "      <td>0</td>\n",
       "      <td>4</td>\n",
       "    </tr>\n",
       "    <tr>\n",
       "      <th>4</th>\n",
       "      <td>C-929</td>\n",
       "      <td>4</td>\n",
       "      <td>4</td>\n",
       "    </tr>\n",
       "  </tbody>\n",
       "</table>\n",
       "</div>"
      ],
      "text/plain": [
       "    고객ID  발행전 구매 횟수  발행후 구매 횟수\n",
       "0  C-925          3          1\n",
       "1  C-926          0          0\n",
       "2  C-927          0          3\n",
       "3  C-928          0          4\n",
       "4  C-929          4          4"
      ]
     },
     "execution_count": 52,
     "metadata": {},
     "output_type": "execute_result"
    }
   ],
   "source": [
    "df = pd.read_csv(\"C:/Users/Administrator/Desktop/coding/python/muticam/jupyter note/data/AB테스트/할인쿠폰발행효과.csv\", engine = \"python\",encoding=\"euc-kr\")\n",
    "df.head()"
   ]
  },
  {
   "cell_type": "code",
   "execution_count": 53,
   "metadata": {},
   "outputs": [
    {
     "data": {
      "text/plain": [
       "{'whiskers': [<matplotlib.lines.Line2D at 0xc89c7c0>,\n",
       "  <matplotlib.lines.Line2D at 0xc89cb20>,\n",
       "  <matplotlib.lines.Line2D at 0xc8a8fa0>,\n",
       "  <matplotlib.lines.Line2D at 0xc8b3340>],\n",
       " 'caps': [<matplotlib.lines.Line2D at 0xc89ce80>,\n",
       "  <matplotlib.lines.Line2D at 0xc8a8220>,\n",
       "  <matplotlib.lines.Line2D at 0xc8b36a0>,\n",
       "  <matplotlib.lines.Line2D at 0xc8b3a00>],\n",
       " 'boxes': [<matplotlib.lines.Line2D at 0xc89c430>,\n",
       "  <matplotlib.lines.Line2D at 0xc8a8c40>],\n",
       " 'medians': [<matplotlib.lines.Line2D at 0xc8a8580>,\n",
       "  <matplotlib.lines.Line2D at 0xc8b3d60>],\n",
       " 'fliers': [<matplotlib.lines.Line2D at 0xc8a88e0>,\n",
       "  <matplotlib.lines.Line2D at 0xc8c0100>],\n",
       " 'means': []}"
      ]
     },
     "execution_count": 53,
     "metadata": {},
     "output_type": "execute_result"
    },
    {
     "data": {
      "text/plain": [
       "([<matplotlib.axis.XTick at 0xc878e20>, <matplotlib.axis.XTick at 0xc878df0>],\n",
       " [Text(1, 0, '발행전'), Text(2, 0, '발행후')])"
      ]
     },
     "execution_count": 53,
     "metadata": {},
     "output_type": "execute_result"
    },
    {
     "data": {
      "text/plain": [
       "Text(0, 0.5, '구매 횟수')"
      ]
     },
     "execution_count": 53,
     "metadata": {},
     "output_type": "execute_result"
    },
    {
     "data": {
      "image/png": "[encoded data removed]",
      "text/plain": [
       "<Figure size 720x432 with 1 Axes>"
      ]
     },
     "metadata": {
      "needs_background": "light"
     },
     "output_type": "display_data"
    }
   ],
   "source": [
    "plt.boxplot([df['발행전 구매 횟수'], df['발행후 구매 횟수']])\n",
    "plt.xticks([1, 2], ['발행전', '발행후'])\n",
    "plt.ylabel(\"구매 횟수\")"
   ]
  },
  {
   "cell_type": "code",
   "execution_count": 54,
   "metadata": {},
   "outputs": [
    {
     "data": {
      "text/plain": [
       "KstestResult(statistic=0.4253018161037688, pvalue=8.597340234980609e-26)"
      ]
     },
     "execution_count": 54,
     "metadata": {},
     "output_type": "execute_result"
    }
   ],
   "source": [
    "## 정규성 검정(발행전,발행후의 데이터 차이는  정규성을 띄어야 함)\n",
    "\n",
    "kstest(df[\"발행후 구매 횟수\"]-df[\"발행전 구매 횟수\"], \"norm\")\n",
    "\n",
    "#  pvalue가 유의수준 이하이므로 정규성을 띈다"
   ]
  },
  {
   "cell_type": "code",
   "execution_count": 55,
   "metadata": {},
   "outputs": [
    {
     "data": {
      "text/plain": [
       "Ttest_relResult(statistic=7.07211673728211, pvalue=5.104217839308897e-11)"
      ]
     },
     "execution_count": 55,
     "metadata": {},
     "output_type": "execute_result"
    }
   ],
   "source": [
    "# 귀무가설: 발행전과 발행후의 평균은 같다(할인 쿠폰은 영향이 없다)\n",
    "# 대립가설: 발행전과 후의 평균은 다르다(할인 쿠폰은 영향이 있다.)\n",
    "ttest_rel(df[\"발행후 구매 횟수\"],df[\"발행전 구매 횟수\"])\n",
    "#  pvalue 가 유의수준보다 작으므로 귀무가설 기각:할인 쿠폰은 영향이 없다고 볼수 없다.\n",
    "# 통계량이 양수이므로 발행후 구매 횟수의 평균이 더높다=-양의 영향이 더 크다."
   ]
  },
  {
   "cell_type": "code",
   "execution_count": null,
   "metadata": {},
   "outputs": [],
   "source": []
  },
  {
   "cell_type": "code",
   "execution_count": null,
   "metadata": {},
   "outputs": [],
   "source": []
  },
  {
   "cell_type": "markdown",
   "metadata": {},
   "source": [
    "####  체류 시간과 구매 금액 간 관계 분석 - 상관분석"
   ]
  },
  {
   "cell_type": "code",
   "execution_count": 56,
   "metadata": {},
   "outputs": [
    {
     "data": {
      "text/html": [
       "<div>\n",
       "<style scoped>\n",
       "    .dataframe tbody tr th:only-of-type {\n",
       "        vertical-align: middle;\n",
       "    }\n",
       "\n",
       "    .dataframe tbody tr th {\n",
       "        vertical-align: top;\n",
       "    }\n",
       "\n",
       "    .dataframe thead th {\n",
       "        text-align: right;\n",
       "    }\n",
       "</style>\n",
       "<table border=\"1\" class=\"dataframe\">\n",
       "  <thead>\n",
       "    <tr style=\"text-align: right;\">\n",
       "      <th></th>\n",
       "      <th>고객ID</th>\n",
       "      <th>구매금액</th>\n",
       "      <th>체류시간</th>\n",
       "    </tr>\n",
       "  </thead>\n",
       "  <tbody>\n",
       "    <tr>\n",
       "      <th>0</th>\n",
       "      <td>C-1079</td>\n",
       "      <td>78625</td>\n",
       "      <td>9</td>\n",
       "    </tr>\n",
       "    <tr>\n",
       "      <th>1</th>\n",
       "      <td>C-1080</td>\n",
       "      <td>0</td>\n",
       "      <td>9</td>\n",
       "    </tr>\n",
       "    <tr>\n",
       "      <th>2</th>\n",
       "      <td>C-1081</td>\n",
       "      <td>105173</td>\n",
       "      <td>12</td>\n",
       "    </tr>\n",
       "    <tr>\n",
       "      <th>3</th>\n",
       "      <td>C-1082</td>\n",
       "      <td>0</td>\n",
       "      <td>14</td>\n",
       "    </tr>\n",
       "    <tr>\n",
       "      <th>4</th>\n",
       "      <td>C-1083</td>\n",
       "      <td>0</td>\n",
       "      <td>10</td>\n",
       "    </tr>\n",
       "  </tbody>\n",
       "</table>\n",
       "</div>"
      ],
      "text/plain": [
       "     고객ID    구매금액  체류시간\n",
       "0  C-1079   78625     9\n",
       "1  C-1080       0     9\n",
       "2  C-1081  105173    12\n",
       "3  C-1082       0    14\n",
       "4  C-1083       0    10"
      ]
     },
     "execution_count": 56,
     "metadata": {},
     "output_type": "execute_result"
    }
   ],
   "source": [
    "df = pd.read_csv(\"C:/Users/Administrator/Desktop/coding/python/muticam/jupyter note/data/AB테스트/체류시간_구매금액.csv\", engine = \"python\",encoding=\"euc-kr\")\n",
    "df.head()"
   ]
  },
  {
   "cell_type": "code",
   "execution_count": 57,
   "metadata": {
    "scrolled": true
   },
   "outputs": [
    {
     "data": {
      "text/plain": [
       "<AxesSubplot:xlabel='체류시간', ylabel='구매금액'>"
      ]
     },
     "execution_count": 57,
     "metadata": {},
     "output_type": "execute_result"
    },
    {
     "data": {
      "image/png": "[encoded data removed]",
      "text/plain": [
       "<Figure size 720x432 with 1 Axes>"
      ]
     },
     "metadata": {
      "needs_background": "light"
     },
     "output_type": "display_data"
    }
   ],
   "source": [
    "df.plot(kind = 'scatter', x = '체류시간', y = '구매금액')"
   ]
  },
  {
   "cell_type": "markdown",
   "metadata": {},
   "source": [
    "- 상관 계수:\n",
    "    - 0.0~0.1: 거의 관계없음\n",
    "    - 0.1~0.2: 약한 양의 상관관계\n",
    "    - 0.2~0.4: 일반적인 양의 상관관계\n",
    "    - 0.4~0.6: 비교적 강한 양의 상관관계\n",
    "    - 0.6~0.8: 강한 양의 상관 관계\n",
    "    - 0.8~1.0: 매우 강한 양의 상관관계 # 동일 데이터가 아닌지 확인해야 함"
   ]
  },
  {
   "cell_type": "code",
   "execution_count": 59,
   "metadata": {},
   "outputs": [
    {
     "data": {
      "text/html": [
       "<div>\n",
       "<style scoped>\n",
       "    .dataframe tbody tr th:only-of-type {\n",
       "        vertical-align: middle;\n",
       "    }\n",
       "\n",
       "    .dataframe tbody tr th {\n",
       "        vertical-align: top;\n",
       "    }\n",
       "\n",
       "    .dataframe thead th {\n",
       "        text-align: right;\n",
       "    }\n",
       "</style>\n",
       "<table border=\"1\" class=\"dataframe\">\n",
       "  <thead>\n",
       "    <tr style=\"text-align: right;\">\n",
       "      <th></th>\n",
       "      <th>고객ID</th>\n",
       "      <th>구매금액</th>\n",
       "      <th>체류시간</th>\n",
       "    </tr>\n",
       "  </thead>\n",
       "  <tbody>\n",
       "    <tr>\n",
       "      <th>0</th>\n",
       "      <td>C-1079</td>\n",
       "      <td>78625</td>\n",
       "      <td>9</td>\n",
       "    </tr>\n",
       "    <tr>\n",
       "      <th>1</th>\n",
       "      <td>C-1080</td>\n",
       "      <td>0</td>\n",
       "      <td>9</td>\n",
       "    </tr>\n",
       "    <tr>\n",
       "      <th>2</th>\n",
       "      <td>C-1081</td>\n",
       "      <td>105173</td>\n",
       "      <td>12</td>\n",
       "    </tr>\n",
       "    <tr>\n",
       "      <th>3</th>\n",
       "      <td>C-1082</td>\n",
       "      <td>0</td>\n",
       "      <td>14</td>\n",
       "    </tr>\n",
       "    <tr>\n",
       "      <th>4</th>\n",
       "      <td>C-1083</td>\n",
       "      <td>0</td>\n",
       "      <td>10</td>\n",
       "    </tr>\n",
       "    <tr>\n",
       "      <th>...</th>\n",
       "      <td>...</td>\n",
       "      <td>...</td>\n",
       "      <td>...</td>\n",
       "    </tr>\n",
       "    <tr>\n",
       "      <th>117</th>\n",
       "      <td>C-1196</td>\n",
       "      <td>0</td>\n",
       "      <td>5</td>\n",
       "    </tr>\n",
       "    <tr>\n",
       "      <th>118</th>\n",
       "      <td>C-1197</td>\n",
       "      <td>75573</td>\n",
       "      <td>7</td>\n",
       "    </tr>\n",
       "    <tr>\n",
       "      <th>119</th>\n",
       "      <td>C-1198</td>\n",
       "      <td>99731</td>\n",
       "      <td>11</td>\n",
       "    </tr>\n",
       "    <tr>\n",
       "      <th>120</th>\n",
       "      <td>C-1199</td>\n",
       "      <td>106312</td>\n",
       "      <td>9</td>\n",
       "    </tr>\n",
       "    <tr>\n",
       "      <th>121</th>\n",
       "      <td>C-1200</td>\n",
       "      <td>0</td>\n",
       "      <td>10</td>\n",
       "    </tr>\n",
       "  </tbody>\n",
       "</table>\n",
       "<p>122 rows × 3 columns</p>\n",
       "</div>"
      ],
      "text/plain": [
       "       고객ID    구매금액  체류시간\n",
       "0    C-1079   78625     9\n",
       "1    C-1080       0     9\n",
       "2    C-1081  105173    12\n",
       "3    C-1082       0    14\n",
       "4    C-1083       0    10\n",
       "..      ...     ...   ...\n",
       "117  C-1196       0     5\n",
       "118  C-1197   75573     7\n",
       "119  C-1198   99731    11\n",
       "120  C-1199  106312     9\n",
       "121  C-1200       0    10\n",
       "\n",
       "[122 rows x 3 columns]"
      ]
     },
     "execution_count": 59,
     "metadata": {},
     "output_type": "execute_result"
    }
   ],
   "source": [
    "df"
   ]
  },
  {
   "cell_type": "code",
   "execution_count": 60,
   "metadata": {},
   "outputs": [
    {
     "data": {
      "text/html": [
       "<div>\n",
       "<style scoped>\n",
       "    .dataframe tbody tr th:only-of-type {\n",
       "        vertical-align: middle;\n",
       "    }\n",
       "\n",
       "    .dataframe tbody tr th {\n",
       "        vertical-align: top;\n",
       "    }\n",
       "\n",
       "    .dataframe thead th {\n",
       "        text-align: right;\n",
       "    }\n",
       "</style>\n",
       "<table border=\"1\" class=\"dataframe\">\n",
       "  <thead>\n",
       "    <tr style=\"text-align: right;\">\n",
       "      <th></th>\n",
       "      <th>구매금액</th>\n",
       "      <th>체류시간</th>\n",
       "    </tr>\n",
       "  </thead>\n",
       "  <tbody>\n",
       "    <tr>\n",
       "      <th>구매금액</th>\n",
       "      <td>1.000000</td>\n",
       "      <td>0.320852</td>\n",
       "    </tr>\n",
       "    <tr>\n",
       "      <th>체류시간</th>\n",
       "      <td>0.320852</td>\n",
       "      <td>1.000000</td>\n",
       "    </tr>\n",
       "  </tbody>\n",
       "</table>\n",
       "</div>"
      ],
      "text/plain": [
       "          구매금액      체류시간\n",
       "구매금액  1.000000  0.320852\n",
       "체류시간  0.320852  1.000000"
      ]
     },
     "execution_count": 60,
     "metadata": {},
     "output_type": "execute_result"
    },
    {
     "data": {
      "text/html": [
       "<div>\n",
       "<style scoped>\n",
       "    .dataframe tbody tr th:only-of-type {\n",
       "        vertical-align: middle;\n",
       "    }\n",
       "\n",
       "    .dataframe tbody tr th {\n",
       "        vertical-align: top;\n",
       "    }\n",
       "\n",
       "    .dataframe thead th {\n",
       "        text-align: right;\n",
       "    }\n",
       "</style>\n",
       "<table border=\"1\" class=\"dataframe\">\n",
       "  <thead>\n",
       "    <tr style=\"text-align: right;\">\n",
       "      <th></th>\n",
       "      <th>구매금액</th>\n",
       "      <th>체류시간</th>\n",
       "    </tr>\n",
       "  </thead>\n",
       "  <tbody>\n",
       "    <tr>\n",
       "      <th>구매금액</th>\n",
       "      <td>1.000000</td>\n",
       "      <td>0.229853</td>\n",
       "    </tr>\n",
       "    <tr>\n",
       "      <th>체류시간</th>\n",
       "      <td>0.229853</td>\n",
       "      <td>1.000000</td>\n",
       "    </tr>\n",
       "  </tbody>\n",
       "</table>\n",
       "</div>"
      ],
      "text/plain": [
       "          구매금액      체류시간\n",
       "구매금액  1.000000  0.229853\n",
       "체류시간  0.229853  1.000000"
      ]
     },
     "execution_count": 60,
     "metadata": {},
     "output_type": "execute_result"
    }
   ],
   "source": [
    "\n",
    "df.corr(method=\"pearson\")\n",
    "df.corr(method=\"spearman\") # 데이터가 아닌 해당 변수내의 상대적인 순위를 이용한 상관분석\n",
    "# spearman은 수집데이터가 순위데이터거나 value가 정규성을 너무 많이 벗어날 경우 사용"
   ]
  },
  {
   "cell_type": "code",
   "execution_count": null,
   "metadata": {},
   "outputs": [],
   "source": []
  },
  {
   "cell_type": "code",
   "execution_count": 61,
   "metadata": {},
   "outputs": [
    {
     "data": {
      "text/html": [
       "<div>\n",
       "<style scoped>\n",
       "    .dataframe tbody tr th:only-of-type {\n",
       "        vertical-align: middle;\n",
       "    }\n",
       "\n",
       "    .dataframe tbody tr th {\n",
       "        vertical-align: top;\n",
       "    }\n",
       "\n",
       "    .dataframe thead th {\n",
       "        text-align: right;\n",
       "    }\n",
       "</style>\n",
       "<table border=\"1\" class=\"dataframe\">\n",
       "  <thead>\n",
       "    <tr style=\"text-align: right;\">\n",
       "      <th></th>\n",
       "      <th>구매금액</th>\n",
       "      <th>체류시간</th>\n",
       "    </tr>\n",
       "  </thead>\n",
       "  <tbody>\n",
       "    <tr>\n",
       "      <th>구매금액</th>\n",
       "      <td>1.000000</td>\n",
       "      <td>0.924526</td>\n",
       "    </tr>\n",
       "    <tr>\n",
       "      <th>체류시간</th>\n",
       "      <td>0.924526</td>\n",
       "      <td>1.000000</td>\n",
       "    </tr>\n",
       "  </tbody>\n",
       "</table>\n",
       "</div>"
      ],
      "text/plain": [
       "          구매금액      체류시간\n",
       "구매금액  1.000000  0.924526\n",
       "체류시간  0.924526  1.000000"
      ]
     },
     "execution_count": 61,
     "metadata": {},
     "output_type": "execute_result"
    }
   ],
   "source": [
    "df_without_zero = df.loc[df['구매금액']!=0]\n",
    "df_without_zero.corr(method='pearson')"
   ]
  },
  {
   "cell_type": "code",
   "execution_count": 62,
   "metadata": {},
   "outputs": [
    {
     "data": {
      "text/html": [
       "<div>\n",
       "<style scoped>\n",
       "    .dataframe tbody tr th:only-of-type {\n",
       "        vertical-align: middle;\n",
       "    }\n",
       "\n",
       "    .dataframe tbody tr th {\n",
       "        vertical-align: top;\n",
       "    }\n",
       "\n",
       "    .dataframe thead th {\n",
       "        text-align: right;\n",
       "    }\n",
       "</style>\n",
       "<table border=\"1\" class=\"dataframe\">\n",
       "  <thead>\n",
       "    <tr style=\"text-align: right;\">\n",
       "      <th></th>\n",
       "      <th>구매금액</th>\n",
       "      <th>체류시간</th>\n",
       "    </tr>\n",
       "  </thead>\n",
       "  <tbody>\n",
       "    <tr>\n",
       "      <th>구매금액</th>\n",
       "      <td>1.000000</td>\n",
       "      <td>0.938099</td>\n",
       "    </tr>\n",
       "    <tr>\n",
       "      <th>체류시간</th>\n",
       "      <td>0.938099</td>\n",
       "      <td>1.000000</td>\n",
       "    </tr>\n",
       "  </tbody>\n",
       "</table>\n",
       "</div>"
      ],
      "text/plain": [
       "          구매금액      체류시간\n",
       "구매금액  1.000000  0.938099\n",
       "체류시간  0.938099  1.000000"
      ]
     },
     "execution_count": 62,
     "metadata": {},
     "output_type": "execute_result"
    }
   ],
   "source": [
    "df_without_zero.corr(method='spearman')"
   ]
  },
  {
   "cell_type": "markdown",
   "metadata": {},
   "source": [
    "#### 구매버튼 배치에 따른 구매율 차이 분석"
   ]
  },
  {
   "cell_type": "code",
   "execution_count": 63,
   "metadata": {},
   "outputs": [
    {
     "data": {
      "text/html": [
       "<div>\n",
       "<style scoped>\n",
       "    .dataframe tbody tr th:only-of-type {\n",
       "        vertical-align: middle;\n",
       "    }\n",
       "\n",
       "    .dataframe tbody tr th {\n",
       "        vertical-align: top;\n",
       "    }\n",
       "\n",
       "    .dataframe thead th {\n",
       "        text-align: right;\n",
       "    }\n",
       "</style>\n",
       "<table border=\"1\" class=\"dataframe\">\n",
       "  <thead>\n",
       "    <tr style=\"text-align: right;\">\n",
       "      <th></th>\n",
       "      <th>구매여부</th>\n",
       "      <th>버튼타입</th>\n",
       "      <th>고객 수</th>\n",
       "    </tr>\n",
       "  </thead>\n",
       "  <tbody>\n",
       "    <tr>\n",
       "      <th>0</th>\n",
       "      <td>구매</td>\n",
       "      <td>A</td>\n",
       "      <td>9</td>\n",
       "    </tr>\n",
       "    <tr>\n",
       "      <th>1</th>\n",
       "      <td>NaN</td>\n",
       "      <td>B</td>\n",
       "      <td>9</td>\n",
       "    </tr>\n",
       "    <tr>\n",
       "      <th>2</th>\n",
       "      <td>NaN</td>\n",
       "      <td>C</td>\n",
       "      <td>15</td>\n",
       "    </tr>\n",
       "    <tr>\n",
       "      <th>3</th>\n",
       "      <td>비구매</td>\n",
       "      <td>A</td>\n",
       "      <td>93</td>\n",
       "    </tr>\n",
       "    <tr>\n",
       "      <th>4</th>\n",
       "      <td>NaN</td>\n",
       "      <td>B</td>\n",
       "      <td>85</td>\n",
       "    </tr>\n",
       "  </tbody>\n",
       "</table>\n",
       "</div>"
      ],
      "text/plain": [
       "  구매여부 버튼타입  고객 수\n",
       "0   구매    A     9\n",
       "1  NaN    B     9\n",
       "2  NaN    C    15\n",
       "3  비구매    A    93\n",
       "4  NaN    B    85"
      ]
     },
     "execution_count": 63,
     "metadata": {},
     "output_type": "execute_result"
    }
   ],
   "source": [
    "df = pd.read_excel(\"C:/Users/Administrator/Desktop/coding/python/muticam/jupyter note/data/AB테스트/구매여부_버튼타입_통계.xlsx\")\n",
    "df.head()"
   ]
  },
  {
   "cell_type": "code",
   "execution_count": 64,
   "metadata": {},
   "outputs": [
    {
     "data": {
      "text/html": [
       "<div>\n",
       "<style scoped>\n",
       "    .dataframe tbody tr th:only-of-type {\n",
       "        vertical-align: middle;\n",
       "    }\n",
       "\n",
       "    .dataframe tbody tr th {\n",
       "        vertical-align: top;\n",
       "    }\n",
       "\n",
       "    .dataframe thead th {\n",
       "        text-align: right;\n",
       "    }\n",
       "</style>\n",
       "<table border=\"1\" class=\"dataframe\">\n",
       "  <thead>\n",
       "    <tr style=\"text-align: right;\">\n",
       "      <th></th>\n",
       "      <th>구매여부</th>\n",
       "      <th>버튼타입</th>\n",
       "      <th>고객 수</th>\n",
       "    </tr>\n",
       "  </thead>\n",
       "  <tbody>\n",
       "    <tr>\n",
       "      <th>0</th>\n",
       "      <td>구매</td>\n",
       "      <td>A</td>\n",
       "      <td>9</td>\n",
       "    </tr>\n",
       "    <tr>\n",
       "      <th>1</th>\n",
       "      <td>구매</td>\n",
       "      <td>B</td>\n",
       "      <td>9</td>\n",
       "    </tr>\n",
       "    <tr>\n",
       "      <th>2</th>\n",
       "      <td>구매</td>\n",
       "      <td>C</td>\n",
       "      <td>15</td>\n",
       "    </tr>\n",
       "    <tr>\n",
       "      <th>3</th>\n",
       "      <td>비구매</td>\n",
       "      <td>A</td>\n",
       "      <td>93</td>\n",
       "    </tr>\n",
       "    <tr>\n",
       "      <th>4</th>\n",
       "      <td>비구매</td>\n",
       "      <td>B</td>\n",
       "      <td>85</td>\n",
       "    </tr>\n",
       "  </tbody>\n",
       "</table>\n",
       "</div>"
      ],
      "text/plain": [
       "  구매여부 버튼타입  고객 수\n",
       "0   구매    A     9\n",
       "1   구매    B     9\n",
       "2   구매    C    15\n",
       "3  비구매    A    93\n",
       "4  비구매    B    85"
      ]
     },
     "execution_count": 64,
     "metadata": {},
     "output_type": "execute_result"
    }
   ],
   "source": [
    "# 현재 nan이 표시된 셀의 이전 데이터로 변환\n",
    "# 위 df의 1번행은 nan이고 0번행은 구매이므로 1번행의 구매여부가 구매로 채워지게 됨\n",
    "df.fillna(method = 'ffill', inplace = True)\n",
    "df.head()"
   ]
  },
  {
   "cell_type": "code",
   "execution_count": 65,
   "metadata": {},
   "outputs": [
    {
     "data": {
      "text/html": [
       "<div>\n",
       "<style scoped>\n",
       "    .dataframe tbody tr th:only-of-type {\n",
       "        vertical-align: middle;\n",
       "    }\n",
       "\n",
       "    .dataframe tbody tr th {\n",
       "        vertical-align: top;\n",
       "    }\n",
       "\n",
       "    .dataframe thead th {\n",
       "        text-align: right;\n",
       "    }\n",
       "</style>\n",
       "<table border=\"1\" class=\"dataframe\">\n",
       "  <thead>\n",
       "    <tr style=\"text-align: right;\">\n",
       "      <th>버튼타입</th>\n",
       "      <th>A</th>\n",
       "      <th>B</th>\n",
       "      <th>C</th>\n",
       "    </tr>\n",
       "    <tr>\n",
       "      <th>구매여부</th>\n",
       "      <th></th>\n",
       "      <th></th>\n",
       "      <th></th>\n",
       "    </tr>\n",
       "  </thead>\n",
       "  <tbody>\n",
       "    <tr>\n",
       "      <th>구매</th>\n",
       "      <td>1</td>\n",
       "      <td>1</td>\n",
       "      <td>1</td>\n",
       "    </tr>\n",
       "    <tr>\n",
       "      <th>비구매</th>\n",
       "      <td>1</td>\n",
       "      <td>1</td>\n",
       "      <td>1</td>\n",
       "    </tr>\n",
       "  </tbody>\n",
       "</table>\n",
       "</div>"
      ],
      "text/plain": [
       "버튼타입  A  B  C\n",
       "구매여부         \n",
       "구매    1  1  1\n",
       "비구매   1  1  1"
      ]
     },
     "execution_count": 65,
     "metadata": {},
     "output_type": "execute_result"
    },
    {
     "data": {
      "text/html": [
       "<div>\n",
       "<style scoped>\n",
       "    .dataframe tbody tr th:only-of-type {\n",
       "        vertical-align: middle;\n",
       "    }\n",
       "\n",
       "    .dataframe tbody tr th {\n",
       "        vertical-align: top;\n",
       "    }\n",
       "\n",
       "    .dataframe thead th {\n",
       "        text-align: right;\n",
       "    }\n",
       "</style>\n",
       "<table border=\"1\" class=\"dataframe\">\n",
       "  <thead>\n",
       "    <tr style=\"text-align: right;\">\n",
       "      <th>버튼타입</th>\n",
       "      <th>A</th>\n",
       "      <th>B</th>\n",
       "      <th>C</th>\n",
       "    </tr>\n",
       "    <tr>\n",
       "      <th>구매여부</th>\n",
       "      <th></th>\n",
       "      <th></th>\n",
       "      <th></th>\n",
       "    </tr>\n",
       "  </thead>\n",
       "  <tbody>\n",
       "    <tr>\n",
       "      <th>구매</th>\n",
       "      <td>9</td>\n",
       "      <td>9</td>\n",
       "      <td>15</td>\n",
       "    </tr>\n",
       "    <tr>\n",
       "      <th>비구매</th>\n",
       "      <td>93</td>\n",
       "      <td>85</td>\n",
       "      <td>89</td>\n",
       "    </tr>\n",
       "  </tbody>\n",
       "</table>\n",
       "</div>"
      ],
      "text/plain": [
       "버튼타입   A   B   C\n",
       "구매여부            \n",
       "구매     9   9  15\n",
       "비구매   93  85  89"
      ]
     },
     "execution_count": 65,
     "metadata": {},
     "output_type": "execute_result"
    }
   ],
   "source": [
    "pd.crosstab(df[\"구매여부\"],df[\"버튼타입\"]) #이상하지 피벗테이블을 활용해보자\n",
    "\n",
    "cross_table=pd.pivot_table(df,index=\"구매여부\", columns=\"버튼타입\", values=\"고객 수\")\n",
    "cross_table"
   ]
  },
  {
   "cell_type": "code",
   "execution_count": null,
   "metadata": {},
   "outputs": [],
   "source": []
  },
  {
   "cell_type": "code",
   "execution_count": 67,
   "metadata": {},
   "outputs": [],
   "source": [
    "obs = cross_table.values # 분석\n",
    "\n",
    "statistics, pvalue, dof, expected = chi2_contingency(obs,correction = True)"
   ]
  },
  {
   "cell_type": "code",
   "execution_count": 68,
   "metadata": {},
   "outputs": [
    {
     "data": {
      "text/plain": [
       "array([[ 9,  9, 15],\n",
       "       [93, 85, 89]], dtype=int64)"
      ]
     },
     "execution_count": 68,
     "metadata": {},
     "output_type": "execute_result"
    }
   ],
   "source": [
    "obs"
   ]
  },
  {
   "cell_type": "code",
   "execution_count": 69,
   "metadata": {},
   "outputs": [
    {
     "data": {
      "text/plain": [
       "1.9334148435131413"
      ]
     },
     "execution_count": 69,
     "metadata": {},
     "output_type": "execute_result"
    }
   ],
   "source": [
    "statistics"
   ]
  },
  {
   "cell_type": "code",
   "execution_count": 70,
   "metadata": {},
   "outputs": [
    {
     "data": {
      "text/plain": [
       "0.38033325575735993"
      ]
     },
     "execution_count": 70,
     "metadata": {},
     "output_type": "execute_result"
    }
   ],
   "source": [
    "pvalue"
   ]
  },
  {
   "cell_type": "code",
   "execution_count": 71,
   "metadata": {},
   "outputs": [
    {
     "data": {
      "text/plain": [
       "2"
      ]
     },
     "execution_count": 71,
     "metadata": {},
     "output_type": "execute_result"
    }
   ],
   "source": [
    "dof"
   ]
  },
  {
   "cell_type": "code",
   "execution_count": 72,
   "metadata": {},
   "outputs": [
    {
     "data": {
      "text/plain": [
       "array([[11.22, 10.34, 11.44],\n",
       "       [90.78, 83.66, 92.56]])"
      ]
     },
     "execution_count": 72,
     "metadata": {},
     "output_type": "execute_result"
    }
   ],
   "source": [
    "expected"
   ]
  },
  {
   "cell_type": "code",
   "execution_count": null,
   "metadata": {},
   "outputs": [],
   "source": []
  },
  {
   "cell_type": "code",
   "execution_count": null,
   "metadata": {},
   "outputs": [],
   "source": []
  }
 ],
 "metadata": {
  "kernelspec": {
   "display_name": "Python 3",
   "language": "python",
   "name": "python3"
  },
  "language_info": {
   "codemirror_mode": {
    "name": "ipython",
    "version": 3
   },
   "file_extension": ".py",
   "mimetype": "text/x-python",
   "name": "python",
   "nbconvert_exporter": "python",
   "pygments_lexer": "ipython3",
   "version": "3.8.8"
  }
 },
 "nbformat": 4,
 "nbformat_minor": 4
}
