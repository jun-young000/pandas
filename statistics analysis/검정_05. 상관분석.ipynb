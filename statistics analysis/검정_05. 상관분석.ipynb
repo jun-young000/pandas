{
 "cells": [
  {
   "cell_type": "markdown",
   "id": "631d871b",
   "metadata": {},
   "source": [
    "### 상관분석(검정)\n",
    "\n",
    "\n",
    "- 목적: 두 연속형 변수간에 어떤 선형관계를 갖는지 파악\n",
    "\n",
    "- 귀무가설 : 두 변수는 독립적이다(상관성이 없다.)\n",
    "- 대립가설 : 두 변수는 독립적이지 않다.(상관성이 있다.)\n",
    "- 산점도로 시각화\n",
    "\n"
   ]
  },
  {
   "cell_type": "code",
   "execution_count": 1,
   "id": "fff3a144",
   "metadata": {},
   "outputs": [],
   "source": [
    "from IPython.core.interactiveshell import InteractiveShell\n",
    "InteractiveShell.ast_node_interactivity=\"all\""
   ]
  },
  {
   "cell_type": "code",
   "execution_count": 2,
   "id": "379293ef",
   "metadata": {},
   "outputs": [],
   "source": [
    "import pandas as pd\n",
    "import numpy as np\n",
    "from scipy.stats import *"
   ]
  },
  {
   "cell_type": "code",
   "execution_count": 4,
   "id": "2e331244",
   "metadata": {},
   "outputs": [],
   "source": [
    "df=pd.read_excel(\"C:/Users\\Administrator/Desktop/coding/python/muticam/jupyter note/data/일별_금은달러.xlsx\" )"
   ]
  },
  {
   "cell_type": "code",
   "execution_count": 6,
   "id": "1d3ebfde",
   "metadata": {},
   "outputs": [
    {
     "data": {
      "text/html": [
       "<div>\n",
       "<style scoped>\n",
       "    .dataframe tbody tr th:only-of-type {\n",
       "        vertical-align: middle;\n",
       "    }\n",
       "\n",
       "    .dataframe tbody tr th {\n",
       "        vertical-align: top;\n",
       "    }\n",
       "\n",
       "    .dataframe thead th {\n",
       "        text-align: right;\n",
       "    }\n",
       "</style>\n",
       "<table border=\"1\" class=\"dataframe\">\n",
       "  <thead>\n",
       "    <tr style=\"text-align: right;\">\n",
       "      <th></th>\n",
       "      <th>일자</th>\n",
       "      <th>금값</th>\n",
       "      <th>은값</th>\n",
       "      <th>달러 환율</th>\n",
       "    </tr>\n",
       "  </thead>\n",
       "  <tbody>\n",
       "    <tr>\n",
       "      <th>0</th>\n",
       "      <td>2020.08.07</td>\n",
       "      <td>78538.90</td>\n",
       "      <td>27.53</td>\n",
       "      <td>1188.5</td>\n",
       "    </tr>\n",
       "    <tr>\n",
       "      <th>1</th>\n",
       "      <td>2020.08.06</td>\n",
       "      <td>78009.22</td>\n",
       "      <td>28.39</td>\n",
       "      <td>1185.5</td>\n",
       "    </tr>\n",
       "    <tr>\n",
       "      <th>2</th>\n",
       "      <td>2020.08.05</td>\n",
       "      <td>77748.00</td>\n",
       "      <td>26.88</td>\n",
       "      <td>1188.0</td>\n",
       "    </tr>\n",
       "    <tr>\n",
       "      <th>3</th>\n",
       "      <td>2020.08.04</td>\n",
       "      <td>75873.57</td>\n",
       "      <td>26.01</td>\n",
       "      <td>1194.5</td>\n",
       "    </tr>\n",
       "    <tr>\n",
       "      <th>4</th>\n",
       "      <td>2020.08.03</td>\n",
       "      <td>75761.76</td>\n",
       "      <td>24.39</td>\n",
       "      <td>1195.7</td>\n",
       "    </tr>\n",
       "    <tr>\n",
       "      <th>5</th>\n",
       "      <td>2020.07.31</td>\n",
       "      <td>75628.90</td>\n",
       "      <td>24.19</td>\n",
       "      <td>1191.0</td>\n",
       "    </tr>\n",
       "    <tr>\n",
       "      <th>6</th>\n",
       "      <td>2020.07.30</td>\n",
       "      <td>75110.59</td>\n",
       "      <td>23.34</td>\n",
       "      <td>1196.0</td>\n",
       "    </tr>\n",
       "    <tr>\n",
       "      <th>7</th>\n",
       "      <td>2020.07.29</td>\n",
       "      <td>75110.45</td>\n",
       "      <td>24.30</td>\n",
       "      <td>1194.0</td>\n",
       "    </tr>\n",
       "    <tr>\n",
       "      <th>8</th>\n",
       "      <td>2020.07.28</td>\n",
       "      <td>74342.85</td>\n",
       "      <td>24.27</td>\n",
       "      <td>1199.5</td>\n",
       "    </tr>\n",
       "    <tr>\n",
       "      <th>9</th>\n",
       "      <td>2020.07.27</td>\n",
       "      <td>74332.14</td>\n",
       "      <td>24.48</td>\n",
       "      <td>1197.0</td>\n",
       "    </tr>\n",
       "    <tr>\n",
       "      <th>10</th>\n",
       "      <td>2020.07.24</td>\n",
       "      <td>73293.98</td>\n",
       "      <td>22.81</td>\n",
       "      <td>1204.0</td>\n",
       "    </tr>\n",
       "    <tr>\n",
       "      <th>11</th>\n",
       "      <td>2020.07.23</td>\n",
       "      <td>72451.43</td>\n",
       "      <td>22.95</td>\n",
       "      <td>1198.5</td>\n",
       "    </tr>\n",
       "    <tr>\n",
       "      <th>12</th>\n",
       "      <td>2020.07.22</td>\n",
       "      <td>71170.07</td>\n",
       "      <td>23.08</td>\n",
       "      <td>1197.0</td>\n",
       "    </tr>\n",
       "    <tr>\n",
       "      <th>13</th>\n",
       "      <td>2020.07.21</td>\n",
       "      <td>70129.97</td>\n",
       "      <td>21.50</td>\n",
       "      <td>1196.0</td>\n",
       "    </tr>\n",
       "    <tr>\n",
       "      <th>14</th>\n",
       "      <td>2020.07.20</td>\n",
       "      <td>70104.72</td>\n",
       "      <td>20.12</td>\n",
       "      <td>1203.0</td>\n",
       "    </tr>\n",
       "    <tr>\n",
       "      <th>15</th>\n",
       "      <td>2020.07.17</td>\n",
       "      <td>69793.91</td>\n",
       "      <td>19.68</td>\n",
       "      <td>1205.0</td>\n",
       "    </tr>\n",
       "    <tr>\n",
       "      <th>16</th>\n",
       "      <td>2020.07.16</td>\n",
       "      <td>69966.63</td>\n",
       "      <td>19.50</td>\n",
       "      <td>1205.0</td>\n",
       "    </tr>\n",
       "    <tr>\n",
       "      <th>17</th>\n",
       "      <td>2020.07.15</td>\n",
       "      <td>70004.80</td>\n",
       "      <td>19.68</td>\n",
       "      <td>1201.0</td>\n",
       "    </tr>\n",
       "    <tr>\n",
       "      <th>18</th>\n",
       "      <td>2020.07.14</td>\n",
       "      <td>69827.02</td>\n",
       "      <td>19.45</td>\n",
       "      <td>1206.5</td>\n",
       "    </tr>\n",
       "    <tr>\n",
       "      <th>19</th>\n",
       "      <td>2020.07.13</td>\n",
       "      <td>69933.64</td>\n",
       "      <td>19.71</td>\n",
       "      <td>1203.0</td>\n",
       "    </tr>\n",
       "    <tr>\n",
       "      <th>20</th>\n",
       "      <td>2020.07.10</td>\n",
       "      <td>69735.18</td>\n",
       "      <td>18.98</td>\n",
       "      <td>1201.0</td>\n",
       "    </tr>\n",
       "    <tr>\n",
       "      <th>21</th>\n",
       "      <td>2020.07.09</td>\n",
       "      <td>69748.21</td>\n",
       "      <td>18.88</td>\n",
       "      <td>1195.0</td>\n",
       "    </tr>\n",
       "    <tr>\n",
       "      <th>22</th>\n",
       "      <td>2020.07.08</td>\n",
       "      <td>69184.17</td>\n",
       "      <td>19.08</td>\n",
       "      <td>1195.0</td>\n",
       "    </tr>\n",
       "    <tr>\n",
       "      <th>23</th>\n",
       "      <td>2020.07.07</td>\n",
       "      <td>68443.14</td>\n",
       "      <td>18.63</td>\n",
       "      <td>1197.0</td>\n",
       "    </tr>\n",
       "    <tr>\n",
       "      <th>24</th>\n",
       "      <td>2020.07.06</td>\n",
       "      <td>68269.27</td>\n",
       "      <td>18.50</td>\n",
       "      <td>1194.0</td>\n",
       "    </tr>\n",
       "    <tr>\n",
       "      <th>25</th>\n",
       "      <td>2020.07.02</td>\n",
       "      <td>68278.07</td>\n",
       "      <td>18.24</td>\n",
       "      <td>1199.0</td>\n",
       "    </tr>\n",
       "    <tr>\n",
       "      <th>26</th>\n",
       "      <td>2020.07.01</td>\n",
       "      <td>68941.28</td>\n",
       "      <td>18.13</td>\n",
       "      <td>1203.5</td>\n",
       "    </tr>\n",
       "    <tr>\n",
       "      <th>27</th>\n",
       "      <td>2020.06.30</td>\n",
       "      <td>68559.78</td>\n",
       "      <td>18.54</td>\n",
       "      <td>1203.0</td>\n",
       "    </tr>\n",
       "  </tbody>\n",
       "</table>\n",
       "</div>"
      ],
      "text/plain": [
       "            일자        금값     은값   달러 환율\n",
       "0   2020.08.07  78538.90  27.53  1188.5\n",
       "1   2020.08.06  78009.22  28.39  1185.5\n",
       "2   2020.08.05  77748.00  26.88  1188.0\n",
       "3   2020.08.04  75873.57  26.01  1194.5\n",
       "4   2020.08.03  75761.76  24.39  1195.7\n",
       "5   2020.07.31  75628.90  24.19  1191.0\n",
       "6   2020.07.30  75110.59  23.34  1196.0\n",
       "7   2020.07.29  75110.45  24.30  1194.0\n",
       "8   2020.07.28  74342.85  24.27  1199.5\n",
       "9   2020.07.27  74332.14  24.48  1197.0\n",
       "10  2020.07.24  73293.98  22.81  1204.0\n",
       "11  2020.07.23  72451.43  22.95  1198.5\n",
       "12  2020.07.22  71170.07  23.08  1197.0\n",
       "13  2020.07.21  70129.97  21.50  1196.0\n",
       "14  2020.07.20  70104.72  20.12  1203.0\n",
       "15  2020.07.17  69793.91  19.68  1205.0\n",
       "16  2020.07.16  69966.63  19.50  1205.0\n",
       "17  2020.07.15  70004.80  19.68  1201.0\n",
       "18  2020.07.14  69827.02  19.45  1206.5\n",
       "19  2020.07.13  69933.64  19.71  1203.0\n",
       "20  2020.07.10  69735.18  18.98  1201.0\n",
       "21  2020.07.09  69748.21  18.88  1195.0\n",
       "22  2020.07.08  69184.17  19.08  1195.0\n",
       "23  2020.07.07  68443.14  18.63  1197.0\n",
       "24  2020.07.06  68269.27  18.50  1194.0\n",
       "25  2020.07.02  68278.07  18.24  1199.0\n",
       "26  2020.07.01  68941.28  18.13  1203.5\n",
       "27  2020.06.30  68559.78  18.54  1203.0"
      ]
     },
     "execution_count": 6,
     "metadata": {},
     "output_type": "execute_result"
    },
    {
     "data": {
      "text/plain": [
       "28"
      ]
     },
     "execution_count": 6,
     "metadata": {},
     "output_type": "execute_result"
    }
   ],
   "source": [
    "df\n",
    "len(df)"
   ]
  },
  {
   "cell_type": "code",
   "execution_count": 14,
   "id": "70170bd0",
   "metadata": {},
   "outputs": [
    {
     "data": {
      "text/html": [
       "<div>\n",
       "<style scoped>\n",
       "    .dataframe tbody tr th:only-of-type {\n",
       "        vertical-align: middle;\n",
       "    }\n",
       "\n",
       "    .dataframe tbody tr th {\n",
       "        vertical-align: top;\n",
       "    }\n",
       "\n",
       "    .dataframe thead th {\n",
       "        text-align: right;\n",
       "    }\n",
       "</style>\n",
       "<table border=\"1\" class=\"dataframe\">\n",
       "  <thead>\n",
       "    <tr style=\"text-align: right;\">\n",
       "      <th></th>\n",
       "      <th>일자</th>\n",
       "      <th>금값</th>\n",
       "      <th>은값</th>\n",
       "      <th>달러 환율</th>\n",
       "    </tr>\n",
       "  </thead>\n",
       "  <tbody>\n",
       "    <tr>\n",
       "      <th>27</th>\n",
       "      <td>2020.06.30</td>\n",
       "      <td>68559.78</td>\n",
       "      <td>18.54</td>\n",
       "      <td>1203.0</td>\n",
       "    </tr>\n",
       "    <tr>\n",
       "      <th>26</th>\n",
       "      <td>2020.07.01</td>\n",
       "      <td>68941.28</td>\n",
       "      <td>18.13</td>\n",
       "      <td>1203.5</td>\n",
       "    </tr>\n",
       "    <tr>\n",
       "      <th>25</th>\n",
       "      <td>2020.07.02</td>\n",
       "      <td>68278.07</td>\n",
       "      <td>18.24</td>\n",
       "      <td>1199.0</td>\n",
       "    </tr>\n",
       "    <tr>\n",
       "      <th>24</th>\n",
       "      <td>2020.07.06</td>\n",
       "      <td>68269.27</td>\n",
       "      <td>18.50</td>\n",
       "      <td>1194.0</td>\n",
       "    </tr>\n",
       "    <tr>\n",
       "      <th>23</th>\n",
       "      <td>2020.07.07</td>\n",
       "      <td>68443.14</td>\n",
       "      <td>18.63</td>\n",
       "      <td>1197.0</td>\n",
       "    </tr>\n",
       "  </tbody>\n",
       "</table>\n",
       "</div>"
      ],
      "text/plain": [
       "            일자        금값     은값   달러 환율\n",
       "27  2020.06.30  68559.78  18.54  1203.0\n",
       "26  2020.07.01  68941.28  18.13  1203.5\n",
       "25  2020.07.02  68278.07  18.24  1199.0\n",
       "24  2020.07.06  68269.27  18.50  1194.0\n",
       "23  2020.07.07  68443.14  18.63  1197.0"
      ]
     },
     "execution_count": 14,
     "metadata": {},
     "output_type": "execute_result"
    }
   ],
   "source": [
    "# 일자별로 정렬\n",
    "\n",
    "df.sort_values(by=\"일자\", inplace=True)\n",
    "\n",
    "df.head()"
   ]
  },
  {
   "cell_type": "code",
   "execution_count": 16,
   "id": "3c15b840",
   "metadata": {},
   "outputs": [
    {
     "data": {
      "text/plain": [
       "<matplotlib.collections.PathCollection at 0xba8d190>"
      ]
     },
     "execution_count": 16,
     "metadata": {},
     "output_type": "execute_result"
    },
    {
     "data": {
      "text/plain": [
       "<matplotlib.collections.PathCollection at 0xba8d8e0>"
      ]
     },
     "execution_count": 16,
     "metadata": {},
     "output_type": "execute_result"
    },
    {
     "data": {
      "text/plain": [
       "<matplotlib.collections.PathCollection at 0xba8d700>"
      ]
     },
     "execution_count": 16,
     "metadata": {},
     "output_type": "execute_result"
    },
    {
     "data": {
      "text/plain": [
       "([<matplotlib.axis.XTick at 0xba5cdf0>,\n",
       "  <matplotlib.axis.XTick at 0xba5cdc0>,\n",
       "  <matplotlib.axis.XTick at 0xba3bf10>,\n",
       "  <matplotlib.axis.XTick at 0xc145610>],\n",
       " [Text(0, 0, ''), Text(0, 0, ''), Text(0, 0, ''), Text(0, 0, '')])"
      ]
     },
     "execution_count": 16,
     "metadata": {},
     "output_type": "execute_result"
    },
    {
     "data": {
      "image/png": "[encoded data removed]",
      "text/plain": [
       "<Figure size 432x432 with 1 Axes>"
      ]
     },
     "metadata": {
      "needs_background": "light"
     },
     "output_type": "display_data"
    }
   ],
   "source": [
    "# 산점도 시각화\n",
    "\n",
    "\n",
    "# 그래프 기본 설정\n",
    "from matplotlib import pyplot as plt\n",
    "import numpy as np\n",
    "%matplotlib inline\n",
    "plt.rcParams[\"font.family\"] = 'Malgun Gothic'\n",
    "plt.rcParams[\"font.size\"] = 20\n",
    "plt.rcParams[\"figure.figsize\"] = (6, 6)\n",
    "\n",
    "\n",
    "\n",
    "plt.scatter(df['일자'], df['금값'])\n",
    "plt.scatter(df['일자'], df['은값'])\n",
    "plt.scatter(df['일자'], df['달러 환율'])\n",
    "plt.xticks(df['일자'].iloc[::8])\n"
   ]
  },
  {
   "cell_type": "code",
   "execution_count": 18,
   "id": "a8b9983a",
   "metadata": {},
   "outputs": [
    {
     "data": {
      "text/plain": [
       "<matplotlib.collections.PathCollection at 0xc344dc0>"
      ]
     },
     "execution_count": 18,
     "metadata": {},
     "output_type": "execute_result"
    },
    {
     "data": {
      "image/png": "[encoded data removed]",
      "text/plain": [
       "<Figure size 432x432 with 1 Axes>"
      ]
     },
     "metadata": {
      "needs_background": "light"
     },
     "output_type": "display_data"
    }
   ],
   "source": [
    "plt.scatter(df['금값'], df['달러 환율'])"
   ]
  },
  {
   "cell_type": "code",
   "execution_count": 19,
   "id": "fa6f9bf9",
   "metadata": {},
   "outputs": [
    {
     "data": {
      "text/plain": [
       "<matplotlib.collections.PathCollection at 0xc3a62b0>"
      ]
     },
     "execution_count": 19,
     "metadata": {},
     "output_type": "execute_result"
    },
    {
     "data": {
      "image/png": "[encoded data removed]",
      "text/plain": [
       "<Figure size 432x432 with 1 Axes>"
      ]
     },
     "metadata": {
      "needs_background": "light"
     },
     "output_type": "display_data"
    }
   ],
   "source": [
    "plt.scatter(df['은값'], df['달러 환율'])"
   ]
  },
  {
   "cell_type": "code",
   "execution_count": 20,
   "id": "d97e2b6f",
   "metadata": {},
   "outputs": [
    {
     "data": {
      "text/plain": [
       "<matplotlib.collections.PathCollection at 0xc3fb5e0>"
      ]
     },
     "execution_count": 20,
     "metadata": {},
     "output_type": "execute_result"
    },
    {
     "data": {
      "image/png": "[encoded data removed]",
      "text/plain": [
       "<Figure size 432x432 with 1 Axes>"
      ]
     },
     "metadata": {
      "needs_background": "light"
     },
     "output_type": "display_data"
    }
   ],
   "source": [
    "plt.scatter(df['금값'], df['은값'])"
   ]
  },
  {
   "cell_type": "code",
   "execution_count": null,
   "id": "d24303e5",
   "metadata": {},
   "outputs": [],
   "source": []
  },
  {
   "cell_type": "code",
   "execution_count": 21,
   "id": "4500aabf",
   "metadata": {},
   "outputs": [
    {
     "data": {
      "text/plain": [
       "array([[<AxesSubplot:xlabel='금값', ylabel='금값'>,\n",
       "        <AxesSubplot:xlabel='은값', ylabel='금값'>,\n",
       "        <AxesSubplot:xlabel='달러 환율', ylabel='금값'>],\n",
       "       [<AxesSubplot:xlabel='금값', ylabel='은값'>,\n",
       "        <AxesSubplot:xlabel='은값', ylabel='은값'>,\n",
       "        <AxesSubplot:xlabel='달러 환율', ylabel='은값'>],\n",
       "       [<AxesSubplot:xlabel='금값', ylabel='달러 환율'>,\n",
       "        <AxesSubplot:xlabel='은값', ylabel='달러 환율'>,\n",
       "        <AxesSubplot:xlabel='달러 환율', ylabel='달러 환율'>]], dtype=object)"
      ]
     },
     "execution_count": 21,
     "metadata": {},
     "output_type": "execute_result"
    },
    {
     "data": {
      "image/png": "[encoded data removed]",
      "text/plain": [
       "<Figure size 432x432 with 9 Axes>"
      ]
     },
     "metadata": {
      "needs_background": "light"
     },
     "output_type": "display_data"
    }
   ],
   "source": [
    "pd.plotting.scatter_matrix(df.drop(\"일자\",axis=1))"
   ]
  },
  {
   "cell_type": "code",
   "execution_count": null,
   "id": "916c7e88",
   "metadata": {},
   "outputs": [],
   "source": []
  },
  {
   "cell_type": "markdown",
   "id": "f87f6933",
   "metadata": {},
   "source": [
    "## 상관분석(피어슨 상관계수, 스피어만 상관계수)-pvalue 를 반환"
   ]
  },
  {
   "cell_type": "markdown",
   "id": "b87f74a9",
   "metadata": {},
   "source": [
    "- 두 변수 모두 연속형 변수 일때 사용하는 상관계수로 x와 y에 대한 상관 계수는 다음과 같이 정의 됨\n",
    "\n",
    "- 상관계수가 1에 가까울 수록 양의 상관관계가 강하다고 함\n",
    "- 상관계수가 -1에 가까울수록 음의 상관관계가 강하다고 함\n",
    "- 상관계수가 0에 가까울수록 상관관계가 약하다고 함\n",
    "\n",
    "\n"
   ]
  },
  {
   "attachments": {
    "%EC%83%81%EA%B4%80%EA%B3%84%EC%88%98.PNG": {
     "image/png": "[encoded data removed]"
    }
   },
   "cell_type": "markdown",
   "id": "b1d8414b",
   "metadata": {},
   "source": [
    "![%EC%83%81%EA%B4%80%EA%B3%84%EC%88%98.PNG](attachment:%EC%83%81%EA%B4%80%EA%B3%84%EC%88%98.PNG)"
   ]
  },
  {
   "cell_type": "code",
   "execution_count": 25,
   "id": "b2d5726b",
   "metadata": {},
   "outputs": [
    {
     "data": {
      "text/plain": [
       "(0.9718640116033496, 7.508878356557318e-18)"
      ]
     },
     "execution_count": 25,
     "metadata": {},
     "output_type": "execute_result"
    }
   ],
   "source": [
    "pearsonr(df['금값'], df['은값'])\n",
    "\n",
    "# 상관계수 : 0.97     - 양의 상관(금값이 올라가면 은값도 올라간다)\n",
    "# pvalue : 0에 수렴   - 귀무가설 기각"
   ]
  },
  {
   "cell_type": "code",
   "execution_count": 28,
   "id": "7b69304d",
   "metadata": {},
   "outputs": [
    {
     "data": {
      "text/plain": [
       "(-0.6793266264341937, 7.033325258452259e-05)"
      ]
     },
     "execution_count": 28,
     "metadata": {},
     "output_type": "execute_result"
    }
   ],
   "source": [
    "pearsonr(df['금값'], df['달러 환율'])\n",
    "\n",
    "# 상관계수 : -0.67     - 음의 상관(금값이 올라가면 달러 환율은 떨어진다)   \n",
    "# pvalue : 0에 수렴   - 귀무가설 기각\n"
   ]
  },
  {
   "cell_type": "code",
   "execution_count": 29,
   "id": "414ff9e1",
   "metadata": {},
   "outputs": [
    {
     "data": {
      "text/plain": [
       "(-0.6954569556203559, 3.989042061957972e-05)"
      ]
     },
     "execution_count": 29,
     "metadata": {},
     "output_type": "execute_result"
    }
   ],
   "source": [
    "pearsonr(df['은값'], df['달러 환율'])\n",
    "\n",
    "# 상관 계수 -0.69     - 음의 상관(은값이 올라가면 달러 환율은 떨어진다)\n",
    "# pvalue : 0에 수렴   - 귀무가설 기각\n"
   ]
  },
  {
   "cell_type": "code",
   "execution_count": null,
   "id": "6a53bd4e",
   "metadata": {},
   "outputs": [],
   "source": []
  },
  {
   "cell_type": "markdown",
   "id": "28e90912",
   "metadata": {},
   "source": [
    "#### 스피어만 상관 계수\n",
    "\n",
    "\n",
    "- 분석하고자 하는 두 연속형 분포가 심각하게 정규분포를 벗어난다거나 순위척도 자료일 때 사용\n",
    "    - 연속형 자료일 때는 각 측정값을 순위 척도 자료로 변환시켜 계산\n",
    "    \n",
    "    \n",
    "    \n",
    "- 두 변수 순위 사이의 단조 관련성(한 변수가 증가할 때 다른 변수가 증가하는지 감소하는지에 대한 관계)만을 측정하는 상관계수\n",
    "- 선형적인 상관 관계를 나타내지 않는다\n"
   ]
  },
  {
   "attachments": {
    "%EC%83%81%EA%B4%80%EB%B6%84%EC%84%9D%ED%95%A8%EC%88%98.PNG": {
     "image/png": "[encoded data removed]"
    }
   },
   "cell_type": "markdown",
   "id": "ff30116c",
   "metadata": {},
   "source": [
    "![%EC%83%81%EA%B4%80%EB%B6%84%EC%84%9D%ED%95%A8%EC%88%98.PNG](attachment:%EC%83%81%EA%B4%80%EB%B6%84%EC%84%9D%ED%95%A8%EC%88%98.PNG)"
   ]
  },
  {
   "attachments": {
    "%EC%8A%A4%ED%94%BC%EC%96%B4%EB%A7%8C%ED%86%B5%EA%B3%84%EB%9F%89.PNG": {
     "image/png": "[encoded data removed]"
    }
   },
   "cell_type": "markdown",
   "id": "c5924a60",
   "metadata": {},
   "source": [
    "![%EC%8A%A4%ED%94%BC%EC%96%B4%EB%A7%8C%ED%86%B5%EA%B3%84%EB%9F%89.PNG](attachment:%EC%8A%A4%ED%94%BC%EC%96%B4%EB%A7%8C%ED%86%B5%EA%B3%84%EB%9F%89.PNG)"
   ]
  },
  {
   "cell_type": "code",
   "execution_count": 31,
   "id": "df9910b1",
   "metadata": {},
   "outputs": [
    {
     "data": {
      "text/html": [
       "<div>\n",
       "<style scoped>\n",
       "    .dataframe tbody tr th:only-of-type {\n",
       "        vertical-align: middle;\n",
       "    }\n",
       "\n",
       "    .dataframe tbody tr th {\n",
       "        vertical-align: top;\n",
       "    }\n",
       "\n",
       "    .dataframe thead th {\n",
       "        text-align: right;\n",
       "    }\n",
       "</style>\n",
       "<table border=\"1\" class=\"dataframe\">\n",
       "  <thead>\n",
       "    <tr style=\"text-align: right;\">\n",
       "      <th></th>\n",
       "      <th>일자</th>\n",
       "      <th>금값</th>\n",
       "      <th>은값</th>\n",
       "      <th>달러 환율</th>\n",
       "    </tr>\n",
       "  </thead>\n",
       "  <tbody>\n",
       "    <tr>\n",
       "      <th>27</th>\n",
       "      <td>2020.06.30</td>\n",
       "      <td>68559.78</td>\n",
       "      <td>18.54</td>\n",
       "      <td>1203.0</td>\n",
       "    </tr>\n",
       "    <tr>\n",
       "      <th>26</th>\n",
       "      <td>2020.07.01</td>\n",
       "      <td>68941.28</td>\n",
       "      <td>18.13</td>\n",
       "      <td>1203.5</td>\n",
       "    </tr>\n",
       "    <tr>\n",
       "      <th>25</th>\n",
       "      <td>2020.07.02</td>\n",
       "      <td>68278.07</td>\n",
       "      <td>18.24</td>\n",
       "      <td>1199.0</td>\n",
       "    </tr>\n",
       "    <tr>\n",
       "      <th>24</th>\n",
       "      <td>2020.07.06</td>\n",
       "      <td>68269.27</td>\n",
       "      <td>18.50</td>\n",
       "      <td>1194.0</td>\n",
       "    </tr>\n",
       "    <tr>\n",
       "      <th>23</th>\n",
       "      <td>2020.07.07</td>\n",
       "      <td>68443.14</td>\n",
       "      <td>18.63</td>\n",
       "      <td>1197.0</td>\n",
       "    </tr>\n",
       "    <tr>\n",
       "      <th>22</th>\n",
       "      <td>2020.07.08</td>\n",
       "      <td>69184.17</td>\n",
       "      <td>19.08</td>\n",
       "      <td>1195.0</td>\n",
       "    </tr>\n",
       "    <tr>\n",
       "      <th>21</th>\n",
       "      <td>2020.07.09</td>\n",
       "      <td>69748.21</td>\n",
       "      <td>18.88</td>\n",
       "      <td>1195.0</td>\n",
       "    </tr>\n",
       "    <tr>\n",
       "      <th>20</th>\n",
       "      <td>2020.07.10</td>\n",
       "      <td>69735.18</td>\n",
       "      <td>18.98</td>\n",
       "      <td>1201.0</td>\n",
       "    </tr>\n",
       "    <tr>\n",
       "      <th>19</th>\n",
       "      <td>2020.07.13</td>\n",
       "      <td>69933.64</td>\n",
       "      <td>19.71</td>\n",
       "      <td>1203.0</td>\n",
       "    </tr>\n",
       "    <tr>\n",
       "      <th>18</th>\n",
       "      <td>2020.07.14</td>\n",
       "      <td>69827.02</td>\n",
       "      <td>19.45</td>\n",
       "      <td>1206.5</td>\n",
       "    </tr>\n",
       "    <tr>\n",
       "      <th>17</th>\n",
       "      <td>2020.07.15</td>\n",
       "      <td>70004.80</td>\n",
       "      <td>19.68</td>\n",
       "      <td>1201.0</td>\n",
       "    </tr>\n",
       "    <tr>\n",
       "      <th>16</th>\n",
       "      <td>2020.07.16</td>\n",
       "      <td>69966.63</td>\n",
       "      <td>19.50</td>\n",
       "      <td>1205.0</td>\n",
       "    </tr>\n",
       "    <tr>\n",
       "      <th>15</th>\n",
       "      <td>2020.07.17</td>\n",
       "      <td>69793.91</td>\n",
       "      <td>19.68</td>\n",
       "      <td>1205.0</td>\n",
       "    </tr>\n",
       "    <tr>\n",
       "      <th>14</th>\n",
       "      <td>2020.07.20</td>\n",
       "      <td>70104.72</td>\n",
       "      <td>20.12</td>\n",
       "      <td>1203.0</td>\n",
       "    </tr>\n",
       "    <tr>\n",
       "      <th>13</th>\n",
       "      <td>2020.07.21</td>\n",
       "      <td>70129.97</td>\n",
       "      <td>21.50</td>\n",
       "      <td>1196.0</td>\n",
       "    </tr>\n",
       "    <tr>\n",
       "      <th>12</th>\n",
       "      <td>2020.07.22</td>\n",
       "      <td>71170.07</td>\n",
       "      <td>23.08</td>\n",
       "      <td>1197.0</td>\n",
       "    </tr>\n",
       "    <tr>\n",
       "      <th>11</th>\n",
       "      <td>2020.07.23</td>\n",
       "      <td>72451.43</td>\n",
       "      <td>22.95</td>\n",
       "      <td>1198.5</td>\n",
       "    </tr>\n",
       "    <tr>\n",
       "      <th>10</th>\n",
       "      <td>2020.07.24</td>\n",
       "      <td>73293.98</td>\n",
       "      <td>22.81</td>\n",
       "      <td>1204.0</td>\n",
       "    </tr>\n",
       "    <tr>\n",
       "      <th>9</th>\n",
       "      <td>2020.07.27</td>\n",
       "      <td>74332.14</td>\n",
       "      <td>24.48</td>\n",
       "      <td>1197.0</td>\n",
       "    </tr>\n",
       "    <tr>\n",
       "      <th>8</th>\n",
       "      <td>2020.07.28</td>\n",
       "      <td>74342.85</td>\n",
       "      <td>24.27</td>\n",
       "      <td>1199.5</td>\n",
       "    </tr>\n",
       "    <tr>\n",
       "      <th>7</th>\n",
       "      <td>2020.07.29</td>\n",
       "      <td>75110.45</td>\n",
       "      <td>24.30</td>\n",
       "      <td>1194.0</td>\n",
       "    </tr>\n",
       "    <tr>\n",
       "      <th>6</th>\n",
       "      <td>2020.07.30</td>\n",
       "      <td>75110.59</td>\n",
       "      <td>23.34</td>\n",
       "      <td>1196.0</td>\n",
       "    </tr>\n",
       "    <tr>\n",
       "      <th>5</th>\n",
       "      <td>2020.07.31</td>\n",
       "      <td>75628.90</td>\n",
       "      <td>24.19</td>\n",
       "      <td>1191.0</td>\n",
       "    </tr>\n",
       "    <tr>\n",
       "      <th>4</th>\n",
       "      <td>2020.08.03</td>\n",
       "      <td>75761.76</td>\n",
       "      <td>24.39</td>\n",
       "      <td>1195.7</td>\n",
       "    </tr>\n",
       "    <tr>\n",
       "      <th>3</th>\n",
       "      <td>2020.08.04</td>\n",
       "      <td>75873.57</td>\n",
       "      <td>26.01</td>\n",
       "      <td>1194.5</td>\n",
       "    </tr>\n",
       "    <tr>\n",
       "      <th>2</th>\n",
       "      <td>2020.08.05</td>\n",
       "      <td>77748.00</td>\n",
       "      <td>26.88</td>\n",
       "      <td>1188.0</td>\n",
       "    </tr>\n",
       "    <tr>\n",
       "      <th>1</th>\n",
       "      <td>2020.08.06</td>\n",
       "      <td>78009.22</td>\n",
       "      <td>28.39</td>\n",
       "      <td>1185.5</td>\n",
       "    </tr>\n",
       "    <tr>\n",
       "      <th>0</th>\n",
       "      <td>2020.08.07</td>\n",
       "      <td>78538.90</td>\n",
       "      <td>27.53</td>\n",
       "      <td>1188.5</td>\n",
       "    </tr>\n",
       "  </tbody>\n",
       "</table>\n",
       "</div>"
      ],
      "text/plain": [
       "            일자        금값     은값   달러 환율\n",
       "27  2020.06.30  68559.78  18.54  1203.0\n",
       "26  2020.07.01  68941.28  18.13  1203.5\n",
       "25  2020.07.02  68278.07  18.24  1199.0\n",
       "24  2020.07.06  68269.27  18.50  1194.0\n",
       "23  2020.07.07  68443.14  18.63  1197.0\n",
       "22  2020.07.08  69184.17  19.08  1195.0\n",
       "21  2020.07.09  69748.21  18.88  1195.0\n",
       "20  2020.07.10  69735.18  18.98  1201.0\n",
       "19  2020.07.13  69933.64  19.71  1203.0\n",
       "18  2020.07.14  69827.02  19.45  1206.5\n",
       "17  2020.07.15  70004.80  19.68  1201.0\n",
       "16  2020.07.16  69966.63  19.50  1205.0\n",
       "15  2020.07.17  69793.91  19.68  1205.0\n",
       "14  2020.07.20  70104.72  20.12  1203.0\n",
       "13  2020.07.21  70129.97  21.50  1196.0\n",
       "12  2020.07.22  71170.07  23.08  1197.0\n",
       "11  2020.07.23  72451.43  22.95  1198.5\n",
       "10  2020.07.24  73293.98  22.81  1204.0\n",
       "9   2020.07.27  74332.14  24.48  1197.0\n",
       "8   2020.07.28  74342.85  24.27  1199.5\n",
       "7   2020.07.29  75110.45  24.30  1194.0\n",
       "6   2020.07.30  75110.59  23.34  1196.0\n",
       "5   2020.07.31  75628.90  24.19  1191.0\n",
       "4   2020.08.03  75761.76  24.39  1195.7\n",
       "3   2020.08.04  75873.57  26.01  1194.5\n",
       "2   2020.08.05  77748.00  26.88  1188.0\n",
       "1   2020.08.06  78009.22  28.39  1185.5\n",
       "0   2020.08.07  78538.90  27.53  1188.5"
      ]
     },
     "execution_count": 31,
     "metadata": {},
     "output_type": "execute_result"
    }
   ],
   "source": [
    "df\n"
   ]
  },
  {
   "cell_type": "code",
   "execution_count": 32,
   "id": "000f548b",
   "metadata": {},
   "outputs": [
    {
     "name": "stdout",
     "output_type": "stream",
     "text": [
      "금값 ~ 은값: coef:0.9711235892228813, p-value: 1.0481280432981455e-17\n",
      "금값 ~ 달러 환율: coef:-0.5039075855936102, p-value: 0.006257468267109453\n",
      "은값 ~ 달러 환율: coef:-0.528106006718531, p-value: 0.003869997604824081\n"
     ]
    }
   ],
   "source": [
    "import itertools #스피어만 상관계수\n",
    "target_columns = ['금값', '은값', '달러 환율']\n",
    "for col1, col2 in itertools.combinations(target_columns, 2):\n",
    "    result = spearmanr(df[col1], df[col2])\n",
    "    print(\"{} ~ {}: coef:{}, p-value: {}\".format(col1, col2, result[0], result[1]))\n"
   ]
  },
  {
   "cell_type": "code",
   "execution_count": null,
   "id": "fd6e9798",
   "metadata": {},
   "outputs": [],
   "source": []
  },
  {
   "cell_type": "code",
   "execution_count": 33,
   "id": "4e7ae353",
   "metadata": {},
   "outputs": [
    {
     "name": "stdout",
     "output_type": "stream",
     "text": [
      "27    68559.78\n",
      "26    68941.28\n",
      "25    68278.07\n",
      "24    68269.27\n",
      "23    68443.14\n",
      "22    69184.17\n",
      "21    69748.21\n",
      "20    69735.18\n",
      "19    69933.64\n",
      "18    69827.02\n",
      "17    70004.80\n",
      "16    69966.63\n",
      "15    69793.91\n",
      "14    70104.72\n",
      "13    70129.97\n",
      "12    71170.07\n",
      "11    72451.43\n",
      "10    73293.98\n",
      "9     74332.14\n",
      "8     74342.85\n",
      "7     75110.45\n",
      "6     75110.59\n",
      "5     75628.90\n",
      "4     75761.76\n",
      "3     75873.57\n",
      "2     77748.00\n",
      "1     78009.22\n",
      "0     78538.90\n",
      "Name: 금값, dtype: float64 27    18.54\n",
      "26    18.13\n",
      "25    18.24\n",
      "24    18.50\n",
      "23    18.63\n",
      "22    19.08\n",
      "21    18.88\n",
      "20    18.98\n",
      "19    19.71\n",
      "18    19.45\n",
      "17    19.68\n",
      "16    19.50\n",
      "15    19.68\n",
      "14    20.12\n",
      "13    21.50\n",
      "12    23.08\n",
      "11    22.95\n",
      "10    22.81\n",
      "9     24.48\n",
      "8     24.27\n",
      "7     24.30\n",
      "6     23.34\n",
      "5     24.19\n",
      "4     24.39\n",
      "3     26.01\n",
      "2     26.88\n",
      "1     28.39\n",
      "0     27.53\n",
      "Name: 은값, dtype: float64\n",
      "27    68559.78\n",
      "26    68941.28\n",
      "25    68278.07\n",
      "24    68269.27\n",
      "23    68443.14\n",
      "22    69184.17\n",
      "21    69748.21\n",
      "20    69735.18\n",
      "19    69933.64\n",
      "18    69827.02\n",
      "17    70004.80\n",
      "16    69966.63\n",
      "15    69793.91\n",
      "14    70104.72\n",
      "13    70129.97\n",
      "12    71170.07\n",
      "11    72451.43\n",
      "10    73293.98\n",
      "9     74332.14\n",
      "8     74342.85\n",
      "7     75110.45\n",
      "6     75110.59\n",
      "5     75628.90\n",
      "4     75761.76\n",
      "3     75873.57\n",
      "2     77748.00\n",
      "1     78009.22\n",
      "0     78538.90\n",
      "Name: 금값, dtype: float64 27    1203.0\n",
      "26    1203.5\n",
      "25    1199.0\n",
      "24    1194.0\n",
      "23    1197.0\n",
      "22    1195.0\n",
      "21    1195.0\n",
      "20    1201.0\n",
      "19    1203.0\n",
      "18    1206.5\n",
      "17    1201.0\n",
      "16    1205.0\n",
      "15    1205.0\n",
      "14    1203.0\n",
      "13    1196.0\n",
      "12    1197.0\n",
      "11    1198.5\n",
      "10    1204.0\n",
      "9     1197.0\n",
      "8     1199.5\n",
      "7     1194.0\n",
      "6     1196.0\n",
      "5     1191.0\n",
      "4     1195.7\n",
      "3     1194.5\n",
      "2     1188.0\n",
      "1     1185.5\n",
      "0     1188.5\n",
      "Name: 달러 환율, dtype: float64\n",
      "27    18.54\n",
      "26    18.13\n",
      "25    18.24\n",
      "24    18.50\n",
      "23    18.63\n",
      "22    19.08\n",
      "21    18.88\n",
      "20    18.98\n",
      "19    19.71\n",
      "18    19.45\n",
      "17    19.68\n",
      "16    19.50\n",
      "15    19.68\n",
      "14    20.12\n",
      "13    21.50\n",
      "12    23.08\n",
      "11    22.95\n",
      "10    22.81\n",
      "9     24.48\n",
      "8     24.27\n",
      "7     24.30\n",
      "6     23.34\n",
      "5     24.19\n",
      "4     24.39\n",
      "3     26.01\n",
      "2     26.88\n",
      "1     28.39\n",
      "0     27.53\n",
      "Name: 은값, dtype: float64 27    1203.0\n",
      "26    1203.5\n",
      "25    1199.0\n",
      "24    1194.0\n",
      "23    1197.0\n",
      "22    1195.0\n",
      "21    1195.0\n",
      "20    1201.0\n",
      "19    1203.0\n",
      "18    1206.5\n",
      "17    1201.0\n",
      "16    1205.0\n",
      "15    1205.0\n",
      "14    1203.0\n",
      "13    1196.0\n",
      "12    1197.0\n",
      "11    1198.5\n",
      "10    1204.0\n",
      "9     1197.0\n",
      "8     1199.5\n",
      "7     1194.0\n",
      "6     1196.0\n",
      "5     1191.0\n",
      "4     1195.7\n",
      "3     1194.5\n",
      "2     1188.0\n",
      "1     1185.5\n",
      "0     1188.5\n",
      "Name: 달러 환율, dtype: float64\n"
     ]
    }
   ],
   "source": [
    "for col1, col2 in itertools.combinations(target_columns, 2):\n",
    "    print(df[col1], df[col2])"
   ]
  },
  {
   "cell_type": "code",
   "execution_count": 34,
   "id": "b28f8624",
   "metadata": {},
   "outputs": [
    {
     "name": "stdout",
     "output_type": "stream",
     "text": [
      "금값 은값\n",
      "금값 달러 환율\n",
      "은값 달러 환율\n"
     ]
    }
   ],
   "source": [
    "for col1, col2 in itertools.combinations(target_columns, 2):\n",
    "    print(col1, col2)"
   ]
  },
  {
   "cell_type": "code",
   "execution_count": null,
   "id": "16d86309",
   "metadata": {},
   "outputs": [],
   "source": []
  },
  {
   "cell_type": "markdown",
   "id": "88584faa",
   "metadata": {},
   "source": [
    "### 상관행렬"
   ]
  },
  {
   "cell_type": "code",
   "execution_count": 37,
   "id": "0e65885b",
   "metadata": {},
   "outputs": [
    {
     "data": {
      "text/html": [
       "<div>\n",
       "<style scoped>\n",
       "    .dataframe tbody tr th:only-of-type {\n",
       "        vertical-align: middle;\n",
       "    }\n",
       "\n",
       "    .dataframe tbody tr th {\n",
       "        vertical-align: top;\n",
       "    }\n",
       "\n",
       "    .dataframe thead th {\n",
       "        text-align: right;\n",
       "    }\n",
       "</style>\n",
       "<table border=\"1\" class=\"dataframe\">\n",
       "  <thead>\n",
       "    <tr style=\"text-align: right;\">\n",
       "      <th></th>\n",
       "      <th>금값</th>\n",
       "      <th>은값</th>\n",
       "      <th>달러 환율</th>\n",
       "    </tr>\n",
       "  </thead>\n",
       "  <tbody>\n",
       "    <tr>\n",
       "      <th>금값</th>\n",
       "      <td>1.000000</td>\n",
       "      <td>0.971864</td>\n",
       "      <td>-0.679327</td>\n",
       "    </tr>\n",
       "    <tr>\n",
       "      <th>은값</th>\n",
       "      <td>0.971864</td>\n",
       "      <td>1.000000</td>\n",
       "      <td>-0.695457</td>\n",
       "    </tr>\n",
       "    <tr>\n",
       "      <th>달러 환율</th>\n",
       "      <td>-0.679327</td>\n",
       "      <td>-0.695457</td>\n",
       "      <td>1.000000</td>\n",
       "    </tr>\n",
       "  </tbody>\n",
       "</table>\n",
       "</div>"
      ],
      "text/plain": [
       "             금값        은값     달러 환율\n",
       "금값     1.000000  0.971864 -0.679327\n",
       "은값     0.971864  1.000000 -0.695457\n",
       "달러 환율 -0.679327 -0.695457  1.000000"
      ]
     },
     "execution_count": 37,
     "metadata": {},
     "output_type": "execute_result"
    }
   ],
   "source": [
    "df.drop(\"일자\",axis=1).corr(method=\"pearson\")"
   ]
  },
  {
   "cell_type": "code",
   "execution_count": 38,
   "id": "69428f05",
   "metadata": {},
   "outputs": [
    {
     "data": {
      "text/html": [
       "<div>\n",
       "<style scoped>\n",
       "    .dataframe tbody tr th:only-of-type {\n",
       "        vertical-align: middle;\n",
       "    }\n",
       "\n",
       "    .dataframe tbody tr th {\n",
       "        vertical-align: top;\n",
       "    }\n",
       "\n",
       "    .dataframe thead th {\n",
       "        text-align: right;\n",
       "    }\n",
       "</style>\n",
       "<table border=\"1\" class=\"dataframe\">\n",
       "  <thead>\n",
       "    <tr style=\"text-align: right;\">\n",
       "      <th></th>\n",
       "      <th>금값</th>\n",
       "      <th>은값</th>\n",
       "      <th>달러 환율</th>\n",
       "    </tr>\n",
       "  </thead>\n",
       "  <tbody>\n",
       "    <tr>\n",
       "      <th>금값</th>\n",
       "      <td>1.000000</td>\n",
       "      <td>0.971124</td>\n",
       "      <td>-0.503908</td>\n",
       "    </tr>\n",
       "    <tr>\n",
       "      <th>은값</th>\n",
       "      <td>0.971124</td>\n",
       "      <td>1.000000</td>\n",
       "      <td>-0.528106</td>\n",
       "    </tr>\n",
       "    <tr>\n",
       "      <th>달러 환율</th>\n",
       "      <td>-0.503908</td>\n",
       "      <td>-0.528106</td>\n",
       "      <td>1.000000</td>\n",
       "    </tr>\n",
       "  </tbody>\n",
       "</table>\n",
       "</div>"
      ],
      "text/plain": [
       "             금값        은값     달러 환율\n",
       "금값     1.000000  0.971124 -0.503908\n",
       "은값     0.971124  1.000000 -0.528106\n",
       "달러 환율 -0.503908 -0.528106  1.000000"
      ]
     },
     "execution_count": 38,
     "metadata": {},
     "output_type": "execute_result"
    }
   ],
   "source": [
    "df.drop(\"일자\",axis=1).corr(method=\"spearman\")"
   ]
  },
  {
   "cell_type": "code",
   "execution_count": null,
   "id": "352867c4",
   "metadata": {},
   "outputs": [],
   "source": []
  },
  {
   "cell_type": "code",
   "execution_count": null,
   "id": "808dfa82",
   "metadata": {},
   "outputs": [],
   "source": []
  },
  {
   "cell_type": "code",
   "execution_count": null,
   "id": "6cd4ac89",
   "metadata": {},
   "outputs": [],
   "source": []
  },
  {
   "cell_type": "code",
   "execution_count": null,
   "id": "a9e49004",
   "metadata": {},
   "outputs": [],
   "source": []
  },
  {
   "cell_type": "code",
   "execution_count": null,
   "id": "fb27894d",
   "metadata": {},
   "outputs": [],
   "source": []
  },
  {
   "cell_type": "code",
   "execution_count": null,
   "id": "b54eb3d1",
   "metadata": {},
   "outputs": [],
   "source": []
  },
  {
   "cell_type": "code",
   "execution_count": null,
   "id": "e67d9d40",
   "metadata": {},
   "outputs": [],
   "source": []
  },
  {
   "cell_type": "code",
   "execution_count": null,
   "id": "630e1c36",
   "metadata": {},
   "outputs": [],
   "source": []
  },
  {
   "cell_type": "code",
   "execution_count": null,
   "id": "5150ba7e",
   "metadata": {},
   "outputs": [],
   "source": []
  },
  {
   "cell_type": "code",
   "execution_count": null,
   "id": "2590f181",
   "metadata": {},
   "outputs": [],
   "source": []
  },
  {
   "cell_type": "code",
   "execution_count": null,
   "id": "61dd9d1d",
   "metadata": {},
   "outputs": [],
   "source": []
  },
  {
   "cell_type": "code",
   "execution_count": null,
   "id": "d253381d",
   "metadata": {},
   "outputs": [],
   "source": []
  },
  {
   "cell_type": "code",
   "execution_count": null,
   "id": "ce988968",
   "metadata": {},
   "outputs": [],
   "source": []
  },
  {
   "cell_type": "code",
   "execution_count": null,
   "id": "2926e79b",
   "metadata": {},
   "outputs": [],
   "source": []
  },
  {
   "cell_type": "code",
   "execution_count": null,
   "id": "b1b28e36",
   "metadata": {},
   "outputs": [],
   "source": []
  },
  {
   "cell_type": "code",
   "execution_count": null,
   "id": "555a1197",
   "metadata": {},
   "outputs": [],
   "source": []
  },
  {
   "cell_type": "code",
   "execution_count": null,
   "id": "3aebbb2d",
   "metadata": {},
   "outputs": [],
   "source": []
  },
  {
   "cell_type": "code",
   "execution_count": null,
   "id": "b43c9d37",
   "metadata": {},
   "outputs": [],
   "source": []
  },
  {
   "cell_type": "code",
   "execution_count": null,
   "id": "83a36c77",
   "metadata": {},
   "outputs": [],
   "source": []
  },
  {
   "cell_type": "code",
   "execution_count": null,
   "id": "0900faf0",
   "metadata": {},
   "outputs": [],
   "source": []
  },
  {
   "cell_type": "code",
   "execution_count": null,
   "id": "b6ff7e9f",
   "metadata": {},
   "outputs": [],
   "source": []
  }
 ],
 "metadata": {
  "kernelspec": {
   "display_name": "Python 3",
   "language": "python",
   "name": "python3"
  },
  "language_info": {
   "codemirror_mode": {
    "name": "ipython",
    "version": 3
   },
   "file_extension": ".py",
   "mimetype": "text/x-python",
   "name": "python",
   "nbconvert_exporter": "python",
   "pygments_lexer": "ipython3",
   "version": "3.8.8"
  }
 },
 "nbformat": 4,
 "nbformat_minor": 5
}
