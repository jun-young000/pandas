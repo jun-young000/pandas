{
 "cells": [
  {
   "cell_type": "code",
   "execution_count": 4,
   "id": "cd2636c0",
   "metadata": {},
   "outputs": [],
   "source": [
    "import pandas as pd\n",
    "import numpy as np\n",
    "\n"
   ]
  },
  {
   "cell_type": "markdown",
   "id": "8191336b",
   "metadata": {},
   "source": [
    "#### 날짜 자동 생성:date_range 함수 사용-교재 p241\n",
    "\n",
    "    - 시리즈의 인덱스에 날짜 데이터를 사용\n",
    "    - 날짜 표시: :\"년-월-일\""
   ]
  },
  {
   "cell_type": "code",
   "execution_count": 5,
   "id": "2b0f317e",
   "metadata": {},
   "outputs": [
    {
     "data": {
      "text/plain": [
       "2018-10-07    200.0\n",
       "2018-10-08    195.0\n",
       "2018-10-09      NaN\n",
       "2018-10-10    205.0\n",
       "dtype: float64"
      ]
     },
     "execution_count": 5,
     "metadata": {},
     "output_type": "execute_result"
    }
   ],
   "source": [
    "index_date = ['2018-10-07','2018-10-08','2018-10-09','2018-10-10']\n",
    "s4 = pd.Series([200,195,np.nan, 205], index=index_date)\n",
    "s4\n"
   ]
  },
  {
   "cell_type": "markdown",
   "id": "cad25847",
   "metadata": {},
   "source": [
    "- 판다스 패키지의 date_range 함수 (날짜생성)\n",
    "    - pd.date_range(start=None, end=None, periods=None, freq='D')\n",
    "    - start : 시작날짜/ end= 끝날짜 / periods = 날짜 생성기간/ fref = 날짜 생성 주기\n",
    "    - start는 필수 옵션/end나 periods는 둘 중 하나가 있어야 함/ freq는 기본 Day로 설정\n"
   ]
  },
  {
   "cell_type": "markdown",
   "id": "ce0824e0",
   "metadata": {},
   "source": [
    "<center><img src='date_freq.PNG' width='600'></center>\n",
    "\n",
    "\n"
   ]
  },
  {
   "cell_type": "code",
   "execution_count": 7,
   "id": "efc37b9d",
   "metadata": {},
   "outputs": [
    {
     "data": {
      "text/plain": [
       "DatetimeIndex(['2018-10-01', '2018-10-02', '2018-10-03', '2018-10-04',\n",
       "               '2018-10-05', '2018-10-06', '2018-10-07', '2018-10-08',\n",
       "               '2018-10-09', '2018-10-10', '2018-10-11', '2018-10-12',\n",
       "               '2018-10-13', '2018-10-14', '2018-10-15', '2018-10-16',\n",
       "               '2018-10-17', '2018-10-18', '2018-10-19', '2018-10-20'],\n",
       "              dtype='datetime64[ns]', freq='D')"
      ]
     },
     "execution_count": 7,
     "metadata": {},
     "output_type": "execute_result"
    }
   ],
   "source": [
    "pd.date_range(start=\"2018-10-01\", end=\"2018-10-20\")\n",
    "\n",
    "# dtype='datetime64[ns]'   데이트타임 형태로 생성"
   ]
  },
  {
   "cell_type": "code",
   "execution_count": 8,
   "id": "ce4defe9",
   "metadata": {},
   "outputs": [
    {
     "data": {
      "text/plain": [
       "DatetimeIndex(['2018-10-01', '2018-10-02', '2018-10-03', '2018-10-04',\n",
       "               '2018-10-05', '2018-10-06', '2018-10-07', '2018-10-08',\n",
       "               '2018-10-09', '2018-10-10', '2018-10-11', '2018-10-12',\n",
       "               '2018-10-13', '2018-10-14', '2018-10-15', '2018-10-16',\n",
       "               '2018-10-17', '2018-10-18', '2018-10-19', '2018-10-20'],\n",
       "              dtype='datetime64[ns]', freq='D')"
      ]
     },
     "execution_count": 8,
     "metadata": {},
     "output_type": "execute_result"
    }
   ],
   "source": [
    "pd.date_range(start=\"2018-10-01\", end=\"2018-10-20\", freq=\"d\")  #freq 기본값=\"d\""
   ]
  },
  {
   "cell_type": "code",
   "execution_count": 9,
   "id": "a7af9e37",
   "metadata": {},
   "outputs": [
    {
     "data": {
      "text/plain": [
       "DatetimeIndex(['2018-10-01', '2018-10-04', '2018-10-07', '2018-10-10',\n",
       "               '2018-10-13', '2018-10-16', '2018-10-19'],\n",
       "              dtype='datetime64[ns]', freq='3D')"
      ]
     },
     "execution_count": 9,
     "metadata": {},
     "output_type": "execute_result"
    }
   ],
   "source": [
    "pd.date_range(start=\"2018-10-01\", end=\"2018-10-20\", freq=\"3D\") #3일씩 증가"
   ]
  },
  {
   "cell_type": "code",
   "execution_count": 10,
   "id": "394218c0",
   "metadata": {},
   "outputs": [
    {
     "data": {
      "text/plain": [
       "DatetimeIndex(['2018-10-07', '2018-10-14'], dtype='datetime64[ns]', freq='W-SUN')"
      ]
     },
     "execution_count": 10,
     "metadata": {},
     "output_type": "execute_result"
    }
   ],
   "source": [
    "pd.date_range(start=\"2018-10-01\", end=\"2018-10-20\", freq=\"w\") \n",
    "# 2018-10-1 기준으로 1주일씩 증가하는 날짜를 생성-- 1주의 시작일으로 표시(일요일)"
   ]
  },
  {
   "cell_type": "code",
   "execution_count": 11,
   "id": "c4283b84",
   "metadata": {},
   "outputs": [
    {
     "data": {
      "text/plain": [
       "DatetimeIndex(['2018-10-07', '2018-10-14'], dtype='datetime64[ns]', freq='W-SUN')"
      ]
     },
     "execution_count": 11,
     "metadata": {},
     "output_type": "execute_result"
    }
   ],
   "source": [
    "pd.date_range(start=\"2018-10-07\", end=\"2018-10-20\", freq=\"w\") \n",
    "#freq 값은 대소문자 사용가능"
   ]
  },
  {
   "cell_type": "code",
   "execution_count": 14,
   "id": "333e1d78",
   "metadata": {},
   "outputs": [
    {
     "data": {
      "text/plain": [
       "DatetimeIndex(['2018-10-31', '2018-11-30', '2018-12-31', '2019-01-31'], dtype='datetime64[ns]', freq='M')"
      ]
     },
     "execution_count": 14,
     "metadata": {},
     "output_type": "execute_result"
    }
   ],
   "source": [
    "pd.date_range(start=\"2018-10-07\", periods=4, freq=\"m\") \n",
    "#start 날짜를 포함하는 월의 마지막 날짜부터 월단위로 주기를 생성-4개의 날짜"
   ]
  },
  {
   "cell_type": "code",
   "execution_count": 17,
   "id": "cec0f162",
   "metadata": {},
   "outputs": [
    {
     "data": {
      "text/plain": [
       "DatetimeIndex(['2018-11-01', '2018-12-01', '2019-01-01', '2019-02-01'], dtype='datetime64[ns]', freq='MS')"
      ]
     },
     "execution_count": 17,
     "metadata": {},
     "output_type": "execute_result"
    }
   ],
   "source": [
    "pd.date_range(start=\"2018-10-07\", periods=4, freq=\"MS\") \n",
    "# 소문자로 ms는 마이크로 초니깐 조심 \n",
    "# 월별 시작일은 MS사용"
   ]
  },
  {
   "cell_type": "code",
   "execution_count": 18,
   "id": "3217be37",
   "metadata": {},
   "outputs": [
    {
     "data": {
      "text/plain": [
       "DatetimeIndex(['2019-01-01', '2019-04-01', '2019-07-01', '2019-10-01'], dtype='datetime64[ns]', freq='QS-JAN')"
      ]
     },
     "execution_count": 18,
     "metadata": {},
     "output_type": "execute_result"
    }
   ],
   "source": [
    "pd.date_range(start=\"2018-10-07\", periods=4, freq=\"QS\") \n",
    "# 10월 7일 기준 분기 첫째 날짜 생성"
   ]
  },
  {
   "cell_type": "code",
   "execution_count": 20,
   "id": "7da5a6ca",
   "metadata": {},
   "outputs": [
    {
     "data": {
      "text/plain": [
       "DatetimeIndex(['2019-01-01', '2020-01-01', '2021-01-01', '2022-01-01'], dtype='datetime64[ns]', freq='AS-JAN')"
      ]
     },
     "execution_count": 20,
     "metadata": {},
     "output_type": "execute_result"
    }
   ],
   "source": [
    "pd.date_range(start=\"2018-10-07\", periods=4, freq=\"AS\") \n",
    "# 년도 첫날 기준으로 4개의 연도 첫날짜 생성"
   ]
  },
  {
   "cell_type": "code",
   "execution_count": 21,
   "id": "a3c4efc3",
   "metadata": {},
   "outputs": [
    {
     "data": {
      "text/plain": [
       "DatetimeIndex(['2019-01-01', '2020-01-01', '2021-01-01', '2022-01-01'], dtype='datetime64[ns]', freq='AS-JAN')"
      ]
     },
     "execution_count": 21,
     "metadata": {},
     "output_type": "execute_result"
    }
   ],
   "source": [
    "pd.date_range(start=\"2018-1-20\", periods=4, freq=\"AS\") \n",
    "# 년도 첫날 기준으로 4개의 연도 첫날짜 생성"
   ]
  },
  {
   "cell_type": "code",
   "execution_count": null,
   "id": "9349603b",
   "metadata": {},
   "outputs": [],
   "source": []
  },
  {
   "cell_type": "code",
   "execution_count": null,
   "id": "1a3b1959",
   "metadata": {},
   "outputs": [],
   "source": []
  },
  {
   "cell_type": "code",
   "execution_count": null,
   "id": "79315ffc",
   "metadata": {},
   "outputs": [],
   "source": []
  }
 ],
 "metadata": {
  "kernelspec": {
   "display_name": "Python 3",
   "language": "python",
   "name": "python3"
  },
  "language_info": {
   "codemirror_mode": {
    "name": "ipython",
    "version": 3
   },
   "file_extension": ".py",
   "mimetype": "text/x-python",
   "name": "python",
   "nbconvert_exporter": "python",
   "pygments_lexer": "ipython3",
   "version": "3.8.8"
  }
 },
 "nbformat": 4,
 "nbformat_minor": 5
}
