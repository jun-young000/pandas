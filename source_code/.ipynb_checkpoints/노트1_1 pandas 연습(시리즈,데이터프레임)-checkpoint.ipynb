{
 "cells": [
  {
   "cell_type": "markdown",
   "id": "7ebd1682",
   "metadata": {},
   "source": [
    "# pandas-교재 237쪽\n",
    "    - series, DataFrame등의 자료구조를 활용한 데이터분석 기능을 제공해주는 라이브러리\n",
    "    - 라이브러리 구성\n",
    "        - 여러종류의 클래스와 다양한 함수로 구성\n",
    "        - 시리즈와 데이터 프레임의 자료 구조 제공\n",
    "        - 시리즈(1차원 배열) 데이터프레임(2차원 배열)\n",
    "        \n",
    "        \n",
    "        \n",
    "#### 판다스의 목적\n",
    "    - 서로 다른 유형의 데이터를 공통된 포맷으로 정리하는 것\n",
    "    - 행과 열로 이루어진 2차원 데이터프레임을 처리 할 수 있는 함수제공 목적\n",
    "    - 실무 사용 형태 : 데이터 프레임\n",
    "\n",
    "        \n",
    "        \n",
    "        \n",
    "        \n",
    "        \n",
    "        \n",
    "        "
   ]
  },
  {
   "cell_type": "markdown",
   "id": "4f364d43",
   "metadata": {},
   "source": [
    "## 구조적 데이터 생성하기 -Serie/DataFrame"
   ]
  },
  {
   "cell_type": "markdown",
   "id": "f14e0073",
   "metadata": {},
   "source": [
    "#### Series(교재 pp 237~240)\n",
    "  - pandas의 기본 객체 중 하나\n",
    "  - numpy의 ndarray를 기반으로 인덱싱을 기능을 추가하여 1차원 배열을 나타냄\n",
    "  - index를 지정하지 않을 시, 기본적으로 ndarray와 같이 0-based 인덱스 생성\n",
    "  - 지정할 경우 명시적으로 지정된 index를 사용\n",
    "  - 중요!!!! 같은 타입의 0개 이상의 데이터를 가질 수 있음\n"
   ]
  },
  {
   "cell_type": "markdown",
   "id": "8dbd3c1a",
   "metadata": {},
   "source": [
    "1. 자료구조: 시리즈\n",
    "    - 데이터가 순차적으로 나열된 1차원 배열 형태\n",
    "    - 인덱스(index)와 데이터 값(value)이 일대일로 대을\n",
    "    - 딕셔너리와 비슷한 구조 : {key(index):value}\n",
    "\n",
    "\n",
    "2. 시리즈의 인덱스\n",
    "    - 데이터 값의 위치를 나타내는 이름표 역할\n",
    "\n",
    "\n",
    "3. 시리즈 생성 : 판다스 내장함수인 Series()이용\n",
    "    - 리스트로 시리즈 만들기\n",
    "    - 딕셔너리로 시리즈 만들기\n",
    "    - 튜플로 시리즈 만들기\n"
   ]
  },
  {
   "cell_type": "code",
   "execution_count": 18,
   "id": "9ae7eac5",
   "metadata": {},
   "outputs": [],
   "source": [
    "# PANDAS 패키지(모듈) import\n",
    "# 대부분의 코드에서 pandas pd 라는 별칭으로 사용\n",
    "import pandas as pd\n",
    "# numpy 패키지 import\n",
    "import numpy as np"
   ]
  },
  {
   "cell_type": "markdown",
   "id": "745416d2",
   "metadata": {},
   "source": [
    "\n",
    "# series 생성하기\n",
    "    * date로만 생성하기\n",
    "        * index는 명시하지 않으면 0부터 자동 생성\n"
   ]
  },
  {
   "cell_type": "code",
   "execution_count": 4,
   "id": "81a2c82e",
   "metadata": {},
   "outputs": [
    {
     "name": "stderr",
     "output_type": "stream",
     "text": [
      "<ipython-input-4-e579c7fb5a19>:2: DeprecationWarning: The default dtype for empty Series will be 'object' instead of 'float64' in a future version. Specify a dtype explicitly to silence this warning.\n",
      "  blank_s=pd.Series()\n"
     ]
    },
    {
     "data": {
      "text/plain": [
       "Series([], dtype: float64)"
      ]
     },
     "execution_count": 4,
     "metadata": {},
     "output_type": "execute_result"
    }
   ],
   "source": [
    "# 문법:변수=pd.SEries()\n",
    "blank_s=pd.Series()\n",
    "blank_s  # dtype(datetype): float64)"
   ]
  },
  {
   "cell_type": "code",
   "execution_count": 5,
   "id": "e9a1d6a8",
   "metadata": {},
   "outputs": [
    {
     "data": {
      "text/plain": [
       "0    1\n",
       "dtype: int64"
      ]
     },
     "execution_count": 5,
     "metadata": {},
     "output_type": "execute_result"
    }
   ],
   "source": [
    "s0=pd.Series(1)   # 인덱스 명시하지 않고,데이터 1개로 생성-인덱스는 0부터 시작하는 0-based 인덱스 생성\n",
    "s0"
   ]
  },
  {
   "cell_type": "code",
   "execution_count": 6,
   "id": "643de918",
   "metadata": {},
   "outputs": [
    {
     "data": {
      "text/plain": [
       "1"
      ]
     },
     "execution_count": 6,
     "metadata": {},
     "output_type": "execute_result"
    }
   ],
   "source": [
    "s0[0]    #0번 인덱스 원소값"
   ]
  },
  {
   "cell_type": "code",
   "execution_count": 7,
   "id": "6b026cea",
   "metadata": {},
   "outputs": [
    {
     "ename": "TypeError",
     "evalue": "Index(...) must be called with a collection of some kind, 2 was passed",
     "output_type": "error",
     "traceback": [
      "\u001b[1;31m---------------------------------------------------------------------------\u001b[0m",
      "\u001b[1;31mTypeError\u001b[0m                                 Traceback (most recent call last)",
      "\u001b[1;32m<ipython-input-7-04eccba355c0>\u001b[0m in \u001b[0;36m<module>\u001b[1;34m\u001b[0m\n\u001b[1;32m----> 1\u001b[1;33m \u001b[0ms1\u001b[0m\u001b[1;33m=\u001b[0m\u001b[0mpd\u001b[0m\u001b[1;33m.\u001b[0m\u001b[0mSeries\u001b[0m\u001b[1;33m(\u001b[0m\u001b[1;36m1\u001b[0m\u001b[1;33m,\u001b[0m\u001b[1;36m2\u001b[0m\u001b[1;33m)\u001b[0m\u001b[1;33m\u001b[0m\u001b[1;33m\u001b[0m\u001b[0m\n\u001b[0m",
      "\u001b[1;32mC:\\ProgramData\\Anaconda3\\lib\\site-packages\\pandas\\core\\series.py\u001b[0m in \u001b[0;36m__init__\u001b[1;34m(self, data, index, dtype, name, copy, fastpath)\u001b[0m\n\u001b[0;32m    279\u001b[0m \u001b[1;33m\u001b[0m\u001b[0m\n\u001b[0;32m    280\u001b[0m             \u001b[1;32mif\u001b[0m \u001b[0mindex\u001b[0m \u001b[1;32mis\u001b[0m \u001b[1;32mnot\u001b[0m \u001b[1;32mNone\u001b[0m\u001b[1;33m:\u001b[0m\u001b[1;33m\u001b[0m\u001b[1;33m\u001b[0m\u001b[0m\n\u001b[1;32m--> 281\u001b[1;33m                 \u001b[0mindex\u001b[0m \u001b[1;33m=\u001b[0m \u001b[0mensure_index\u001b[0m\u001b[1;33m(\u001b[0m\u001b[0mindex\u001b[0m\u001b[1;33m)\u001b[0m\u001b[1;33m\u001b[0m\u001b[1;33m\u001b[0m\u001b[0m\n\u001b[0m\u001b[0;32m    282\u001b[0m \u001b[1;33m\u001b[0m\u001b[0m\n\u001b[0;32m    283\u001b[0m             \u001b[1;32mif\u001b[0m \u001b[0mdata\u001b[0m \u001b[1;32mis\u001b[0m \u001b[1;32mNone\u001b[0m\u001b[1;33m:\u001b[0m\u001b[1;33m\u001b[0m\u001b[1;33m\u001b[0m\u001b[0m\n",
      "\u001b[1;32mC:\\ProgramData\\Anaconda3\\lib\\site-packages\\pandas\\core\\indexes\\base.py\u001b[0m in \u001b[0;36mensure_index\u001b[1;34m(index_like, copy)\u001b[0m\n\u001b[0;32m   5915\u001b[0m             \u001b[0mindex_like\u001b[0m \u001b[1;33m=\u001b[0m \u001b[0mcopy_func\u001b[0m\u001b[1;33m(\u001b[0m\u001b[0mindex_like\u001b[0m\u001b[1;33m)\u001b[0m\u001b[1;33m\u001b[0m\u001b[1;33m\u001b[0m\u001b[0m\n\u001b[0;32m   5916\u001b[0m \u001b[1;33m\u001b[0m\u001b[0m\n\u001b[1;32m-> 5917\u001b[1;33m     \u001b[1;32mreturn\u001b[0m \u001b[0mIndex\u001b[0m\u001b[1;33m(\u001b[0m\u001b[0mindex_like\u001b[0m\u001b[1;33m)\u001b[0m\u001b[1;33m\u001b[0m\u001b[1;33m\u001b[0m\u001b[0m\n\u001b[0m\u001b[0;32m   5918\u001b[0m \u001b[1;33m\u001b[0m\u001b[0m\n\u001b[0;32m   5919\u001b[0m \u001b[1;33m\u001b[0m\u001b[0m\n",
      "\u001b[1;32mC:\\ProgramData\\Anaconda3\\lib\\site-packages\\pandas\\core\\indexes\\base.py\u001b[0m in \u001b[0;36m__new__\u001b[1;34m(cls, data, dtype, copy, name, tupleize_cols, **kwargs)\u001b[0m\n\u001b[0;32m    370\u001b[0m \u001b[1;33m\u001b[0m\u001b[0m\n\u001b[0;32m    371\u001b[0m         \u001b[1;32melif\u001b[0m \u001b[0mdata\u001b[0m \u001b[1;32mis\u001b[0m \u001b[1;32mNone\u001b[0m \u001b[1;32mor\u001b[0m \u001b[0mis_scalar\u001b[0m\u001b[1;33m(\u001b[0m\u001b[0mdata\u001b[0m\u001b[1;33m)\u001b[0m\u001b[1;33m:\u001b[0m\u001b[1;33m\u001b[0m\u001b[1;33m\u001b[0m\u001b[0m\n\u001b[1;32m--> 372\u001b[1;33m             \u001b[1;32mraise\u001b[0m \u001b[0mcls\u001b[0m\u001b[1;33m.\u001b[0m\u001b[0m_scalar_data_error\u001b[0m\u001b[1;33m(\u001b[0m\u001b[0mdata\u001b[0m\u001b[1;33m)\u001b[0m\u001b[1;33m\u001b[0m\u001b[1;33m\u001b[0m\u001b[0m\n\u001b[0m\u001b[0;32m    373\u001b[0m         \u001b[1;32melif\u001b[0m \u001b[0mhasattr\u001b[0m\u001b[1;33m(\u001b[0m\u001b[0mdata\u001b[0m\u001b[1;33m,\u001b[0m \u001b[1;34m\"__array__\"\u001b[0m\u001b[1;33m)\u001b[0m\u001b[1;33m:\u001b[0m\u001b[1;33m\u001b[0m\u001b[1;33m\u001b[0m\u001b[0m\n\u001b[0;32m    374\u001b[0m             \u001b[1;32mreturn\u001b[0m \u001b[0mIndex\u001b[0m\u001b[1;33m(\u001b[0m\u001b[0mnp\u001b[0m\u001b[1;33m.\u001b[0m\u001b[0masarray\u001b[0m\u001b[1;33m(\u001b[0m\u001b[0mdata\u001b[0m\u001b[1;33m)\u001b[0m\u001b[1;33m,\u001b[0m \u001b[0mdtype\u001b[0m\u001b[1;33m=\u001b[0m\u001b[0mdtype\u001b[0m\u001b[1;33m,\u001b[0m \u001b[0mcopy\u001b[0m\u001b[1;33m=\u001b[0m\u001b[0mcopy\u001b[0m\u001b[1;33m,\u001b[0m \u001b[0mname\u001b[0m\u001b[1;33m=\u001b[0m\u001b[0mname\u001b[0m\u001b[1;33m,\u001b[0m \u001b[1;33m**\u001b[0m\u001b[0mkwargs\u001b[0m\u001b[1;33m)\u001b[0m\u001b[1;33m\u001b[0m\u001b[1;33m\u001b[0m\u001b[0m\n",
      "\u001b[1;31mTypeError\u001b[0m: Index(...) must be called with a collection of some kind, 2 was passed"
     ]
    }
   ],
   "source": [
    "# 인덱스는 하나의 원소값을 갖는다.밑부분은 원소 두개를 가질시에 생기는 오류\n",
    "s1=pd.Series(1,2)\n",
    "s1"
   ]
  },
  {
   "cell_type": "code",
   "execution_count": 9,
   "id": "587d29fc",
   "metadata": {},
   "outputs": [
    {
     "data": {
      "text/plain": [
       "0    1.0\n",
       "1    2.3\n",
       "dtype: float64"
      ]
     },
     "execution_count": 9,
     "metadata": {},
     "output_type": "execute_result"
    }
   ],
   "source": [
    "# 2개 이상의 원소값을 갖는 시리즈 생성 시-리스트 ,튜플,딕셔너리 등을 활용해야 함\n",
    "s1=pd.Series([1,2.3])\n",
    "s1"
   ]
  },
  {
   "cell_type": "code",
   "execution_count": 11,
   "id": "8f45b5ec",
   "metadata": {},
   "outputs": [
    {
     "data": {
      "text/plain": [
       "0    1.0\n",
       "1    2.0\n",
       "2    3.5\n",
       "dtype: float64"
      ]
     },
     "execution_count": 11,
     "metadata": {},
     "output_type": "execute_result"
    }
   ],
   "source": [
    "# 서로 다른 데이터 타입의 원소를 갖는 리스트이용-시리즈\n",
    "\n",
    "s1_1=pd.Series([1,2.0,3.5])   #float64 형태의 시리즈\n",
    "s1_1 \n"
   ]
  },
  {
   "cell_type": "code",
   "execution_count": 12,
   "id": "f4506c5e",
   "metadata": {},
   "outputs": [
    {
     "data": {
      "text/plain": [
       "0      a\n",
       "1      1\n",
       "2    5.0\n",
       "dtype: object"
      ]
     },
     "execution_count": 12,
     "metadata": {},
     "output_type": "execute_result"
    }
   ],
   "source": [
    "s1_2=pd.Series([\"a\",1,5.0])   #dtype: object: 숫자와 문자가 혼용되면 문자형태 원소로 시리즈를 만듬\n",
    "s1_2 "
   ]
  },
  {
   "cell_type": "code",
   "execution_count": 19,
   "id": "faa6584f",
   "metadata": {},
   "outputs": [
    {
     "data": {
      "text/plain": [
       "0    1\n",
       "1    2\n",
       "2    3\n",
       "dtype: int64"
      ]
     },
     "execution_count": 19,
     "metadata": {},
     "output_type": "execute_result"
    }
   ],
   "source": [
    "s1_3=pd.Series([1,2,3,])   # 류플로 시르즈만들기-리스트와 동일 \n",
    "s1_3 "
   ]
  },
  {
   "cell_type": "markdown",
   "id": "d07ef7f3",
   "metadata": {},
   "source": [
    "\n",
    "- 범위를 시리즈의 value 생성하는데 사용하기 -     range()/np.arange()\n"
   ]
  },
  {
   "cell_type": "code",
   "execution_count": 20,
   "id": "9dd74af5",
   "metadata": {},
   "outputs": [
    {
     "data": {
      "text/plain": [
       "0    10\n",
       "1    11\n",
       "2    12\n",
       "3    13\n",
       "dtype: int64"
      ]
     },
     "execution_count": 20,
     "metadata": {},
     "output_type": "execute_result"
    }
   ],
   "source": [
    "s=pd.Series(range(10,14))\n",
    "s"
   ]
  },
  {
   "cell_type": "code",
   "execution_count": 21,
   "id": "3a3fb30b",
   "metadata": {},
   "outputs": [
    {
     "data": {
      "text/plain": [
       "0        0\n",
       "1        1\n",
       "2        2\n",
       "3        3\n",
       "4        4\n",
       "      ... \n",
       "195    195\n",
       "196    196\n",
       "197    197\n",
       "198    198\n",
       "199    199\n",
       "Length: 200, dtype: int32"
      ]
     },
     "execution_count": 21,
     "metadata": {},
     "output_type": "execute_result"
    }
   ],
   "source": [
    "s=pd.Series(np.arange(200))\n",
    "s"
   ]
  },
  {
   "cell_type": "markdown",
   "id": "e1240afb",
   "metadata": {},
   "source": [
    "- 결측값을 포함해서 시리즈를  만들기\n",
    "    - 결측값은 NaN: numpy라는 모듈의 nan 속성을 통해서 생성 가능 ->np,nan\n",
    "              "
   ]
  },
  {
   "cell_type": "code",
   "execution_count": 22,
   "id": "782e555e",
   "metadata": {},
   "outputs": [
    {
     "data": {
      "text/plain": [
       "0    1.0\n",
       "1    2.0\n",
       "2    3.0\n",
       "3    NaN\n",
       "4    6.0\n",
       "5    8.0\n",
       "dtype: float64"
      ]
     },
     "execution_count": 22,
     "metadata": {},
     "output_type": "execute_result"
    }
   ],
   "source": [
    "s=pd.Series([1,2,3,np.nan,6,8])    # 결측치 NaN은 float으로 처리가 됨\n",
    "s"
   ]
  },
  {
   "cell_type": "markdown",
   "id": "88ed9401",
   "metadata": {},
   "source": [
    "- 인덱스 명시해서 시리즈 만들기\n",
    "    - 숫자 인덱스 지정/문자 인덱스 지정\n",
    "    - 변수= pd.Series([값1,값2,.....],index=[인덱스1,인덱스2,....])"
   ]
  },
  {
   "cell_type": "code",
   "execution_count": 25,
   "id": "9f9b098d",
   "metadata": {},
   "outputs": [
    {
     "data": {
      "text/plain": [
       "1    10\n",
       "2    20\n",
       "3    30\n",
       "dtype: int64"
      ]
     },
     "execution_count": 25,
     "metadata": {},
     "output_type": "execute_result"
    }
   ],
   "source": [
    "# 인덱스 명시해서 시리즈 생성(수치 인덱스)\n",
    "s=pd.Series([10,20,30], index=[1,2,3])\n",
    "s"
   ]
  },
  {
   "cell_type": "code",
   "execution_count": 26,
   "id": "90c8490d",
   "metadata": {},
   "outputs": [
    {
     "data": {
      "text/plain": [
       "홍길동    10\n",
       "이몽룡    20\n",
       "성춘향    30\n",
       "dtype: int64"
      ]
     },
     "execution_count": 26,
     "metadata": {},
     "output_type": "execute_result"
    }
   ],
   "source": [
    "# 인덱스 명시해서 시리즈 생성(문자 인덱스)\n",
    "s=pd.Series([10,20,30], index=[\"홍길동\",\"이몽룡\",\"성춘향\"])\n",
    "s"
   ]
  },
  {
   "cell_type": "markdown",
   "id": "8096d518",
   "metadata": {},
   "source": [
    "- 인덱스 활용:\n",
    "    - 시리즈의 index는 index 속성으로 접근\n",
    "    "
   ]
  },
  {
   "cell_type": "code",
   "execution_count": 28,
   "id": "ae4e2798",
   "metadata": {},
   "outputs": [
    {
     "data": {
      "text/plain": [
       "Index(['홍길동', '이몽룡', '성춘향'], dtype='object')"
      ]
     },
     "execution_count": 28,
     "metadata": {},
     "output_type": "execute_result"
    }
   ],
   "source": [
    "# 시리즈명.index\n",
    "\n",
    "s.index"
   ]
  },
  {
   "cell_type": "markdown",
   "id": "29e72eb3",
   "metadata": {},
   "source": [
    "-시리즈.index.name 속성\n",
    "\n",
    "    - 시리즈이 인덱스에 이름을 붙을 수 있음"
   ]
  },
  {
   "cell_type": "code",
   "execution_count": 30,
   "id": "1c6afd1e",
   "metadata": {},
   "outputs": [
    {
     "data": {
      "text/plain": [
       "홍길동    10\n",
       "이몽룡    20\n",
       "성춘향    30\n",
       "dtype: int64"
      ]
     },
     "execution_count": 30,
     "metadata": {},
     "output_type": "execute_result"
    }
   ],
   "source": [
    "s=pd.Series([10,20,30], index=[\"홍길동\",\"이몽룡\",\"성춘향\"])\n",
    "s"
   ]
  },
  {
   "cell_type": "code",
   "execution_count": 31,
   "id": "bf6f2788",
   "metadata": {},
   "outputs": [
    {
     "data": {
      "text/plain": [
       "이름\n",
       "홍길동    10\n",
       "이몽룡    20\n",
       "성춘향    30\n",
       "dtype: int64"
      ]
     },
     "execution_count": 31,
     "metadata": {},
     "output_type": "execute_result"
    }
   ],
   "source": [
    "s.index.name=\"이름\"\n",
    "s"
   ]
  },
  {
   "cell_type": "markdown",
   "id": "e2ecd66f",
   "metadata": {},
   "source": [
    "예제 df 생성\n"
   ]
  },
  {
   "cell_type": "code",
   "execution_count": 32,
   "id": "032d5e44",
   "metadata": {},
   "outputs": [
    {
     "data": {
      "text/plain": [
       "Index(['서울', '부산', '인천', '대구'], dtype='object')"
      ]
     },
     "execution_count": 32,
     "metadata": {},
     "output_type": "execute_result"
    }
   ],
   "source": [
    "s= pd.Series([9904312,3448737,289045,2466052],\n",
    "            index=[\"서울\",\"부산\",\"인천\",\"대구\"]) #dtype='object' datatype = '문자열객체'\n",
    "s.index\n"
   ]
  },
  {
   "cell_type": "code",
   "execution_count": 34,
   "id": "3eb3d68f",
   "metadata": {},
   "outputs": [
    {
     "data": {
      "text/plain": [
       "도시\n",
       "서울    9904312\n",
       "부산    3448737\n",
       "인천     289045\n",
       "대구    2466052\n",
       "dtype: int64"
      ]
     },
     "execution_count": 34,
     "metadata": {},
     "output_type": "execute_result"
    }
   ],
   "source": [
    "s.index.name=\"도시\"\n",
    "s"
   ]
  },
  {
   "cell_type": "markdown",
   "id": "bef552b8",
   "metadata": {},
   "source": [
    "시리즈의 실제 값 추출=> 시리즈.values 속성 사용"
   ]
  },
  {
   "cell_type": "code",
   "execution_count": 35,
   "id": "8482622b",
   "metadata": {},
   "outputs": [
    {
     "data": {
      "text/plain": [
       "array([9904312, 3448737,  289045, 2466052], dtype=int64)"
      ]
     },
     "execution_count": 35,
     "metadata": {},
     "output_type": "execute_result"
    }
   ],
   "source": [
    "s.values            #array 구조로 반환"
   ]
  },
  {
   "cell_type": "markdown",
   "id": "fe4a05c7",
   "metadata": {},
   "source": [
    "- 시리즈.name 속성\n",
    "\n",
    "    - 시리즈 데이터(value)에 이름을 붙일 수 있다\n",
    "    - name 속성은 값의 의미 전달에 사용"
   ]
  },
  {
   "cell_type": "code",
   "execution_count": 36,
   "id": "eeef517b",
   "metadata": {},
   "outputs": [
    {
     "data": {
      "text/plain": [
       "도시\n",
       "서울    9904312\n",
       "부산    3448737\n",
       "인천     289045\n",
       "대구    2466052\n",
       "Name: 인구, dtype: int64"
      ]
     },
     "execution_count": 36,
     "metadata": {},
     "output_type": "execute_result"
    }
   ],
   "source": [
    "s.name=\"인구\"\n",
    "s"
   ]
  },
  {
   "cell_type": "markdown",
   "id": "19b8aacf",
   "metadata": {},
   "source": [
    "##### 딕셔너리로 시리즈 만들기\n",
    "- Series({key:value,key1:value1....})\n",
    "- 인덱스 -> key\n",
    "- 값 -> value\n",
    "- key가  인덱스로 처리 되므로 명시적으로 인덱스를 설정하게 된다"
   ]
  },
  {
   "cell_type": "code",
   "execution_count": 37,
   "id": "8e0be5fe",
   "metadata": {},
   "outputs": [
    {
     "data": {
      "text/plain": [
       "홍길동     96\n",
       "이몽룡    100\n",
       "성춘향     88\n",
       "dtype: int64"
      ]
     },
     "execution_count": 37,
     "metadata": {},
     "output_type": "execute_result"
    }
   ],
   "source": [
    "scores={\"홍길동\":96,\"이몽룡\":100,\"성춘향\":88}\n",
    "s=pd.Series(scores)\n",
    "s"
   ]
  },
  {
   "cell_type": "code",
   "execution_count": 39,
   "id": "f838e259",
   "metadata": {},
   "outputs": [
    {
     "data": {
      "text/plain": [
       "서울    9631482\n",
       "부산    3393191\n",
       "인천    2632035\n",
       "대전    1490158\n",
       "dtype: int64"
      ]
     },
     "execution_count": 39,
     "metadata": {},
     "output_type": "execute_result"
    }
   ],
   "source": [
    "city={\"서울\":9631482, \"부산\":3393191 , \"인천\":2632035, \"대전\":1490158}\n",
    "s=pd.Series(city)\n",
    "s"
   ]
  },
  {
   "cell_type": "markdown",
   "id": "f3f9bf7f",
   "metadata": {},
   "source": [
    "- 딕셔너리의 원소는 순서를 갖지 않는다.\n",
    "    - 딕셔너리로 생성된 시리즈의 원소도 순서가 보장되지 않는다.\n",
    "    - 만약 순서를 보장하고 싶으면 인덱스를 리스트로 지정해야 한다.\n"
   ]
  },
  {
   "cell_type": "code",
   "execution_count": 40,
   "id": "56e69870",
   "metadata": {},
   "outputs": [
    {
     "data": {
      "text/plain": [
       "부산    3393191\n",
       "인천    2632035\n",
       "서울    9631482\n",
       "대전    1490158\n",
       "dtype: int64"
      ]
     },
     "execution_count": 40,
     "metadata": {},
     "output_type": "execute_result"
    }
   ],
   "source": [
    "s2=pd.Series(city,index=[\"부산\",\"인천\",\"서울\",\"대전\"])\n",
    "s2"
   ]
  },
  {
   "cell_type": "markdown",
   "id": "8a0f0ac9",
   "metadata": {},
   "source": [
    "#### 인덱싱:\n",
    "    - 데이터에서 특정한 데이터를 추출하는 것"
   ]
  },
  {
   "cell_type": "markdown",
   "id": "60208fb0",
   "metadata": {},
   "source": [
    "#### 시리즈의 인덱싱 종류\n",
    "\n",
    "1. 정수형 위치 인덱스(integer position)\n",
    "2. 인덱스 이름(index name) 또는  인덱스 라벨(index label)\n",
    "\n",
    "    - 인덱스 별도 지정하지 않으면 0부터 시작하는 정수형 인덱스가 지정됨\n",
    "    \n",
    "    \n",
    "##### 원소 접근\n",
    "    - 정수형 인덱스 : 숫자 s[0]\n",
    "    - 문자형 인덱스 : 문자 s[\"인천\"]\n"
   ]
  },
  {
   "cell_type": "code",
   "execution_count": 42,
   "id": "7a46cc8d",
   "metadata": {},
   "outputs": [
    {
     "name": "stdout",
     "output_type": "stream",
     "text": [
      "Index(['서울', '부산', '인천', '대전'], dtype='object')\n"
     ]
    },
    {
     "data": {
      "text/plain": [
       "서울    9631482\n",
       "부산    3393191\n",
       "인천    2632035\n",
       "대전    1490158\n",
       "dtype: int64"
      ]
     },
     "execution_count": 42,
     "metadata": {},
     "output_type": "execute_result"
    }
   ],
   "source": [
    "print(s.index)\n",
    "s\n"
   ]
  },
  {
   "cell_type": "code",
   "execution_count": 43,
   "id": "4a04a8ca",
   "metadata": {},
   "outputs": [
    {
     "data": {
      "text/plain": [
       "9631482"
      ]
     },
     "execution_count": 43,
     "metadata": {},
     "output_type": "execute_result"
    }
   ],
   "source": [
    "# 위치 인덱스\n",
    "s[0]  # 서울의 값"
   ]
  },
  {
   "cell_type": "code",
   "execution_count": 44,
   "id": "def98600",
   "metadata": {},
   "outputs": [
    {
     "data": {
      "text/plain": [
       "9631482"
      ]
     },
     "execution_count": 44,
     "metadata": {},
     "output_type": "execute_result"
    }
   ],
   "source": [
    "# 라벨 인덱스\n",
    "s[\"서울\"]"
   ]
  },
  {
   "cell_type": "code",
   "execution_count": 45,
   "id": "214a5843",
   "metadata": {},
   "outputs": [
    {
     "data": {
      "text/plain": [
       "1    1\n",
       "2    2\n",
       "3    3\n",
       "dtype: int64"
      ]
     },
     "execution_count": 45,
     "metadata": {},
     "output_type": "execute_result"
    }
   ],
   "source": [
    "### 확인 예제\n",
    "\n",
    "s_1 =pd.Series([1,2,3],index=[1,2,3])\n",
    "s_1\n",
    "\n",
    "\n",
    "\n"
   ]
  },
  {
   "cell_type": "code",
   "execution_count": 46,
   "id": "821683b6",
   "metadata": {},
   "outputs": [
    {
     "data": {
      "text/plain": [
       "1"
      ]
     },
     "execution_count": 46,
     "metadata": {},
     "output_type": "execute_result"
    }
   ],
   "source": [
    "s_1[1]"
   ]
  },
  {
   "cell_type": "code",
   "execution_count": 48,
   "id": "56c2b35f",
   "metadata": {
    "scrolled": true
   },
   "outputs": [
    {
     "data": {
      "text/plain": [
       "Int64Index([1, 2, 3], dtype='int64')"
      ]
     },
     "execution_count": 48,
     "metadata": {},
     "output_type": "execute_result"
    }
   ],
   "source": [
    "s_1.index\n",
    "  #  s_1[0]  # 인덱스 타입이 정수면 위치 인덱스 사용 불가능          "
   ]
  },
  {
   "cell_type": "code",
   "execution_count": null,
   "id": "16b7250e",
   "metadata": {},
   "outputs": [],
   "source": []
  },
  {
   "cell_type": "code",
   "execution_count": 51,
   "id": "0c61d863",
   "metadata": {},
   "outputs": [
    {
     "data": {
      "text/plain": [
       "(1490158, 1490158)"
      ]
     },
     "execution_count": 51,
     "metadata": {},
     "output_type": "execute_result"
    }
   ],
   "source": [
    "# 한줄에 위치 인덱스,문자 인덱스를 동시에 접근\n",
    "\n",
    "s[3],s[\"대전\"]              #  튜플생성"
   ]
  },
  {
   "cell_type": "code",
   "execution_count": null,
   "id": "c05d543c",
   "metadata": {},
   "outputs": [],
   "source": []
  },
  {
   "cell_type": "code",
   "execution_count": 52,
   "id": "9c16861e",
   "metadata": {},
   "outputs": [
    {
     "name": "stdout",
     "output_type": "stream",
     "text": [
      "서울    9631482\n",
      "부산    3393191\n",
      "인천    2632035\n",
      "대전    1490158\n",
      "dtype: int64\n"
     ]
    },
    {
     "data": {
      "text/plain": [
       "(1490158, 1490158)"
      ]
     },
     "execution_count": 52,
     "metadata": {},
     "output_type": "execute_result"
    }
   ],
   "source": [
    "\n",
    "print(s)               #프린트구문으로 모든 데이터 나타나게 함.왜나면 밑에 한줄만 출력되니깐\n",
    " "
   ]
  },
  {
   "cell_type": "code",
   "execution_count": 54,
   "id": "3af50c58",
   "metadata": {},
   "outputs": [
    {
     "data": {
      "text/plain": [
       "서울    9631482\n",
       "부산    3393191\n",
       "인천    2632035\n",
       "대전    1490158\n",
       "dtype: int64"
      ]
     },
     "execution_count": 54,
     "metadata": {},
     "output_type": "execute_result"
    },
    {
     "data": {
      "text/plain": [
       "(1490158, 1490158)"
      ]
     },
     "execution_count": 54,
     "metadata": {},
     "output_type": "execute_result"
    }
   ],
   "source": [
    "from IPython.core.interactiveshell import InteractiveShell\n",
    "InteractiveShell.ast_node_interactivity=\"all\"     #기본값은 \n",
    "#### 권장 소스는 아님\n",
    "s\n",
    "s[3],s[\"대전\"] "
   ]
  },
  {
   "cell_type": "markdown",
   "id": "6e18aad8",
   "metadata": {},
   "source": [
    "##### 리스트 이용 인덱싱\n",
    "    - 자료의 순서를 바꿔 반환하거나, 특정 자료 여러개를 선택할 때 사용\n",
    "    - 시리즈명[[인덱스1,인덱스2,.....]]"
   ]
  },
  {
   "cell_type": "code",
   "execution_count": 55,
   "id": "dd08abda",
   "metadata": {},
   "outputs": [
    {
     "data": {
      "text/plain": [
       "서울    9631482\n",
       "부산    3393191\n",
       "인천    2632035\n",
       "대전    1490158\n",
       "dtype: int64"
      ]
     },
     "execution_count": 55,
     "metadata": {},
     "output_type": "execute_result"
    },
    {
     "data": {
      "text/plain": [
       "서울    9631482\n",
       "대전    1490158\n",
       "인천    2632035\n",
       "부산    3393191\n",
       "dtype: int64"
      ]
     },
     "execution_count": 55,
     "metadata": {},
     "output_type": "execute_result"
    }
   ],
   "source": [
    "s\n",
    "s[[0,3,2,1]]"
   ]
  },
  {
   "cell_type": "code",
   "execution_count": 56,
   "id": "1101d772",
   "metadata": {},
   "outputs": [
    {
     "data": {
      "text/plain": [
       "서울    9631482\n",
       "인천    2632035\n",
       "dtype: int64"
      ]
     },
     "execution_count": 56,
     "metadata": {},
     "output_type": "execute_result"
    }
   ],
   "source": [
    "s[[\"서울\",\"인천\"]]"
   ]
  },
  {
   "cell_type": "markdown",
   "id": "db4e7ef8",
   "metadata": {},
   "source": [
    "##### 시리즈 슬라이싱을 이용한 인덱싱\n",
    "- 정수형 위치 인덱스를 사용한 슬라이싱\n",
    "    - 시리즈[start:stop+1]\n",
    "- 문자(라벨)인덱스 이용 슬라이싱\n",
    "    - 시리즈['시작라벨':'끝라벨']  : 표시된 라벨 범위 모두 추출\n"
   ]
  },
  {
   "cell_type": "code",
   "execution_count": 57,
   "id": "d44ed73e",
   "metadata": {},
   "outputs": [
    {
     "data": {
      "text/plain": [
       "서울    9631482\n",
       "부산    3393191\n",
       "인천    2632035\n",
       "대전    1490158\n",
       "dtype: int64"
      ]
     },
     "execution_count": 57,
     "metadata": {},
     "output_type": "execute_result"
    }
   ],
   "source": [
    "s\n"
   ]
  },
  {
   "cell_type": "code",
   "execution_count": 58,
   "id": "ca2f2b58",
   "metadata": {},
   "outputs": [
    {
     "data": {
      "text/plain": [
       "부산    3393191\n",
       "인천    2632035\n",
       "dtype: int64"
      ]
     },
     "execution_count": 58,
     "metadata": {},
     "output_type": "execute_result"
    }
   ],
   "source": [
    "# 위치 인덱스 슬라이싱\n",
    "s[1:3]    #[1~2]의 의미"
   ]
  },
  {
   "cell_type": "code",
   "execution_count": 60,
   "id": "459252c5",
   "metadata": {},
   "outputs": [
    {
     "data": {
      "text/plain": [
       "부산    3393191\n",
       "인천    2632035\n",
       "대전    1490158\n",
       "dtype: int64"
      ]
     },
     "execution_count": 60,
     "metadata": {},
     "output_type": "execute_result"
    }
   ],
   "source": [
    "# 문자 인덱스를 이용한 슬라이싱\n",
    "s[\"부산\":\"대전\"]  #표시된 인덱스의 모든 범위"
   ]
  },
  {
   "cell_type": "code",
   "execution_count": 61,
   "id": "2684172e",
   "metadata": {},
   "outputs": [
    {
     "data": {
      "text/plain": [
       "1    1\n",
       "3    2\n",
       "5    3\n",
       "7    4\n",
       "dtype: int64"
      ]
     },
     "execution_count": 61,
     "metadata": {},
     "output_type": "execute_result"
    }
   ],
   "source": [
    "### 슬라이싱 예제 --- 명시적으로 설정한 정수 인덱스를 슬라이싱하면 \n",
    "s_test =pd.Series([1,2,3,4], index=[1,3,5,7])\n",
    "s_test"
   ]
  },
  {
   "cell_type": "code",
   "execution_count": 62,
   "id": "cc45c26a",
   "metadata": {},
   "outputs": [
    {
     "data": {
      "text/plain": [
       "3    2\n",
       "5    3\n",
       "7    4\n",
       "dtype: int64"
      ]
     },
     "execution_count": 62,
     "metadata": {},
     "output_type": "execute_result"
    }
   ],
   "source": [
    "s_test[1:5]"
   ]
  },
  {
   "cell_type": "code",
   "execution_count": 63,
   "id": "b8fd81a6",
   "metadata": {},
   "outputs": [
    {
     "data": {
      "text/plain": [
       "9631482"
      ]
     },
     "execution_count": 63,
     "metadata": {},
     "output_type": "execute_result"
    }
   ],
   "source": [
    "s.서울\n"
   ]
  },
  {
   "cell_type": "code",
   "execution_count": 64,
   "id": "e4b424ac",
   "metadata": {},
   "outputs": [
    {
     "data": {
      "text/plain": [
       "2632035"
      ]
     },
     "execution_count": 64,
     "metadata": {},
     "output_type": "execute_result"
    }
   ],
   "source": [
    "s.인천\n"
   ]
  },
  {
   "cell_type": "code",
   "execution_count": 65,
   "id": "ba9a8f02",
   "metadata": {},
   "outputs": [
    {
     "data": {
      "text/plain": [
       "1    1\n",
       "3    2\n",
       "5    3\n",
       "7    4\n",
       "dtype: int64"
      ]
     },
     "execution_count": 65,
     "metadata": {},
     "output_type": "execute_result"
    }
   ],
   "source": [
    "s_test\n"
   ]
  },
  {
   "cell_type": "code",
   "execution_count": null,
   "id": "056fe683",
   "metadata": {},
   "outputs": [],
   "source": [
    "# s_test.1  #.연산자 이용한 원소 접근은 문자 인덱스만 가능"
   ]
  },
  {
   "cell_type": "markdown",
   "id": "a5804903",
   "metadata": {},
   "source": [
    "#### 인덱싱을 통한 데이터 업데이트\n",
    "\n",
    "- 시리즈명 [인덱스]=데이터값"
   ]
  },
  {
   "cell_type": "code",
   "execution_count": 66,
   "id": "71c7cba2",
   "metadata": {},
   "outputs": [
    {
     "data": {
      "text/plain": [
       "서울    9631482\n",
       "부산    3393191\n",
       "인천    2632035\n",
       "대전    1490158\n",
       "dtype: int64"
      ]
     },
     "execution_count": 66,
     "metadata": {},
     "output_type": "execute_result"
    }
   ],
   "source": [
    "s\n"
   ]
  },
  {
   "cell_type": "code",
   "execution_count": 67,
   "id": "88ae7396",
   "metadata": {},
   "outputs": [
    {
     "data": {
      "text/plain": [
       "서울    10000000\n",
       "부산     3393191\n",
       "인천     2632035\n",
       "대전     1490158\n",
       "dtype: int64"
      ]
     },
     "execution_count": 67,
     "metadata": {},
     "output_type": "execute_result"
    }
   ],
   "source": [
    "s[\"서울\"]=10000000\n",
    "s"
   ]
  },
  {
   "cell_type": "code",
   "execution_count": 69,
   "id": "996c1b6b",
   "metadata": {},
   "outputs": [
    {
     "data": {
      "text/plain": [
       "Index(['서울', '부산', '인천', '대전'], dtype='object')"
      ]
     },
     "execution_count": 69,
     "metadata": {},
     "output_type": "execute_result"
    },
    {
     "data": {
      "text/plain": [
       "서울    0\n",
       "부산    1\n",
       "인천    2\n",
       "대전    3\n",
       "dtype: int32"
      ]
     },
     "execution_count": 69,
     "metadata": {},
     "output_type": "execute_result"
    }
   ],
   "source": [
    "s.index\n",
    "s1=pd.Series(np.arange(4),s.index)\n",
    "s1"
   ]
  },
  {
   "cell_type": "markdown",
   "id": "da1f2188",
   "metadata": {},
   "source": [
    "### 시리즈 연산"
   ]
  },
  {
   "cell_type": "code",
   "execution_count": 70,
   "id": "d9727c3d",
   "metadata": {},
   "outputs": [
    {
     "data": {
      "text/plain": [
       "서울    10000000\n",
       "부산     3393191\n",
       "인천     2632035\n",
       "대전     1490158\n",
       "dtype: int64"
      ]
     },
     "execution_count": 70,
     "metadata": {},
     "output_type": "execute_result"
    }
   ],
   "source": [
    "# 에제 시리즈\n",
    "s\n",
    "# 서울    10000000\n",
    "# 부산     3393191\n",
    "# 인천     2632035\n",
    "# 대전     1490158\n",
    "# dtype: int64"
   ]
  },
  {
   "cell_type": "markdown",
   "id": "5af99306",
   "metadata": {},
   "source": [
    "##### 벡터화 연산\n",
    "- numpy 배열처럼 pandas의 시리즈도 벡터화 연산 가능 \n",
    "- 벡터화 연산이란 집합적 자료형의 원소 각각을 독립적으로 계산을 진행하는 방법\n",
    "    - 단, 연산은 시리즈의 값에만 적용되며 인덱스 값은 변경 불가\n"
   ]
  },
  {
   "cell_type": "code",
   "execution_count": 71,
   "id": "db88d163",
   "metadata": {},
   "outputs": [
    {
     "data": {
      "text/plain": [
       "0    5\n",
       "1    6\n",
       "2    7\n",
       "dtype: int64"
      ]
     },
     "execution_count": 71,
     "metadata": {},
     "output_type": "execute_result"
    }
   ],
   "source": [
    "pd.Series([1,2,3])+4\n"
   ]
  },
  {
   "cell_type": "code",
   "execution_count": 73,
   "id": "d97d8c8c",
   "metadata": {},
   "outputs": [
    {
     "data": {
      "text/plain": [
       "서울    10.000000\n",
       "부산     3.393191\n",
       "인천     2.632035\n",
       "대전     1.490158\n",
       "dtype: float64"
      ]
     },
     "execution_count": 73,
     "metadata": {},
     "output_type": "execute_result"
    }
   ],
   "source": [
    "# s 시리즈의 값은 1/1000000 변환\n",
    "\n",
    "s/1000000\n"
   ]
  },
  {
   "cell_type": "code",
   "execution_count": 76,
   "id": "5786eea8",
   "metadata": {},
   "outputs": [
    {
     "data": {
      "text/plain": [
       "서울    False\n",
       "부산     True\n",
       "인천     True\n",
       "대전    False\n",
       "dtype: bool"
      ]
     },
     "execution_count": 76,
     "metadata": {},
     "output_type": "execute_result"
    },
    {
     "data": {
      "text/plain": [
       "부산    3393191\n",
       "인천    2632035\n",
       "dtype: int64"
      ]
     },
     "execution_count": 76,
     "metadata": {},
     "output_type": "execute_result"
    }
   ],
   "source": [
    "# 벡터화 인덱싱-인덱싱에 조건식을 활용 할 수 있다.\n",
    "# 시리즈 s의 원소 값 중 2500000(250e4)보다 크고 5000000(500e4) 보다 작은 원소를 추출\n",
    "# 시리즈명[조건식]-각 원소의 값 모두를 각각 조건식으로 확인해서 결과가 true인 원소만 추출\n",
    "\n",
    "(s>250e4) & (s<500e4)\n",
    "s[(s>250e4) & (s<500e4)]"
   ]
  },
  {
   "cell_type": "markdown",
   "id": "62cc5f95",
   "metadata": {},
   "source": [
    "#### **Boolean selection**\n",
    "  - boolean Series가 []와 함께 사용되면 True 값에 해당하는 값만 새로 반환되는 Series객체에 포함됨\n",
    "  - 다중조건의 경우, &(and), |(or)를 사용하여 연결 가능\n"
   ]
  },
  {
   "cell_type": "code",
   "execution_count": 77,
   "id": "f39fe5cb",
   "metadata": {},
   "outputs": [
    {
     "data": {
      "text/plain": [
       "1     0\n",
       "2     1\n",
       "3     2\n",
       "4     3\n",
       "5     4\n",
       "6     5\n",
       "7     6\n",
       "8     7\n",
       "9     8\n",
       "10    9\n",
       "dtype: int32"
      ]
     },
     "execution_count": 77,
     "metadata": {},
     "output_type": "execute_result"
    }
   ],
   "source": [
    "s0 = pd.Series(np.arange(10), np.arange(10)+1)\n",
    "s0\n"
   ]
  },
  {
   "cell_type": "code",
   "execution_count": 78,
   "id": "0636a437",
   "metadata": {},
   "outputs": [
    {
     "data": {
      "text/plain": [
       "1     False\n",
       "2     False\n",
       "3     False\n",
       "4     False\n",
       "5     False\n",
       "6     False\n",
       "7      True\n",
       "8      True\n",
       "9      True\n",
       "10     True\n",
       "dtype: bool"
      ]
     },
     "execution_count": 78,
     "metadata": {},
     "output_type": "execute_result"
    }
   ],
   "source": [
    "s0>5"
   ]
  },
  {
   "cell_type": "code",
   "execution_count": 79,
   "id": "25b80733",
   "metadata": {},
   "outputs": [
    {
     "data": {
      "text/plain": [
       "7     6\n",
       "8     7\n",
       "9     8\n",
       "10    9\n",
       "dtype: int32"
      ]
     },
     "execution_count": 79,
     "metadata": {},
     "output_type": "execute_result"
    }
   ],
   "source": [
    "s0[s0>5]   "
   ]
  },
  {
   "cell_type": "code",
   "execution_count": 80,
   "id": "5907ed5c",
   "metadata": {},
   "outputs": [
    {
     "data": {
      "text/plain": [
       "1"
      ]
     },
     "execution_count": 80,
     "metadata": {},
     "output_type": "execute_result"
    }
   ],
   "source": [
    "s0[1]+1\n"
   ]
  },
  {
   "cell_type": "code",
   "execution_count": 81,
   "id": "fa72077a",
   "metadata": {},
   "outputs": [
    {
     "data": {
      "text/plain": [
       "1      True\n",
       "2     False\n",
       "3      True\n",
       "4     False\n",
       "5      True\n",
       "6     False\n",
       "7      True\n",
       "8     False\n",
       "9      True\n",
       "10    False\n",
       "dtype: bool"
      ]
     },
     "execution_count": 81,
     "metadata": {},
     "output_type": "execute_result"
    },
    {
     "data": {
      "text/plain": [
       "1    0\n",
       "3    2\n",
       "5    4\n",
       "7    6\n",
       "9    8\n",
       "dtype: int32"
      ]
     },
     "execution_count": 81,
     "metadata": {},
     "output_type": "execute_result"
    }
   ],
   "source": [
    "# s0 시리즈의 원소 값 중 짝수 원소 값을 추출하시오\n",
    "s0%2==0\n",
    "s0[s0%2==0]"
   ]
  },
  {
   "cell_type": "code",
   "execution_count": 82,
   "id": "2a98f1a1",
   "metadata": {},
   "outputs": [
    {
     "data": {
      "text/plain": [
       "array([False, False, False, False, False,  True,  True,  True,  True,\n",
       "        True])"
      ]
     },
     "execution_count": 82,
     "metadata": {},
     "output_type": "execute_result"
    }
   ],
   "source": [
    "s0.index>5  #s0의 인덱스 값을 추출해서 벡터화 연산 진행"
   ]
  },
  {
   "cell_type": "code",
   "execution_count": 83,
   "id": "c1d59188",
   "metadata": {},
   "outputs": [
    {
     "data": {
      "text/plain": [
       "6     5\n",
       "7     6\n",
       "8     7\n",
       "9     8\n",
       "10    9\n",
       "dtype: int32"
      ]
     },
     "execution_count": 83,
     "metadata": {},
     "output_type": "execute_result"
    }
   ],
   "source": [
    "s0[s0.index>5 ]  #s0 인덱스값이 5를 초과하는 원소 출력"
   ]
  },
  {
   "cell_type": "code",
   "execution_count": 86,
   "id": "bcc113e6",
   "metadata": {},
   "outputs": [
    {
     "data": {
      "text/plain": [
       "1     False\n",
       "2     False\n",
       "3     False\n",
       "4     False\n",
       "5     False\n",
       "6     False\n",
       "7     False\n",
       "8      True\n",
       "9      True\n",
       "10     True\n",
       "dtype: bool"
      ]
     },
     "execution_count": 86,
     "metadata": {},
     "output_type": "execute_result"
    }
   ],
   "source": [
    "(s0>=7)\n"
   ]
  },
  {
   "cell_type": "code",
   "execution_count": 87,
   "id": "60c28549",
   "metadata": {},
   "outputs": [
    {
     "data": {
      "text/plain": [
       "3"
      ]
     },
     "execution_count": 87,
     "metadata": {},
     "output_type": "execute_result"
    }
   ],
   "source": [
    "(s0>=7).sum() # 각 원소에 대하여 조건식의 결과값이 True인 원소의 개수"
   ]
  },
  {
   "cell_type": "code",
   "execution_count": 88,
   "id": "e483e190",
   "metadata": {},
   "outputs": [
    {
     "data": {
      "text/plain": [
       "8     7\n",
       "9     8\n",
       "10    9\n",
       "dtype: int32"
      ]
     },
     "execution_count": 88,
     "metadata": {},
     "output_type": "execute_result"
    }
   ],
   "source": [
    "s0[s0>=7]"
   ]
  },
  {
   "cell_type": "code",
   "execution_count": 89,
   "id": "1d5b995b",
   "metadata": {},
   "outputs": [
    {
     "data": {
      "text/plain": [
       "24"
      ]
     },
     "execution_count": 89,
     "metadata": {},
     "output_type": "execute_result"
    }
   ],
   "source": [
    "s0[s0>=7].sum()        # 각 원소에 대해 대입한 조건식의 결과값이 True인 원소들의 합"
   ]
  },
  {
   "cell_type": "code",
   "execution_count": null,
   "id": "e4a98c90",
   "metadata": {},
   "outputs": [],
   "source": []
  },
  {
   "cell_type": "markdown",
   "id": "10883e35",
   "metadata": {},
   "source": [
    "- 두 시리즈 간의 연산"
   ]
  },
  {
   "cell_type": "code",
   "execution_count": 94,
   "id": "344b75bd",
   "metadata": {},
   "outputs": [
    {
     "data": {
      "text/plain": [
       "a    1\n",
       "b    2\n",
       "c    3\n",
       "d    4\n",
       "dtype: int64"
      ]
     },
     "execution_count": 94,
     "metadata": {},
     "output_type": "execute_result"
    },
    {
     "data": {
      "text/plain": [
       "b    5\n",
       "c    6\n",
       "d    7\n",
       "a    8\n",
       "dtype: int64"
      ]
     },
     "execution_count": 94,
     "metadata": {},
     "output_type": "execute_result"
    }
   ],
   "source": [
    "num_s1=pd.Series([1,2,3,4], index=[\"a\",\"b\",\"c\",\"d\"])\n",
    "num_s2=pd.Series([5,6,7,8], index=[\"b\",\"c\",\"d\",\"a\"])\n",
    "num_s1\n",
    "num_s2"
   ]
  },
  {
   "cell_type": "code",
   "execution_count": 92,
   "id": "1bee0c46",
   "metadata": {},
   "outputs": [
    {
     "data": {
      "text/plain": [
       "a     9\n",
       "b     7\n",
       "c     9\n",
       "d    11\n",
       "dtype: int64"
      ]
     },
     "execution_count": 92,
     "metadata": {},
     "output_type": "execute_result"
    }
   ],
   "source": [
    "num_s1+num_s2"
   ]
  },
  {
   "cell_type": "code",
   "execution_count": 95,
   "id": "5ab38c92",
   "metadata": {},
   "outputs": [
    {
     "data": {
      "text/plain": [
       "e    1\n",
       "b    2\n",
       "f    3\n",
       "g    4\n",
       "dtype: int64"
      ]
     },
     "execution_count": 95,
     "metadata": {},
     "output_type": "execute_result"
    },
    {
     "data": {
      "text/plain": [
       "b    5\n",
       "c    6\n",
       "d    7\n",
       "a    8\n",
       "dtype: int64"
      ]
     },
     "execution_count": 95,
     "metadata": {},
     "output_type": "execute_result"
    }
   ],
   "source": [
    "num_s3=pd.Series([1,2,3,4], index=[\"e\",\"b\",\"f\",\"g\"])\n",
    "num_s4=pd.Series([5,6,7,8], index=[\"b\",\"c\",\"d\",\"a\"])\n",
    "num_s3\n",
    "num_s4"
   ]
  },
  {
   "cell_type": "code",
   "execution_count": 96,
   "id": "e58a2add",
   "metadata": {},
   "outputs": [
    {
     "data": {
      "text/plain": [
       "a    NaN\n",
       "b    7.0\n",
       "c    NaN\n",
       "d    NaN\n",
       "e    NaN\n",
       "f    NaN\n",
       "g    NaN\n",
       "dtype: float64"
      ]
     },
     "execution_count": 96,
     "metadata": {},
     "output_type": "execute_result"
    }
   ],
   "source": [
    "num_s3+num_s4   #두 시리즈의 인덱스가 다르면 동일한 인덱스 끼리는 연산을 진행하고\n",
    "                # 나머지는 인덱스 연산 처리가 불가 해     NaN 처리               "
   ]
  },
  {
   "cell_type": "code",
   "execution_count": 101,
   "id": "0bb1089e",
   "metadata": {},
   "outputs": [
    {
     "data": {
      "text/plain": [
       "array([4, 4, 4, 4], dtype=int64)"
      ]
     },
     "execution_count": 101,
     "metadata": {},
     "output_type": "execute_result"
    }
   ],
   "source": [
    "num_s4.values-num_s3.values\n",
    "\n",
    "# values 속성을 사용하면 시리즈의 형태가 사라지므로 동일한 위치 원소들끼리 연산\n",
    "# 시리즈의 values는 array 형태를 반환"
   ]
  },
  {
   "cell_type": "code",
   "execution_count": 99,
   "id": "5b869052",
   "metadata": {},
   "outputs": [
    {
     "data": {
      "text/plain": [
       "array([1, 2, 3, 4], dtype=int64)"
      ]
     },
     "execution_count": 99,
     "metadata": {},
     "output_type": "execute_result"
    }
   ],
   "source": [
    "num_s3.values "
   ]
  },
  {
   "cell_type": "code",
   "execution_count": 100,
   "id": "09890e90",
   "metadata": {},
   "outputs": [
    {
     "data": {
      "text/plain": [
       "array([5, 6, 7, 8], dtype=int64)"
      ]
     },
     "execution_count": 100,
     "metadata": {},
     "output_type": "execute_result"
    }
   ],
   "source": [
    "num_s4.values"
   ]
  },
  {
   "cell_type": "markdown",
   "id": "c3b2a59b",
   "metadata": {},
   "source": [
    "##### 딕셔너리 와 시리즈의 관계\n",
    "- 시리즈 객체는 라벨(문자)에 의해 인덱싱이 가능\n",
    "- 실질적으로는 라벨을 key로 가지는 딕셔너리 형과 같다고 볼 수 있음\n",
    "- 딕셔너리에서 제공하는 대부분의 연산자 사용 가능\n",
    "    - in 연산자 : T/F\n",
    "    - for 루프를 통해 각 원소의 key와 value에 접근 할수 있다.\n"
   ]
  },
  {
   "cell_type": "markdown",
   "id": "0ad06038",
   "metadata": {},
   "source": [
    "- in연산자 / for 반복문 사용"
   ]
  },
  {
   "cell_type": "code",
   "execution_count": 102,
   "id": "f2091af4",
   "metadata": {},
   "outputs": [
    {
     "data": {
      "text/plain": [
       "서울    10000000\n",
       "부산     3393191\n",
       "인천     2632035\n",
       "대전     1490158\n",
       "dtype: int64"
      ]
     },
     "execution_count": 102,
     "metadata": {},
     "output_type": "execute_result"
    }
   ],
   "source": [
    "s"
   ]
  },
  {
   "cell_type": "code",
   "execution_count": 103,
   "id": "2c708350",
   "metadata": {},
   "outputs": [
    {
     "data": {
      "text/plain": [
       "True"
      ]
     },
     "execution_count": 103,
     "metadata": {},
     "output_type": "execute_result"
    }
   ],
   "source": [
    "# 인덱스가 서울인 원소가 시리즈에 있는지 확인\n",
    "\"서울\" in s #True"
   ]
  },
  {
   "cell_type": "code",
   "execution_count": 104,
   "id": "9ef6ed04",
   "metadata": {},
   "outputs": [
    {
     "data": {
      "text/plain": [
       "True"
      ]
     },
     "execution_count": 104,
     "metadata": {},
     "output_type": "execute_result"
    }
   ],
   "source": [
    "\"대구\" not in s   #True"
   ]
  },
  {
   "cell_type": "code",
   "execution_count": 106,
   "id": "f491f675",
   "metadata": {},
   "outputs": [
    {
     "data": {
      "text/plain": [
       "<zip at 0x97a51c0>"
      ]
     },
     "execution_count": 106,
     "metadata": {},
     "output_type": "execute_result"
    },
    {
     "data": {
      "text/plain": [
       "[('서울', 10000000), ('부산', 3393191), ('인천', 2632035), ('대전', 1490158)]"
      ]
     },
     "execution_count": 106,
     "metadata": {},
     "output_type": "execute_result"
    }
   ],
   "source": [
    "# 딕셔너리의 items() 함수 시리즈에서도 사용 가능\n",
    "s.items()\n",
    "list(s.items())"
   ]
  },
  {
   "cell_type": "code",
   "execution_count": 107,
   "id": "ba2ded22",
   "metadata": {},
   "outputs": [
    {
     "name": "stdout",
     "output_type": "stream",
     "text": [
      "서울=10000000\n",
      "부산=3393191\n",
      "인천=2632035\n",
      "대전=1490158\n"
     ]
    }
   ],
   "source": [
    "# 반복문을 활용해서 시리즈 각 원소 출력 코드\n",
    "for k,v in s.items():\n",
    "    print(\"%s=%d\"%(k,v))"
   ]
  },
  {
   "cell_type": "markdown",
   "id": "c2b9e580",
   "metadata": {},
   "source": [
    "##### 시리즈 데이터의 갱신/추가/삭제\n",
    "    - 인덱싱을 이용하면 딕셔너리 처럼 갱신 추가"
   ]
  },
  {
   "cell_type": "code",
   "execution_count": 108,
   "id": "5e95d7a0",
   "metadata": {},
   "outputs": [
    {
     "data": {
      "text/plain": [
       "서울    10000000\n",
       "부산     3393191\n",
       "인천     2632035\n",
       "대전     1490158\n",
       "dtype: int64"
      ]
     },
     "execution_count": 108,
     "metadata": {},
     "output_type": "execute_result"
    }
   ],
   "source": [
    "s\n"
   ]
  },
  {
   "cell_type": "code",
   "execution_count": 110,
   "id": "82346c18",
   "metadata": {},
   "outputs": [
    {
     "data": {
      "text/plain": [
       "서울    10000000\n",
       "부산     8630000\n",
       "인천     2632035\n",
       "대전     1490158\n",
       "dtype: int64"
      ]
     },
     "execution_count": 110,
     "metadata": {},
     "output_type": "execute_result"
    }
   ],
   "source": [
    "# s 시리즈의 부산의 인구 값을 8630000으로 갱신\n",
    "s[\"부산\"]=8630000\n",
    "s"
   ]
  },
  {
   "cell_type": "code",
   "execution_count": 112,
   "id": "1e3e3e65",
   "metadata": {},
   "outputs": [
    {
     "data": {
      "text/plain": [
       "서울    10000000\n",
       "부산     8630000\n",
       "인천     2632035\n",
       "대전     1490158\n",
       "대구     1875000\n",
       "dtype: int64"
      ]
     },
     "execution_count": 112,
     "metadata": {},
     "output_type": "execute_result"
    }
   ],
   "source": [
    "# 시리즈에 새로운 데이터 추가\n",
    "s[\"대구\"]=1875000\n",
    "s"
   ]
  },
  {
   "cell_type": "code",
   "execution_count": 113,
   "id": "89ba5b8f",
   "metadata": {},
   "outputs": [
    {
     "data": {
      "text/plain": [
       "서울    10000000\n",
       "부산     8630000\n",
       "인천     2632035\n",
       "대구     1875000\n",
       "dtype: int64"
      ]
     },
     "execution_count": 113,
     "metadata": {},
     "output_type": "execute_result"
    }
   ],
   "source": [
    "# 시리즈의 데이터 삭제 : del 명령 사용\n",
    "del s[\"대전\"]\n",
    "s"
   ]
  },
  {
   "cell_type": "markdown",
   "id": "4cdde919",
   "metadata": {},
   "source": [
    "##### Series 함수\n",
    "#### **Series size, shape, unique, count, value_counts 함수**\n",
    " - size 속성 : 개수 반환\n",
    " - shape 속성 : 튜플형태로 shape반환\n",
    " - unique 함수 : 유일한 값만 ndarray로 반환\n",
    " - count 함수: NaN을 제외한 개수를 반환\n",
    " - mean 함수: NaN을 제외한 평균 \n",
    " - value_counts: NaN을 제외하고 각 값들의 빈도를 반환\n"
   ]
  },
  {
   "cell_type": "code",
   "execution_count": null,
   "id": "1c8f89d4",
   "metadata": {},
   "outputs": [],
   "source": []
  },
  {
   "cell_type": "code",
   "execution_count": 114,
   "id": "b185ea2f",
   "metadata": {},
   "outputs": [
    {
     "data": {
      "text/plain": [
       "0     1.0\n",
       "1     1.0\n",
       "2     2.0\n",
       "3     1.0\n",
       "4     2.0\n",
       "5     2.0\n",
       "6     2.0\n",
       "7     1.0\n",
       "8     1.0\n",
       "9     3.0\n",
       "10    3.0\n",
       "11    4.0\n",
       "12    5.0\n",
       "13    5.0\n",
       "14    7.0\n",
       "15    NaN\n",
       "dtype: float64"
      ]
     },
     "execution_count": 114,
     "metadata": {},
     "output_type": "execute_result"
    }
   ],
   "source": [
    "s1 = pd.Series([1, 1, 2, 1, 2, 2, 2, 1, 1, 3, 3, 4, 5, 5, 7, np.NaN])\n",
    "s1\n"
   ]
  },
  {
   "cell_type": "code",
   "execution_count": 115,
   "id": "8911cef2",
   "metadata": {},
   "outputs": [
    {
     "data": {
      "text/plain": [
       "16"
      ]
     },
     "execution_count": 115,
     "metadata": {},
     "output_type": "execute_result"
    }
   ],
   "source": [
    "len(s1)  # NaN 값 포함"
   ]
  },
  {
   "cell_type": "code",
   "execution_count": 116,
   "id": "72765e4f",
   "metadata": {},
   "outputs": [
    {
     "data": {
      "text/plain": [
       "16"
      ]
     },
     "execution_count": 116,
     "metadata": {},
     "output_type": "execute_result"
    }
   ],
   "source": [
    "s1.size   # NaN 값 포함한 개수"
   ]
  },
  {
   "cell_type": "code",
   "execution_count": 117,
   "id": "8fd1aee0",
   "metadata": {},
   "outputs": [
    {
     "data": {
      "text/plain": [
       "(16,)"
      ]
     },
     "execution_count": 117,
     "metadata": {},
     "output_type": "execute_result"
    }
   ],
   "source": [
    "s1.shape  # 차원을 표현하기 때문에 튜플 형태로 출력"
   ]
  },
  {
   "cell_type": "code",
   "execution_count": 118,
   "id": "48bad310",
   "metadata": {},
   "outputs": [
    {
     "data": {
      "text/plain": [
       "array([ 1.,  2.,  3.,  4.,  5.,  7., nan])"
      ]
     },
     "execution_count": 118,
     "metadata": {},
     "output_type": "execute_result"
    }
   ],
   "source": [
    "s1.unique()  # 중복값을 제거한 원소 값 출력"
   ]
  },
  {
   "cell_type": "code",
   "execution_count": 119,
   "id": "a0376997",
   "metadata": {},
   "outputs": [
    {
     "data": {
      "text/plain": [
       "15"
      ]
     },
     "execution_count": 119,
     "metadata": {},
     "output_type": "execute_result"
    }
   ],
   "source": [
    "s1.count()  # NaN 값 을 제거한 원소의 개수"
   ]
  },
  {
   "cell_type": "code",
   "execution_count": 120,
   "id": "1060eff2",
   "metadata": {},
   "outputs": [
    {
     "data": {
      "text/plain": [
       "nan"
      ]
     },
     "execution_count": 120,
     "metadata": {},
     "output_type": "execute_result"
    },
    {
     "data": {
      "text/plain": [
       "2.0"
      ]
     },
     "execution_count": 120,
     "metadata": {},
     "output_type": "execute_result"
    }
   ],
   "source": [
    "a=np.array([2,2,2,2,2,np.NaN])  #결측치 포함\n",
    "b=pd.Series(a)\n",
    "a.mean()   #  np의 array를 평균 계산 - nan이 포함되면 계산불가(nan 반환)\n",
    "b.mean()   # 기본 nan 값을 제외시키고 계산하도록 설정"
   ]
  },
  {
   "cell_type": "code",
   "execution_count": 121,
   "id": "b279e3b3",
   "metadata": {},
   "outputs": [
    {
     "data": {
      "text/plain": [
       "2.6666666666666665"
      ]
     },
     "execution_count": 121,
     "metadata": {},
     "output_type": "execute_result"
    }
   ],
   "source": [
    "s1.mean()"
   ]
  },
  {
   "cell_type": "code",
   "execution_count": 122,
   "id": "c598db06",
   "metadata": {},
   "outputs": [
    {
     "data": {
      "text/plain": [
       "0     1.0\n",
       "1     1.0\n",
       "2     2.0\n",
       "3     1.0\n",
       "4     2.0\n",
       "5     2.0\n",
       "6     2.0\n",
       "7     1.0\n",
       "8     1.0\n",
       "9     3.0\n",
       "10    3.0\n",
       "11    4.0\n",
       "12    5.0\n",
       "13    5.0\n",
       "14    7.0\n",
       "15    NaN\n",
       "dtype: float64"
      ]
     },
     "execution_count": 122,
     "metadata": {},
     "output_type": "execute_result"
    }
   ],
   "source": [
    "s1"
   ]
  },
  {
   "cell_type": "code",
   "execution_count": 124,
   "id": "c0922809",
   "metadata": {},
   "outputs": [
    {
     "data": {
      "text/plain": [
       "1.0    5\n",
       "2.0    4\n",
       "3.0    2\n",
       "5.0    2\n",
       "7.0    1\n",
       "4.0    1\n",
       "dtype: int64"
      ]
     },
     "execution_count": 124,
     "metadata": {},
     "output_type": "execute_result"
    }
   ],
   "source": [
    "s1.value_counts()  # 각 원소들은 같은 값끼리 그룹을 만들고 개수를 세서 반환"
   ]
  },
  {
   "cell_type": "code",
   "execution_count": null,
   "id": "d5737680",
   "metadata": {},
   "outputs": [],
   "source": []
  },
  {
   "cell_type": "code",
   "execution_count": null,
   "id": "e418b3f1",
   "metadata": {},
   "outputs": [],
   "source": []
  }
 ],
 "metadata": {
  "kernelspec": {
   "display_name": "Python 3",
   "language": "python",
   "name": "python3"
  },
  "language_info": {
   "codemirror_mode": {
    "name": "ipython",
    "version": 3
   },
   "file_extension": ".py",
   "mimetype": "text/x-python",
   "name": "python",
   "nbconvert_exporter": "python",
   "pygments_lexer": "ipython3",
   "version": "3.8.8"
  }
 },
 "nbformat": 4,
 "nbformat_minor": 5
}
